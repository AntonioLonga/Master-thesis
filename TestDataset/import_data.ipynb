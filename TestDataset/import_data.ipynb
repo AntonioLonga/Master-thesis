{
 "cells": [
  {
   "cell_type": "markdown",
   "metadata": {},
   "source": [
    "# IMPORT DATA  \n",
    "  \n",
    "### The following sets of methods are used to convert a sets of file into an array of Networkx OBJ.\n",
    "\n",
    "The main method, called \"import_data\", takes as input a folder ( according to the specific of Benchmark Data Sets for Graph Kernels from \"technische universitat dortmund\" --> link: https://ls11-www.cs.tu-dortmund.de/staff/morris/graphkerneldatasets) and the number of graphs."
   ]
  },
  {
   "cell_type": "markdown",
   "metadata": {},
   "source": [
    "### Import libraries"
   ]
  },
  {
   "cell_type": "code",
   "execution_count": 16,
   "metadata": {},
   "outputs": [],
   "source": [
    "import networkx as nx\n",
    "import numpy as np\n",
    "import os\n",
    "import re\n",
    "import pydot\n"
   ]
  },
  {
   "cell_type": "markdown",
   "metadata": {},
   "source": [
    "### Define methods"
   ]
  },
  {
   "cell_type": "code",
   "execution_count": 8,
   "metadata": {},
   "outputs": [],
   "source": [
    "def import_data(folder_name,N):\n",
    "    info={}\n",
    "    files = os.listdir(folder_name)\n",
    "    for f in files:\n",
    "        m = re.search(\"([a-zA-Z]*_)(\\w*)(.txt)\", f)\n",
    "        if(type(m)== re.Match):\n",
    "            info[m.group(2)]=1\n",
    "\n",
    "    #####(folder_name+\"\\\\\"+folder_name+\"_\"+f+\".txt\")\n",
    "\n",
    "\n",
    "\n",
    "    path_A =folder_name+\"\\\\\"+folder_name+\"_A.txt\"\n",
    "    path_graph_indicator =folder_name+\"\\\\\"+folder_name+\"_graph_indicator.txt\"\n",
    "\n",
    "\n",
    "\n",
    "    AA = A_GI(path_A, path_graph_indicator,N) \n",
    "\n",
    "\n",
    "    ### create an array for the node attributes\n",
    "    if(info.get(\"node_attributes\")==1):\n",
    "        path_node_attributes = folder_name+\"\\\\\"+folder_name+\"_node_attributes.txt\"\n",
    "        file = open(path_node_attributes, \"r\") \n",
    "        nodes_attribute=[]\n",
    "        for t in file:\n",
    "            tmp=t.split(',')\n",
    "            tmp = [float(x.strip()) for x in tmp]\n",
    "            nodes_attribute.append(tmp)\n",
    "        file.close()\n",
    "    ### create a set for the node labels\n",
    "    if(info.get(\"node_labels\")==1):\n",
    "        path_node_label = folder_name+\"\\\\\"+folder_name+\"_node_labels.txt\"\n",
    "        file = open(path_node_label, \"r\") \n",
    "        mapping = {}\n",
    "        c=1\n",
    "        for t in file:\n",
    "            mapping[c]=t.rstrip()\n",
    "            c=c+1\n",
    "        file.close()\n",
    "\n",
    "\n",
    "    ### create an array for the edge labels\n",
    "    if(info.get(\"edge_labels\")==1):\n",
    "        path_edge_label = folder_name+\"\\\\\"+folder_name+\"_edge_labels.txt\"\n",
    "        file = open(path_edge_label, \"r\")\n",
    "        mapping_edge = []\n",
    "\n",
    "        for t in file:\n",
    "            mapping_edge.append(t.rstrip())\n",
    "            c=c+1\n",
    "        file.close()\n",
    "\n",
    "\n",
    "\n",
    "    graphs=[]\n",
    "    k=0\n",
    "    count_edge = 0\n",
    "    for edges in AA:\n",
    "\n",
    "        G = nx.Graph()\n",
    "\n",
    "        if(info.get(\"edge_labels\")==1):\n",
    "            # for each edge in edges, add the edge and the label to the graph\n",
    "            for e in edges:\n",
    "                G.add_edge(e[0],e[1],label=mapping_edge[count_edge-1])\n",
    "                count_edge = count_edge + 1\n",
    "        else:\n",
    "            G.add_edges_from(edges)\n",
    "\n",
    "\n",
    "\n",
    "        if(info.get(\"node_attributes\")==1 and info.get(\"node_labels\")==1):\n",
    "            for a in G.nodes():\n",
    "                G.add_node(a, label=mapping[a],vec=nodes_attribute[k])\n",
    "                k = k + 1\n",
    "        elif(info.get(\"node_labels\")==1):\n",
    "            for a in G.nodes():\n",
    "                G.add_node(a, label=mapping[a])\n",
    "\n",
    "        elif(info.get(\"node_attributes\")==1):\n",
    "            for a in G.nodes():\n",
    "                G.add_node(a,vec=nodes_attribute[k])\n",
    "                k = k + 1\n",
    "\n",
    "\n",
    "        graphs.append(G)\n",
    "\n",
    "    return(graphs)\n",
    "\n",
    "\n",
    "\n",
    "# only file A and file graph_indicator\n",
    "def A_GI(path_A, path_graph_indicator,N):\n",
    "    AA=[]\n",
    "\n",
    "    # count number of nodes for each graphs\n",
    "    file = open(path_graph_indicator, \"r\") \n",
    "    \n",
    "    graph_nodes=np.zeros(N)\n",
    "    for t in file:\n",
    "        graph_nodes[int(t)-1]=graph_nodes[int(t)-1]+1\n",
    "    file.close()\n",
    "\n",
    "\n",
    "    # create array of pairs of nodes\n",
    "    file = open(path_A, \"r\") \n",
    "    nodes_pair=[]\n",
    "\n",
    "\n",
    "    for t in file:\n",
    "        t=t.split(\",\")\n",
    "        pairs = [ int(x) for x in t ]\n",
    "        nodes_pair.append(pairs)\n",
    "    file.close()\n",
    "\n",
    "\n",
    "\n",
    "    cum_graph_nodes=np.cumsum(graph_nodes)\n",
    "\n",
    "\n",
    "    previous=0\n",
    "    for i in  cum_graph_nodes:\n",
    "        graph=[]\n",
    "        for j in nodes_pair:\n",
    "            if(previous<=j[0]<=i and previous<=j[1]<=i):\n",
    "                graph.append(j)\n",
    "        AA.append(graph)\n",
    "        previous=i\n",
    "    \n",
    "    return AA"
   ]
  },
  {
   "cell_type": "markdown",
   "metadata": {},
   "source": [
    "### Usage:\n",
    "To use \"import data\" you must specify the folder name and the number of graphs  \n",
    "The imported graph is printed using EDeN method"
   ]
  },
  {
   "cell_type": "code",
   "execution_count": 9,
   "metadata": {},
   "outputs": [
    {
     "name": "stdout",
     "output_type": "stream",
     "text": [
      "{\n",
      "    \"directed\":false,\n",
      "    \"multigraph\":false,\n",
      "    \"graph\":{},\n",
      "    \"nodes\":[\n",
      "        {\n",
      "            \"label\":\"1\",\n",
      "            \"id\":1\n",
      "        },\n",
      "        {\n",
      "            \"label\":\"2\",\n",
      "            \"id\":2\n",
      "        },\n",
      "        {\n",
      "            \"label\":\"1\",\n",
      "            \"id\":3\n",
      "        },\n",
      "        {\n",
      "            \"label\":\"2\",\n",
      "            \"id\":4\n",
      "        }\n",
      "    ],\n",
      "    \"links\":[\n",
      "        {\n",
      "            \"label\":\"1\",\n",
      "            \"source\":1,\n",
      "            \"target\":2\n",
      "        },\n",
      "        {\n",
      "            \"label\":\"3\",\n",
      "            \"source\":1,\n",
      "            \"target\":4\n",
      "        },\n",
      "        {\n",
      "            \"label\":\"2\",\n",
      "            \"source\":2,\n",
      "            \"target\":3\n",
      "        }\n",
      "    ]\n",
      "}\n"
     ]
    }
   ],
   "source": [
    "graphs=import_data(\"MIO\",3)\n",
    "\n",
    "\n",
    "from eden.display import serialize_graph\n",
    "print (serialize_graph(graphs[0]))"
   ]
  },
  {
   "cell_type": "markdown",
   "metadata": {},
   "source": [
    "### Using EDeN the labeled graph is plotted"
   ]
  },
  {
   "cell_type": "code",
   "execution_count": 15,
   "metadata": {},
   "outputs": [
    {
     "name": "stderr",
     "output_type": "stream",
     "text": [
      "C:\\Users\\longa\\Anaconda3\\lib\\site-packages\\networkx\\drawing\\nx_pylab.py:611: MatplotlibDeprecationWarning: isinstance(..., numbers.Number)\n",
      "  if cb.is_numlike(alpha):\n"
     ]
    },
    {
     "data": {
      "image/png": "[encoded data removed]",
      "text/plain": [
       "<Figure size 1080x360 with 1 Axes>"
      ]
     },
     "metadata": {
      "needs_background": "light"
     },
     "output_type": "display_data"
    }
   ],
   "source": [
    "from eden.display import draw_graph\n",
    "draw_graph(graphs[0],  size=15, vertex_size=1500, font_size=14, vertex_border=True, size_x_to_y_ratio=3)\n"
   ]
  }
 ],
 "metadata": {
  "kernelspec": {
   "display_name": "Python 3",
   "language": "python",
   "name": "python3"
  },
  "language_info": {
   "codemirror_mode": {
    "name": "ipython",
    "version": 3
   },
   "file_extension": ".py",
   "mimetype": "text/x-python",
   "name": "python",
   "nbconvert_exporter": "python",
   "pygments_lexer": "ipython3",
   "version": "3.7.1"
  }
 },
 "nbformat": 4,
 "nbformat_minor": 2
}
