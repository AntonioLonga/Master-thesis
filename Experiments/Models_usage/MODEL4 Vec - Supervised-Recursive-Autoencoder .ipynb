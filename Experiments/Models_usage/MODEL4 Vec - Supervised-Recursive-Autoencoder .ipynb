{
 "cells": [
  {
   "cell_type": "code",
   "execution_count": 1,
   "metadata": {},
   "outputs": [
    {
     "data": {
      "text/html": [
       "<style>.container { width:97% !important; }</style><style>.output_png {display: table-cell;text-align: center;vertical-align: middle;}</style>"
      ],
      "text/plain": [
       "<IPython.core.display.HTML object>"
      ]
     },
     "execution_count": 1,
     "metadata": {},
     "output_type": "execute_result"
    }
   ],
   "source": [
    "%load_ext autoreload\n",
    "%autoreload 2\n",
    "\n",
    "from IPython.core.display import HTML\n",
    "HTML('<style>.container { width:97% !important; }</style><style>.output_png {display: table-cell;text-align: center;vertical-align: middle;}</style>')"
   ]
  },
  {
   "cell_type": "markdown",
   "metadata": {},
   "source": [
    "# MODEL 4\n",
    "## Kernel: Vectorizer (10 bits)\n",
    "## PCA (from 1024 to 128)\n",
    "## Supervised Autoencoder (100 epochs, my_Sinusoidal) (from 128 to 32)\n",
    "## Supervised Autoencoder (100 epochs, my_Sinusoidal) (from 32 to 2)  \n",
    "  \n",
    "### My_Sinusoidal: plateau = 10, k = 1 , n_period = 4, scale_c = 0.001, scale_d = 0.1"
   ]
  },
  {
   "cell_type": "code",
   "execution_count": 2,
   "metadata": {},
   "outputs": [],
   "source": [
    "from eden import graph\n",
    "import load_data as ld\n",
    "from sklearn.model_selection import train_test_split\n",
    "\n",
    "from sklearn.decomposition import TruncatedSVD\n",
    "import embedder\n",
    "import utilities as ut\n",
    "\n",
    "import embedder_generator as gen\n",
    "\n",
    "import keras.backend as K\n",
    "from my_callbacks import MyCallback_sinusoidal\n",
    "from sklearn.preprocessing import Normalizer"
   ]
  },
  {
   "cell_type": "markdown",
   "metadata": {},
   "source": [
    "# VECTORIZER"
   ]
  },
  {
   "cell_type": "code",
   "execution_count": 3,
   "metadata": {},
   "outputs": [],
   "source": [
    "#name = \"generate_graphs/125_pos_neg_BALANCED(2038)\" #Leukemia\n",
    "#name = \"generate_graphs/489028_pos_neg_BALANCED(2864)\" #Cancer\n",
    "#name = \"generate_graphs/1111_pos_neg_BALANCED\" # AIDS\n",
    "#name = \"generate_graphs/2222_pos_neg_(BALANCED)\" # PROTEINS\n",
    "name = \"generate_graphs/3333_pos_neg_(BALANCED)\" # DHFR"
   ]
  },
  {
   "cell_type": "code",
   "execution_count": 4,
   "metadata": {},
   "outputs": [
    {
     "name": "stdout",
     "output_type": "stream",
     "text": [
      "DIM: 1025           TEST    TRAIN\n",
      "----------------  ------  -------\n",
      "K.N.N.  accuracy   0.943     0.97\n"
     ]
    }
   ],
   "source": [
    "n_bits = 10\n",
    "# load data \n",
    "graphs,labels = ld.load_data_pubchem(name)\n",
    "# vectorizer transform\n",
    "X_in = graph.vectorize(graphs,nbits=n_bits,complexity=2)\n",
    "\n",
    "#split train test\n",
    "X_train, X_test, labels_train, labels_test = train_test_split(X_in, labels, test_size=0.2, random_state=42)\n",
    "ut.evaluate_emb_train_test(X_test.A,labels_test,X_train.A,labels_train)"
   ]
  },
  {
   "cell_type": "markdown",
   "metadata": {},
   "source": [
    "# FROM 1024 TO 128"
   ]
  },
  {
   "cell_type": "code",
   "execution_count": 5,
   "metadata": {},
   "outputs": [
    {
     "name": "stdout",
     "output_type": "stream",
     "text": [
      "DIM: 128            TEST    TRAIN\n",
      "----------------  ------  -------\n",
      "K.N.N.  accuracy    0.92    0.968\n"
     ]
    }
   ],
   "source": [
    "emb_pca = embedder.Transformer(TruncatedSVD(n_components=128))\n",
    "\n",
    "emb_pca.fit(X_train,labels_train)\n",
    "X128_train = emb_pca.transform(X_train)\n",
    "X128_test = emb_pca.transform(X_test)\n",
    "ut.evaluate_emb_train_test(X128_test,labels_test,X128_train,labels_train)"
   ]
  },
  {
   "cell_type": "markdown",
   "metadata": {},
   "source": [
    "# from 128 to 32"
   ]
  },
  {
   "cell_type": "code",
   "execution_count": 7,
   "metadata": {},
   "outputs": [],
   "source": [
    "w_dec = K.variable(1)\n",
    "w_cla = K.variable(1)\n",
    "input_auto = len(X128_train[0])\n",
    "auto_epochs = 100\n",
    "auto_plateau = 10\n",
    "auto_k = 1\n",
    "auto_n_period = 4\n",
    "auto_scale_c = 0.001\n",
    "auto_scale_d = 0.1"
   ]
  },
  {
   "cell_type": "code",
   "execution_count": 9,
   "metadata": {},
   "outputs": [
    {
     "name": "stdout",
     "output_type": "stream",
     "text": [
      "DIM: 32             TEST    TRAIN\n",
      "----------------  ------  -------\n",
      "K.N.N.  accuracy       1    0.996\n"
     ]
    }
   ],
   "source": [
    "auto1, enc1 = gen.gen_sup_auto_callback(w_dec,w_cla,input_auto,embedding_size=32,n_classes=2)\n",
    "# CALLBACK  \n",
    "my_call_sin1 = MyCallback_sinusoidal(w_dec, w_cla, auto_epochs,auto_plateau,auto_k,auto_n_period,auto_scale_c,auto_scale_d)\n",
    "# SCALER\n",
    "scal1 = embedder.Preprocessing_scaler([0, 1])    \n",
    "# NORMALIZER\n",
    "norm1 = Normalizer(copy=True, norm='l2')\n",
    "\n",
    "emb_auto1 = embedder.Transformer_sup_autoencoder(autoencoder = auto1,\n",
    "                                                 encoder = enc1,\n",
    "                                                 batch_size = 32,\n",
    "                                                 validation_split = 0.2,\n",
    "                                                 epochs = auto_epochs,\n",
    "                                                 callbacks = [my_call_sin1],\n",
    "                                                 verbose = 0,\n",
    "                                                 normal = norm1,\n",
    "                                                 scaler = scal1)\n",
    "\n",
    "\n",
    "# fit\n",
    "emb_auto1.fit(X128_train,labels_train)\n",
    "\n",
    "\n",
    "# transform\n",
    "X32_train = emb_auto1.transform(X128_train)\n",
    "X32_test = emb_auto1.transform(X128_test)\n",
    "# evaluate\n",
    "ut.evaluate_emb_train_test(X32_test,labels_test,X32_train,labels_train)"
   ]
  },
  {
   "cell_type": "markdown",
   "metadata": {},
   "source": [
    "# FROM 32 TO 2"
   ]
  },
  {
   "cell_type": "code",
   "execution_count": 10,
   "metadata": {},
   "outputs": [],
   "source": [
    "w_dec = K.variable(1)\n",
    "w_cla = K.variable(1)\n",
    "input_auto = len(X32_train[0])\n",
    "auto_epochs = 100\n",
    "auto_plateau = 10\n",
    "auto_k = 1\n",
    "auto_n_period = 4\n",
    "auto_scale_c = 0.001\n",
    "auto_scale_d = 0.1"
   ]
  },
  {
   "cell_type": "code",
   "execution_count": 11,
   "metadata": {},
   "outputs": [],
   "source": [
    "auto2, enc2 = gen.gen_sup_auto_callback(w_dec,w_cla,input_auto,embedding_size=2,n_classes=2,classifier_penultimate_layer_size=15)\n",
    "# CALLBACK  \n",
    "my_call_sin2 = MyCallback_sinusoidal(w_dec, w_cla, auto_epochs,auto_plateau,auto_k,auto_n_period,auto_scale_c,auto_scale_d)\n",
    "# SCALER\n",
    "scal2 = embedder.Preprocessing_scaler([0, 1])    \n",
    "# NORMALIZER\n",
    "norm2 = Normalizer(copy=True, norm='l2')\n",
    "\n",
    "emb_auto2 = embedder.Transformer_sup_autoencoder(autoencoder = auto2,\n",
    "                                                 encoder = enc2,\n",
    "                                                 batch_size = 32,\n",
    "                                                 validation_split = 0.2,\n",
    "                                                 epochs = auto_epochs,\n",
    "                                                 callbacks = [my_call_sin2],\n",
    "                                                 verbose = 0,\n",
    "                                                 normal = norm2,\n",
    "                                                 scaler = scal2)"
   ]
  },
  {
   "cell_type": "code",
   "execution_count": 12,
   "metadata": {},
   "outputs": [],
   "source": [
    "emb_auto2.fit(X32_train,labels_train)\n",
    "\n",
    "X2_train = emb_auto2.transform(X32_train)\n",
    "X2_test = emb_auto2.transform(X32_test)"
   ]
  },
  {
   "cell_type": "code",
   "execution_count": 17,
   "metadata": {},
   "outputs": [
    {
     "name": "stdout",
     "output_type": "stream",
     "text": [
      "DIM: 2              TEST    TRAIN\n",
      "----------------  ------  -------\n",
      "K.N.N.  accuracy       1    0.996\n"
     ]
    },
    {
     "data": {
      "image/png": "[encoded data removed]",
      "text/plain": [
       "<Figure size 720x360 with 2 Axes>"
      ]
     },
     "metadata": {
      "needs_background": "light"
     },
     "output_type": "display_data"
    }
   ],
   "source": [
    "ut.evaluate_emb_train_test(X2_test,labels_test,X2_train,labels_train)\n",
    "\n",
    "plot2d_tmp(X2_test,labels_test,X2_train,labels_train)"
   ]
  },
  {
   "cell_type": "code",
   "execution_count": null,
   "metadata": {},
   "outputs": [],
   "source": []
  },
  {
   "cell_type": "markdown",
   "metadata": {},
   "source": [
    "# Repeate the process 5 times\n",
    "### Return (acc train/test dims: 1024,128,32,2 - 5 embeddings 2d - 5 labels)"
   ]
  },
  {
   "cell_type": "code",
   "execution_count": 18,
   "metadata": {
    "scrolled": false
   },
   "outputs": [],
   "source": [
    "#name = \"generate_graphs/125_pos_neg_BALANCED(2038)\" #Leukemia\n",
    "#name = \"generate_graphs/489028_pos_neg_BALANCED(2864)\" #Cancer\n",
    "#name = \"generate_graphs/1111_pos_neg_BALANCED\" # AIDS\n",
    "#name = \"generate_graphs/2222_pos_neg_(BALANCED)\" # PROTEINS\n",
    "name = \"generate_graphs/3333_pos_neg_(BALANCED)\" # DHFR\n",
    "n_bits = 8 #8\n",
    "n_times = 5 #5\n",
    "\n",
    "res = execute(name,n_bits,n_times,prot=False)"
   ]
  },
  {
   "cell_type": "code",
   "execution_count": null,
   "metadata": {},
   "outputs": [],
   "source": []
  },
  {
   "cell_type": "markdown",
   "metadata": {},
   "source": [
    "# Save the results"
   ]
  },
  {
   "cell_type": "code",
   "execution_count": 13,
   "metadata": {},
   "outputs": [],
   "source": [
    "np.save(\"Model4_vec_res_aids\",res_dhfr, allow_pickle=True)"
   ]
  },
  {
   "cell_type": "code",
   "execution_count": null,
   "metadata": {},
   "outputs": [],
   "source": []
  },
  {
   "cell_type": "code",
   "execution_count": null,
   "metadata": {},
   "outputs": [],
   "source": []
  },
  {
   "cell_type": "code",
   "execution_count": null,
   "metadata": {},
   "outputs": [],
   "source": []
  },
  {
   "cell_type": "markdown",
   "metadata": {},
   "source": [
    "# Used Methods"
   ]
  },
  {
   "cell_type": "code",
   "execution_count": 13,
   "metadata": {},
   "outputs": [],
   "source": [
    "import networkx as nx\n",
    "def remove_big_graphs(graphs_in,labels_in):\n",
    "    grpahs_in = np.array(graphs_in)\n",
    "    print(\"sto eliminado i grafi grandi\")\n",
    "    graphs = []\n",
    "    labels = []\n",
    "    for j in range(len(graphs_in)):\n",
    "        n_nodes = graphs_in[j].number_of_nodes() \n",
    "        if (n_nodes < 150):\n",
    "            graphs.append(graphs_in[j])\n",
    "            labels.append(labels_in[j])\n",
    "    print(len(graphs))\n",
    "    graphs = np.array(graphs)\n",
    "    labels = np.array(labels)\n",
    "    return(graphs,labels)"
   ]
  },
  {
   "cell_type": "code",
   "execution_count": 14,
   "metadata": {},
   "outputs": [],
   "source": [
    "from sklearn.model_selection import StratifiedKFold\n",
    "import numpy as np\n",
    "def execute(name,n_bits=10,n_times=5,prot=False):\n",
    "    acc_1024_test = []\n",
    "    acc_1024_train = []\n",
    "    acc_128_test = []\n",
    "    acc_128_train = []\n",
    "    acc_32_test = []\n",
    "    acc_32_train = []\n",
    "    acc_2_test = []\n",
    "    acc_2_train = []\n",
    "    X2_test = []\n",
    "    X2_train = []\n",
    "    lab_test = []\n",
    "    lab_train = []\n",
    "    \n",
    "    \n",
    "    kFold = StratifiedKFold(n_splits=5)\n",
    "    \n",
    "    print(\"sto caricando \"+name)\n",
    "    graphs,labels = ld.load_data_pubchem(name)\n",
    "    \n",
    "    # vectorizer transform\n",
    "    X_in = graph.vectorize(graphs,nbits=10,complexity=2)\n",
    "    X_in = X_in.A\n",
    "    \n",
    "    #split train test\n",
    "    count = 0\n",
    "    for train, test in kFold.split(X_in, labels):\n",
    "        if (count == n_times):\n",
    "            break\n",
    "            \n",
    "        X_in_train = X_in[train]\n",
    "        X_in_test = X_in[test]\n",
    "        labels_train = labels[train]\n",
    "        labels_test = labels[test]\n",
    "        ### evaluate Vectorize in dim 1024\n",
    "        acc_1024_te, acc_1024_tr = ut.evaluate_emb_train_test(X_in_test,labels_test,X_in_train,labels_train,return_value=True)\n",
    "        print(\"dim: 1024\")\n",
    "        print(\"TEST acc: \"+ str(acc_1024_te))\n",
    "        print(\"TRAIN acc: \"+ str(acc_1024_tr))\n",
    "        \n",
    "        acc_128_te,acc_128_tr,acc_32_te,acc_32_tr,acc_2_te,acc_2_tr,X2_te,X2_tr = run(X_in_train, X_in_test, labels_train, labels_test)\n",
    "        \n",
    "        acc_1024_test.append(float(acc_1024_te))\n",
    "        acc_1024_train.append(float(acc_1024_tr))\n",
    "        acc_128_test.append(acc_128_te)\n",
    "        acc_128_train.append(acc_128_tr)\n",
    "        acc_32_test.append(acc_32_te)\n",
    "        acc_32_train.append(acc_32_tr)\n",
    "        acc_2_test.append(acc_2_te)\n",
    "        acc_2_train.append(acc_2_tr)\n",
    "        X2_test.append(X2_te)\n",
    "        X2_train.append(X2_tr)\n",
    "        lab_test.append(labels_test)\n",
    "        lab_train.append(labels_train)\n",
    "        \n",
    "        count = count + 1\n",
    "        \n",
    "    return([acc_1024_test,acc_1024_train,acc_128_test,acc_128_train,acc_32_test,acc_32_train,acc_2_test,acc_2_train,X2_test,X2_train,lab_test,lab_train])"
   ]
  },
  {
   "cell_type": "code",
   "execution_count": 15,
   "metadata": {},
   "outputs": [],
   "source": [
    "def run(X_in_train, X_in_test, labels_train, labels_test):\n",
    "    \n",
    "\n",
    "    emb_pca = embedder.Transformer(TruncatedSVD(n_components=128))\n",
    "    emb_pca.fit(X_in_train,labels_train)\n",
    "    X128_train = emb_pca.transform(X_in_train)\n",
    "    X128_test = emb_pca.transform(X_in_test)\n",
    "    ut.evaluate_emb_train_test(X128_test,labels_test,X128_train,labels_train)\n",
    "    acc_128_test, acc_128_train = ut.evaluate_emb_train_test(X128_test,labels_test,X128_train,labels_train,return_value=True)\n",
    "\n",
    "\n",
    "    w_dec = K.variable(1)\n",
    "    w_cla = K.variable(1)\n",
    "    input_auto = len(X128_train[0])\n",
    "    auto_epochs = 100\n",
    "    auto_plateau = 10\n",
    "    auto_k = 1\n",
    "    auto_n_period = 4\n",
    "    auto_scale_c = 0.001\n",
    "    auto_scale_d = 0.1\n",
    "\n",
    "    auto1, enc1 = gen.gen_sup_auto_callback(w_dec,w_cla,input_auto,embedding_size=32,n_classes=2)\n",
    "    # CALLBACK  \n",
    "    my_call_sin1 = MyCallback_sinusoidal(w_dec, w_cla, auto_epochs,auto_plateau,auto_k,auto_n_period,auto_scale_c,auto_scale_d)\n",
    "    # SCALER\n",
    "    scal1 = embedder.Preprocessing_scaler([0, 1])    \n",
    "    # NORMALIZER\n",
    "    norm1 = Normalizer(copy=True, norm='l2')\n",
    "\n",
    "    emb_auto1 = embedder.Transformer_sup_autoencoder(autoencoder = auto1,\n",
    "                                                     encoder = enc1,\n",
    "                                                     batch_size = 32,\n",
    "                                                     validation_split = 0.2,\n",
    "                                                     epochs = auto_epochs,\n",
    "                                                     callbacks = [my_call_sin1],\n",
    "                                                     verbose = 0,\n",
    "                                                     normal = norm1,\n",
    "                                                     scaler = scal1)\n",
    "\n",
    "\n",
    "    # fit\n",
    "    emb_auto1.fit(X128_train,labels_train)\n",
    "\n",
    "\n",
    "    # transform\n",
    "    X32_train = emb_auto1.transform(X128_train)\n",
    "    X32_test = emb_auto1.transform(X128_test)\n",
    "    # evaluate\n",
    "    ut.evaluate_emb_train_test(X32_test,labels_test,X32_train,labels_train)\n",
    "    acc_32_test, acc_32_train = ut.evaluate_emb_train_test(X32_test,labels_test,X32_train,labels_train,return_value=True)\n",
    "\n",
    "    w_dec = K.variable(1)\n",
    "    w_cla = K.variable(1)\n",
    "    input_auto = len(X32_train[0])\n",
    "    auto_epochs = 100\n",
    "    auto_plateau = 10\n",
    "    auto_k = 1\n",
    "    auto_n_period = 4\n",
    "    auto_scale_c = 0.001\n",
    "    auto_scale_d = 0.1\n",
    "\n",
    "\n",
    "    auto2, enc2 = gen.gen_sup_auto_callback(w_dec,w_cla,input_auto,embedding_size=2,n_classes=2,classifier_penultimate_layer_size=15)\n",
    "    # CALLBACK  \n",
    "    my_call_sin2 = MyCallback_sinusoidal(w_dec, w_cla, auto_epochs,auto_plateau,auto_k,auto_n_period,auto_scale_c,auto_scale_d)\n",
    "    # SCALER\n",
    "    scal2 = embedder.Preprocessing_scaler([0, 1])    \n",
    "    # NORMALIZER\n",
    "    norm2 = Normalizer(copy=True, norm='l2')\n",
    "\n",
    "    emb_auto2 = embedder.Transformer_sup_autoencoder(autoencoder = auto2,\n",
    "                                                     encoder = enc2,\n",
    "                                                     batch_size = 32,\n",
    "                                                     validation_split = 0.2,\n",
    "                                                     epochs = auto_epochs,\n",
    "                                                     callbacks = [my_call_sin2],\n",
    "                                                     verbose = 0,\n",
    "                                                     normal = norm2,\n",
    "                                                     scaler = scal2)\n",
    "\n",
    "    emb_auto2.fit(X32_train,labels_train)\n",
    "\n",
    "    X2_train = emb_auto2.transform(X32_train)\n",
    "    X2_test = emb_auto2.transform(X32_test)\n",
    "\n",
    "    ut.evaluate_emb_train_test(X2_test,labels_test,X2_train,labels_train)\n",
    "    acc_2_test, acc_2_train = ut.evaluate_emb_train_test(X2_test,labels_test,X2_train,labels_train,return_value=True)\n",
    "    \n",
    "    \n",
    "    acc_128_test = float(acc_128_test)\n",
    "    acc_128_train = float(acc_128_train)\n",
    "    acc_32_test = float(acc_32_test)\n",
    "    acc_32_train = float(acc_32_train)\n",
    "    acc_2_test = float(acc_2_test)\n",
    "    acc_2_train = float(acc_2_train)\n",
    "    \n",
    "    return(acc_128_test,acc_128_train,acc_32_test,acc_32_train,acc_2_test,acc_2_train,list(X2_test),list(X2_train))\n",
    "\n"
   ]
  },
  {
   "cell_type": "code",
   "execution_count": 16,
   "metadata": {},
   "outputs": [],
   "source": [
    "import matplotlib.pyplot as plt\n",
    "import matplotlib\n",
    "import numpy as np\n",
    "def plot2d_tmp(res_test,y_test,res_train,y_train):\n",
    "    _,[pos_tra,neg_tra] = np.unique(y_train,return_counts=True)\n",
    "    _,[pos_tes,neg_tes] = np.unique(y_test,return_counts=True)\n",
    "\n",
    "    colors = ['red','blue']\n",
    "    plt.figure(figsize=(10,5))\n",
    "    plt.subplot(121)\n",
    "    x = res_test[:,0]\n",
    "    y = res_test[:,1]\n",
    "    plt.title(\"TEST\\nPos: \"+str(pos_tes)+\" Neg \"+str(neg_tes)+\"\\nTOT: \"+str(len(y_test)))\n",
    "    plt.scatter(x,y,s=8,c=y_test,cmap=matplotlib.colors.ListedColormap(colors))\n",
    "\n",
    "\n",
    "    plt.subplot(122)\n",
    "    x = res_train[:,0]\n",
    "    y = res_train[:,1]\n",
    "    plt.title(\"TRAIN\\nPos: \"+str(pos_tra)+\" Neg \"+str(neg_tra)+\"\\nTOT: \"+str(len(y_train)))\n",
    "    plt.scatter(x,y,s=8,c=y_train,cmap=matplotlib.colors.ListedColormap(colors))\n",
    "\n",
    "    plt.show()\n",
    "    \n",
    "    \n",
    "    "
   ]
  },
  {
   "cell_type": "code",
   "execution_count": null,
   "metadata": {},
   "outputs": [],
   "source": []
  }
 ],
 "metadata": {
  "kernelspec": {
   "display_name": "Python 3",
   "language": "python",
   "name": "python3"
  },
  "language_info": {
   "codemirror_mode": {
    "name": "ipython",
    "version": 3
   },
   "file_extension": ".py",
   "mimetype": "text/x-python",
   "name": "python",
   "nbconvert_exporter": "python",
   "pygments_lexer": "ipython3",
   "version": "3.7.3"
  }
 },
 "nbformat": 4,
 "nbformat_minor": 2
}
