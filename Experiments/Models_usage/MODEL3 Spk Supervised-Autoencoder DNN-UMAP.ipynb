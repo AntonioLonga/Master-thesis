{
 "cells": [
  {
   "cell_type": "code",
   "execution_count": 1,
   "metadata": {},
   "outputs": [
    {
     "data": {
      "text/html": [
       "<style>.container { width:97% !important; }</style><style>.output_png {display: table-cell;text-align: center;vertical-align: middle;}</style>"
      ],
      "text/plain": [
       "<IPython.core.display.HTML object>"
      ]
     },
     "execution_count": 1,
     "metadata": {},
     "output_type": "execute_result"
    }
   ],
   "source": [
    "%load_ext autoreload\n",
    "%autoreload 2\n",
    "\n",
    "from IPython.core.display import HTML\n",
    "HTML('<style>.container { width:97% !important; }</style><style>.output_png {display: table-cell;text-align: center;vertical-align: middle;}</style>')"
   ]
  },
  {
   "cell_type": "markdown",
   "metadata": {},
   "source": [
    "# MODEL 3\n",
    "## Kernel: Spektral (200 epochs, 15 patience) + Vectorize vertex ( 8 bits)\n",
    "## Supervised Autoencoder (100 epochs, my_Sinusoidal) (from 128 to 32)\n",
    "## UMAP-DNN (100 epochs) (from 32 to 2) \n",
    "  \n",
    "### My_Sinusoidal: plateau = 10, k = 1 , n_period = 4, scale_c = 0.001, scale_d = 0.1"
   ]
  },
  {
   "cell_type": "code",
   "execution_count": 27,
   "metadata": {},
   "outputs": [],
   "source": [
    "import load_data as ld\n",
    "import embedder_generator as gen\n",
    "import embedder\n",
    "import utilities as ut\n",
    "\n",
    "from sklearn.model_selection import train_test_split\n",
    "\n",
    "\n",
    "import keras.backend as K\n",
    "from my_callbacks import MyCallback_sinusoidal\n",
    "from sklearn.preprocessing import Normalizer\n",
    "\n",
    "import umap"
   ]
  },
  {
   "cell_type": "code",
   "execution_count": 28,
   "metadata": {},
   "outputs": [],
   "source": [
    "#name = \"generate_graphs/125_pos_neg_BALANCED(2038)\" #Leukemia\n",
    "#name = \"generate_graphs/489028_pos_neg_BALANCED(2864)\" #Cancer\n",
    "#name = \"generate_graphs/1111_pos_neg_BALANCED\" # AIDS\n",
    "#name = \"generate_graphs/2222_pos_neg_(BALANCED)\" # PROTEINS\n",
    "name = \"generate_graphs/3333_pos_neg_(BALANCED)\" # DHFR"
   ]
  },
  {
   "cell_type": "code",
   "execution_count": 29,
   "metadata": {},
   "outputs": [
    {
     "name": "stdout",
     "output_type": "stream",
     "text": [
      "n_ attributes: 261\n",
      "Stopped epoch:  41\n"
     ]
    }
   ],
   "source": [
    "prot = False\n",
    "# load data \n",
    "graphs,labels = ld.load_data_pubchem(name)\n",
    "if (prot == True):\n",
    "    print(\"removing_big_graphs\")\n",
    "    remove_big_graphs(graphs,labels)\n",
    "\n",
    "\n",
    "# add vectorize vertex 8 bit\n",
    "graphs = ut.add_info_to_nodes(graphs,ut.vec_vertex,8)\n",
    "max_n_nodes, n_attributes = ut.find_shapes(graphs)\n",
    "print(\"n_ attributes: \"+str(n_attributes))\n",
    "\n",
    "#split train test\n",
    "graphs_train, graphs_test, labels_train, labels_test = train_test_split(graphs, labels, test_size=0.2, random_state=42)\n",
    "\n",
    "\n",
    "# build models\n",
    "spk_cla,spk_emb = gen.gen_SpektralGNN_emb(n_classes=2,\n",
    "                                            max_n_nodes = max_n_nodes,\n",
    "                                            n_attributes = n_attributes,\n",
    "                                            n_components= 128)\n",
    "\n",
    "emb_spk = embedder.Kernel_GNN(classificator = spk_cla,\n",
    "                              embedder = spk_emb,\n",
    "                              batch_size = 32,\n",
    "                              validation_split = 0.2,\n",
    "                              epochs = 200,\n",
    "                              patience = 15,\n",
    "                              callbacks=None,\n",
    "                              verbose=0)\n",
    "\n",
    "# fit spk\n",
    "emb_spk.fit(graphs_train,labels_train)\n",
    "\n",
    "# transfrom train and test to n_componentes = 128\n",
    "X_train = emb_spk.transform(graphs_train)\n",
    "X_test = emb_spk.transform(graphs_test)"
   ]
  },
  {
   "cell_type": "code",
   "execution_count": 30,
   "metadata": {},
   "outputs": [
    {
     "name": "stdout",
     "output_type": "stream",
     "text": [
      "DIM: 128            TEST    TRAIN\n",
      "----------------  ------  -------\n",
      "K.N.N.  accuracy   0.957    0.989\n"
     ]
    }
   ],
   "source": [
    "ut.evaluate_emb_train_test(X_test,labels_test,X_train,labels_train)"
   ]
  },
  {
   "cell_type": "markdown",
   "metadata": {},
   "source": [
    "# FROM 128 TO 32"
   ]
  },
  {
   "cell_type": "code",
   "execution_count": 31,
   "metadata": {},
   "outputs": [],
   "source": [
    "w_dec = K.variable(1)\n",
    "w_cla = K.variable(1)\n",
    "input_auto = len(X_train[0])\n",
    "auto_epochs = 100\n",
    "auto_plateau = 10\n",
    "auto_k = 1\n",
    "auto_n_period = 4\n",
    "auto_scale_c = 0.001\n",
    "auto_scale_d = 0.1"
   ]
  },
  {
   "cell_type": "code",
   "execution_count": 32,
   "metadata": {},
   "outputs": [
    {
     "name": "stdout",
     "output_type": "stream",
     "text": [
      "DIM: 32             TEST    TRAIN\n",
      "----------------  ------  -------\n",
      "K.N.N.  accuracy   0.974    0.985\n"
     ]
    }
   ],
   "source": [
    "auto1, enc1 = gen.gen_sup_auto_callback(w_dec,w_cla,input_auto,embedding_size=32,n_classes=2)\n",
    "# CALLBACK  \n",
    "my_call_sin1 = MyCallback_sinusoidal(w_dec, w_cla, auto_epochs,auto_plateau,auto_k,auto_n_period,auto_scale_c,auto_scale_d)\n",
    "# SCALER\n",
    "scal1 = embedder.Preprocessing_scaler([0, 1])    \n",
    "# NORMALIZER\n",
    "norm1 = Normalizer(copy=True, norm='l2')\n",
    "\n",
    "emb_auto1 = embedder.Transformer_sup_autoencoder(autoencoder = auto1,\n",
    "                                                 encoder = enc1,\n",
    "                                                 batch_size = 32,\n",
    "                                                 validation_split = 0.2,\n",
    "                                                 epochs = auto_epochs,\n",
    "                                                 callbacks = [my_call_sin1],\n",
    "                                                 verbose = 0,\n",
    "                                                 normal = norm1,\n",
    "                                                 scaler = scal1)\n",
    "\n",
    "\n",
    "# fit\n",
    "emb_auto1.fit(X_train,labels_train)\n",
    "\n",
    "\n",
    "# transform\n",
    "X32_train = emb_auto1.transform(X_train)\n",
    "X32_test = emb_auto1.transform(X_test)\n",
    "# evaluate\n",
    "ut.evaluate_emb_train_test(X32_test,labels_test,X32_train,labels_train)"
   ]
  },
  {
   "cell_type": "markdown",
   "metadata": {},
   "source": [
    "# FROM 32 TO 2"
   ]
  },
  {
   "cell_type": "code",
   "execution_count": 33,
   "metadata": {},
   "outputs": [],
   "source": [
    "import umap"
   ]
  },
  {
   "cell_type": "code",
   "execution_count": 34,
   "metadata": {},
   "outputs": [],
   "source": [
    "uma_dnn = gen.gen_umap_dnn(auto_n_components = 32, emb_n_components = 2, dnn_epochs = 100,dnn_batch_size = 32)\n",
    "\n",
    "uma_dnn.fit(X32_train,labels_train)\n",
    "\n",
    "X2_train = uma_dnn.transform(X32_train)\n",
    "X2_test = uma_dnn.transform(X32_test)"
   ]
  },
  {
   "cell_type": "code",
   "execution_count": 35,
   "metadata": {},
   "outputs": [
    {
     "name": "stdout",
     "output_type": "stream",
     "text": [
      "DIM: 2              TEST    TRAIN\n",
      "----------------  ------  -------\n",
      "K.N.N.  accuracy   0.974    0.996\n"
     ]
    },
    {
     "data": {
      "image/png": "[encoded data removed]",
      "text/plain": [
       "<Figure size 720x360 with 2 Axes>"
      ]
     },
     "metadata": {
      "needs_background": "light"
     },
     "output_type": "display_data"
    }
   ],
   "source": [
    "ut.evaluate_emb_train_test(X2_test,labels_test,X2_train,labels_train)\n",
    "\n",
    "plot2d_tmp(X2_test,labels_test,X2_train,labels_train)"
   ]
  },
  {
   "cell_type": "code",
   "execution_count": null,
   "metadata": {},
   "outputs": [],
   "source": []
  },
  {
   "cell_type": "markdown",
   "metadata": {},
   "source": [
    "# Repeate the process 5 times\n",
    "### Return (acc train/test dims: 128,32,2 - 5 embeddings 2d - 5 labels)"
   ]
  },
  {
   "cell_type": "code",
   "execution_count": 25,
   "metadata": {
    "scrolled": false
   },
   "outputs": [
    {
     "name": "stdout",
     "output_type": "stream",
     "text": [
      "n_ attributes: 257\n",
      "Stopped epoch:  20\n",
      "DIM: 128            TEST    TRAIN\n",
      "----------------  ------  -------\n",
      "K.N.N.  accuracy   0.567    0.867\n",
      "DIM: 32             TEST    TRAIN\n",
      "----------------  ------  -------\n",
      "K.N.N.  accuracy   0.548    0.846\n",
      "DIM: 2              TEST    TRAIN\n",
      "----------------  ------  -------\n",
      "K.N.N.  accuracy   0.555    0.851\n",
      "Stopped epoch:  20\n",
      "DIM: 128            TEST    TRAIN\n",
      "----------------  ------  -------\n",
      "K.N.N.  accuracy   0.598    0.832\n",
      "DIM: 32             TEST    TRAIN\n",
      "----------------  ------  -------\n",
      "K.N.N.  accuracy   0.607     0.83\n",
      "DIM: 2              TEST    TRAIN\n",
      "----------------  ------  -------\n",
      "K.N.N.  accuracy   0.619    0.837\n",
      "Stopped epoch:  23\n",
      "DIM: 128            TEST    TRAIN\n",
      "----------------  ------  -------\n",
      "K.N.N.  accuracy   0.586    0.861\n",
      "DIM: 32             TEST    TRAIN\n",
      "----------------  ------  -------\n",
      "K.N.N.  accuracy   0.549    0.869\n",
      "DIM: 2              TEST    TRAIN\n",
      "----------------  ------  -------\n",
      "K.N.N.  accuracy   0.558    0.869\n",
      "Stopped epoch:  21\n",
      "DIM: 128            TEST    TRAIN\n",
      "----------------  ------  -------\n",
      "K.N.N.  accuracy   0.559    0.823\n",
      "DIM: 32             TEST    TRAIN\n",
      "----------------  ------  -------\n",
      "K.N.N.  accuracy   0.579    0.824\n",
      "DIM: 2              TEST    TRAIN\n",
      "----------------  ------  -------\n",
      "K.N.N.  accuracy    0.56     0.83\n",
      "Stopped epoch:  22\n",
      "DIM: 128            TEST    TRAIN\n",
      "----------------  ------  -------\n",
      "K.N.N.  accuracy   0.577    0.874\n",
      "DIM: 32             TEST    TRAIN\n",
      "----------------  ------  -------\n",
      "K.N.N.  accuracy    0.55    0.878\n",
      "DIM: 2              TEST    TRAIN\n",
      "----------------  ------  -------\n",
      "K.N.N.  accuracy   0.571    0.873\n"
     ]
    }
   ],
   "source": [
    "#name = \"generate_graphs/125_pos_neg_BALANCED(2038)\" #Leukemia\n",
    "name = \"generate_graphs/489028_pos_neg_BALANCED(2864)\" #Cancer\n",
    "#name = \"generate_graphs/1111_pos_neg_BALANCED\" # AIDS\n",
    "#name = \"generate_graphs/2222_pos_neg_(BALANCED)\" # PROTEINS\n",
    "#name = \"generate_graphs/3333_pos_neg_(BALANCED)\" # DHFR\n",
    "n_bits = 8 #8\n",
    "n_times = 5 #5\n",
    "\n",
    "res_mutag = execute(name,n_bits,n_times,prot=False)"
   ]
  },
  {
   "cell_type": "markdown",
   "metadata": {},
   "source": [
    "# Save results"
   ]
  },
  {
   "cell_type": "code",
   "execution_count": 26,
   "metadata": {},
   "outputs": [],
   "source": [
    "np.save(\"Model3_spk_res_canc\",res_mutag, allow_pickle=True)"
   ]
  },
  {
   "cell_type": "code",
   "execution_count": null,
   "metadata": {},
   "outputs": [],
   "source": []
  },
  {
   "cell_type": "code",
   "execution_count": null,
   "metadata": {},
   "outputs": [],
   "source": []
  },
  {
   "cell_type": "code",
   "execution_count": null,
   "metadata": {},
   "outputs": [],
   "source": []
  },
  {
   "cell_type": "markdown",
   "metadata": {},
   "source": [
    "# Used Methods"
   ]
  },
  {
   "cell_type": "code",
   "execution_count": 16,
   "metadata": {},
   "outputs": [],
   "source": [
    "from sklearn.model_selection import StratifiedKFold\n",
    "import numpy as np\n",
    "def execute(name,n_bits=8,n_times=5,prot=False):\n",
    "    \n",
    "    acc_128_test = []\n",
    "    acc_128_train = []\n",
    "    acc_32_test = []\n",
    "    acc_32_train = []\n",
    "    acc_2_test = []\n",
    "    acc_2_train = []\n",
    "    X2_test = []\n",
    "    X2_train = []\n",
    "    lab_test = []\n",
    "    lab_train = []\n",
    "    \n",
    "    \n",
    "    kFold = StratifiedKFold(n_splits=5)\n",
    "    \n",
    "    #print(\"TMP MUTAG\")\n",
    "    #graphs,labels = ld.load_data(\"MUTAG\")\n",
    "    graphs,labels = ld.load_data_pubchem(name)\n",
    "    if (prot == True):\n",
    "        print(\"removing_big_graphs\")\n",
    "        remove_big_graphs(graphs,labels)\n",
    "        \n",
    "    # add vectorize vertex 5 bit\n",
    "    graphs = ut.add_info_to_nodes(graphs,ut.vec_vertex,n_bits)\n",
    "    max_n_nodes, n_attributes = ut.find_shapes(graphs)\n",
    "    print(\"n_ attributes: \"+str(n_attributes))\n",
    "    \n",
    "    graphs = np.array(graphs)\n",
    "    #split train test\n",
    "    count = 0\n",
    "    for train, test in kFold.split(graphs, labels):\n",
    "        if (count == n_times):\n",
    "            break\n",
    "            \n",
    "        graphs_train = graphs[train]\n",
    "        graphs_test = graphs[test]\n",
    "        labels_train = labels[train]\n",
    "        labels_test = labels[test]\n",
    "        \n",
    "        acc_128_te,acc_128_tr,acc_32_te,acc_32_tr,acc_2_te,acc_2_tr,X2_te,X2_tr = run(graphs_train, graphs_test, labels_train, labels_test,max_n_nodes, n_attributes)\n",
    "        \n",
    "        acc_128_test.append(acc_128_te)\n",
    "        acc_128_train.append(acc_128_tr)\n",
    "        acc_32_test.append(acc_32_te)\n",
    "        acc_32_train.append(acc_32_tr)\n",
    "        acc_2_test.append(acc_2_te)\n",
    "        acc_2_train.append(acc_2_tr)\n",
    "        X2_test.append(X2_te)\n",
    "        X2_train.append(X2_tr)\n",
    "        lab_test.append(labels_test)\n",
    "        lab_train.append(labels_train)\n",
    "        \n",
    "        count = count + 1\n",
    "        \n",
    "    return([acc_128_test,acc_128_train,acc_32_test,acc_32_train,acc_2_test,acc_2_train,X2_test,X2_train,lab_test,lab_train])"
   ]
  },
  {
   "cell_type": "code",
   "execution_count": 17,
   "metadata": {},
   "outputs": [],
   "source": [
    "def run(graphs_train, graphs_test, labels_train, labels_test,max_n_nodes, n_attributes):\n",
    "\n",
    "    # build models\n",
    "    spk_cla,spk_emb = gen.gen_SpektralGNN_emb(n_classes=2,\n",
    "                                                max_n_nodes = max_n_nodes,\n",
    "                                                n_attributes = n_attributes,\n",
    "                                                n_components= 128)\n",
    "\n",
    "    emb_spk = embedder.Kernel_GNN(classificator = spk_cla,\n",
    "                                  embedder = spk_emb,\n",
    "                                  batch_size = 32,\n",
    "                                  validation_split = 0.2,\n",
    "                                  epochs = 200,\n",
    "                                  patience = 15,\n",
    "                                  callbacks=None,\n",
    "                                  verbose=0)\n",
    "\n",
    "    # fit spk\n",
    "    emb_spk.fit(graphs_train,labels_train)\n",
    "\n",
    "    # transfrom train and test to n_componentes = 128\n",
    "    X_train = emb_spk.transform(graphs_train)\n",
    "    X_test = emb_spk.transform(graphs_test)\n",
    "\n",
    "    ut.evaluate_emb_train_test(X_test,labels_test,X_train,labels_train)\n",
    "    acc_128_test, acc_128_train = ut.evaluate_emb_train_test(X_test,labels_test,X_train,labels_train,return_value=True)\n",
    "\n",
    "\n",
    "    # from high to medim\n",
    "    w_dec = K.variable(1)\n",
    "    w_cla = K.variable(1)\n",
    "    input_auto = len(X_train[0])\n",
    "    auto_epochs = 100\n",
    "    auto_plateau = 10\n",
    "    auto_k = 1\n",
    "    auto_n_period = 4\n",
    "    auto_scale_c = 0.001\n",
    "    auto_scale_d = 0.1\n",
    "\n",
    "    auto1, enc1 = gen.gen_sup_auto_callback(w_dec,w_cla,input_auto,embedding_size=32,n_classes=2)\n",
    "    # CALLBACK  \n",
    "    my_call_sin1 = MyCallback_sinusoidal(w_dec, w_cla, auto_epochs,auto_plateau,auto_k,auto_n_period,auto_scale_c,auto_scale_d)\n",
    "    # SCALER\n",
    "    scal1 = embedder.Preprocessing_scaler([0, 1])    \n",
    "    # NORMALIZER\n",
    "    norm1 = Normalizer(copy=True, norm='l2')\n",
    "\n",
    "    emb_auto1 = embedder.Transformer_sup_autoencoder(autoencoder = auto1,\n",
    "                                                     encoder = enc1,\n",
    "                                                     batch_size = 32,\n",
    "                                                     validation_split = 0.2,\n",
    "                                                     epochs = auto_epochs,\n",
    "                                                     callbacks = [my_call_sin1],\n",
    "                                                     verbose = 0,\n",
    "                                                     normal = norm1,\n",
    "                                                     scaler = scal1)\n",
    "\n",
    "\n",
    "    # fit\n",
    "    emb_auto1.fit(X_train,labels_train)\n",
    "\n",
    "\n",
    "    # transform\n",
    "    X32_train = emb_auto1.transform(X_train)\n",
    "    X32_test = emb_auto1.transform(X_test)\n",
    "    # evaluate\n",
    "    ut.evaluate_emb_train_test(X32_test,labels_test,X32_train,labels_train)\n",
    "    acc_32_test, acc_32_train = ut.evaluate_emb_train_test(X32_test,labels_test,X32_train,labels_train,return_value=True)\n",
    "\n",
    "\n",
    "    \n",
    "    ##### from medium to low\n",
    "    uma_dnn = gen.gen_umap_dnn(auto_n_components = 32, emb_n_components = 2, dnn_epochs = 100,dnn_batch_size = 32)\n",
    "    uma_dnn.fit(X32_train,labels_train)\n",
    "\n",
    "    X2_train = uma_dnn.transform(X32_train)\n",
    "    X2_test = uma_dnn.transform(X32_test)\n",
    "\n",
    "\n",
    "    ut.evaluate_emb_train_test(X2_test,labels_test,X2_train,labels_train)       \n",
    "    acc_2_test, acc_2_train = ut.evaluate_emb_train_test(X2_test,labels_test,X2_train,labels_train,return_value=True)\n",
    "    \n",
    "    \n",
    "    acc_128_test = float(acc_128_test)\n",
    "    acc_128_train = float(acc_128_train)\n",
    "    acc_32_test = float(acc_32_test)\n",
    "    acc_32_train = float(acc_32_train)\n",
    "    acc_2_test = float(acc_2_test)\n",
    "    acc_2_train = float(acc_2_train)\n",
    "    \n",
    "    return(acc_128_test,acc_128_train,acc_32_test,acc_32_train,acc_2_test,acc_2_train,list(X2_test),list(X2_train))\n",
    "    "
   ]
  },
  {
   "cell_type": "code",
   "execution_count": 18,
   "metadata": {},
   "outputs": [],
   "source": [
    "import matplotlib.pyplot as plt\n",
    "import matplotlib\n",
    "import numpy as np\n",
    "def plot2d_tmp(res_test,y_test,res_train,y_train):\n",
    "    _,[pos_tra,neg_tra] = np.unique(y_train,return_counts=True)\n",
    "    _,[pos_tes,neg_tes] = np.unique(y_test,return_counts=True)\n",
    "\n",
    "    colors = ['red','blue']\n",
    "    plt.figure(figsize=(10,5))\n",
    "    plt.subplot(121)\n",
    "    x = res_test[:,0]\n",
    "    y = res_test[:,1]\n",
    "    plt.title(\"TEST\\nPos: \"+str(pos_tes)+\" Neg \"+str(neg_tes)+\"\\nTOT: \"+str(len(y_test)))\n",
    "    plt.scatter(x,y,s=8,c=y_test,cmap=matplotlib.colors.ListedColormap(colors))\n",
    "\n",
    "\n",
    "    plt.subplot(122)\n",
    "    x = res_train[:,0]\n",
    "    y = res_train[:,1]\n",
    "    plt.title(\"TRAIN\\nPos: \"+str(pos_tra)+\" Neg \"+str(neg_tra)+\"\\nTOT: \"+str(len(y_train)))\n",
    "    plt.scatter(x,y,s=8,c=y_train,cmap=matplotlib.colors.ListedColormap(colors))\n",
    "\n",
    "    plt.show()\n",
    "    \n",
    "import networkx as nx\n",
    "def remove_big_graphs(graphs_in,labels_in):\n",
    "    grpahs_in = np.array(graphs_in)\n",
    "    print(\"sto eliminado i grafi grandi\")\n",
    "    graphs = []\n",
    "    labels = []\n",
    "    for j in range(len(graphs_in)):\n",
    "        n_nodes = graphs_in[j].number_of_nodes() \n",
    "        if (n_nodes < 150):\n",
    "            graphs.append(graphs_in[j])\n",
    "            labels.append(labels_in[j])\n",
    "    print(len(graphs))\n",
    "    graphs = np.array(graphs)\n",
    "    labels = np.array(labels)\n",
    "    return(graphs,labels)\n",
    "    "
   ]
  },
  {
   "cell_type": "code",
   "execution_count": null,
   "metadata": {},
   "outputs": [],
   "source": []
  }
 ],
 "metadata": {
  "kernelspec": {
   "display_name": "Python 3",
   "language": "python",
   "name": "python3"
  },
  "language_info": {
   "codemirror_mode": {
    "name": "ipython",
    "version": 3
   },
   "file_extension": ".py",
   "mimetype": "text/x-python",
   "name": "python",
   "nbconvert_exporter": "python",
   "pygments_lexer": "ipython3",
   "version": "3.7.3"
  }
 },
 "nbformat": 4,
 "nbformat_minor": 2
}
