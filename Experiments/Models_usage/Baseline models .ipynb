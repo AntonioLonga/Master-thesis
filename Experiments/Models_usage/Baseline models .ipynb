{
 "cells": [
  {
   "cell_type": "code",
   "execution_count": 2,
   "metadata": {},
   "outputs": [
    {
     "name": "stdout",
     "output_type": "stream",
     "text": [
      "The autoreload extension is already loaded. To reload it, use:\n",
      "  %reload_ext autoreload\n"
     ]
    },
    {
     "data": {
      "text/html": [
       "<style>.container { width:97% !important; }</style><style>.output_png {display: table-cell;text-align: center;vertical-align: middle;}</style>"
      ],
      "text/plain": [
       "<IPython.core.display.HTML object>"
      ]
     },
     "execution_count": 2,
     "metadata": {},
     "output_type": "execute_result"
    }
   ],
   "source": [
    "%load_ext autoreload\n",
    "%autoreload 2\n",
    "\n",
    "\n",
    "from IPython.core.display import HTML\n",
    "HTML('<style>.container { width:97% !important; }</style><style>.output_png {display: table-cell;text-align: center;vertical-align: middle;}</style>')"
   ]
  },
  {
   "cell_type": "code",
   "execution_count": 4,
   "metadata": {},
   "outputs": [],
   "source": [
    "import embedder_generator as emb_gen\n",
    "import networkx as nx\n",
    "import numpy as np\n",
    "import utilities "
   ]
  },
  {
   "cell_type": "code",
   "execution_count": 5,
   "metadata": {},
   "outputs": [],
   "source": [
    "def load_generated_data_classification(path):\n",
    "    \n",
    "    graphs = nx.read_gpickle(path+'/'+'graphs.gpickle')\n",
    "    \n",
    "    labels = list(np.load(path+'/'+'labels.npy'))\n",
    "    \n",
    "    _, count = np.unique(labels,return_counts=True)\n",
    "    \n",
    "    print(\"Negative samples: \",count[0])\n",
    "    print(\"Positive samples: \",count[1])\n",
    "    \n",
    "    return (graphs,labels)"
   ]
  },
  {
   "cell_type": "code",
   "execution_count": 6,
   "metadata": {},
   "outputs": [
    {
     "name": "stdout",
     "output_type": "stream",
     "text": [
      "Negative samples:  136\n",
      "Positive samples:  256\n"
     ]
    }
   ],
   "source": [
    "graphs, labels = load_generated_data_classification(\"generate_graphs/624249_pos_neg\")"
   ]
  },
  {
   "cell_type": "code",
   "execution_count": 7,
   "metadata": {},
   "outputs": [],
   "source": [
    "for g in graphs:\n",
    "    for node in g.nodes():\n",
    "        g.nodes[node]['vec'] = []\n",
    "for g in graphs:\n",
    "    for edge in g.edges():\n",
    "        g.edges[edge]['vec'] = []"
   ]
  },
  {
   "cell_type": "code",
   "execution_count": 8,
   "metadata": {},
   "outputs": [],
   "source": [
    "vec_vet_nbits = 4\n",
    "graphs = utilities.add_info_to_nodes(graphs,[utilities.vec_vertex],param=vec_vet_nbits)"
   ]
  },
  {
   "cell_type": "code",
   "execution_count": 9,
   "metadata": {},
   "outputs": [],
   "source": [
    "max_n_nodes,n_attributes = utilities.find_shapes(graphs)"
   ]
  },
  {
   "cell_type": "code",
   "execution_count": 10,
   "metadata": {},
   "outputs": [
    {
     "name": "stdout",
     "output_type": "stream",
     "text": [
      "16\n",
      "42\n"
     ]
    }
   ],
   "source": [
    "print(n_attributes)\n",
    "print(max_n_nodes)"
   ]
  },
  {
   "cell_type": "markdown",
   "metadata": {},
   "source": [
    "### BaseLine SPK"
   ]
  },
  {
   "cell_type": "code",
   "execution_count": 11,
   "metadata": {},
   "outputs": [],
   "source": [
    "from embedder import Embedder\n",
    "from embedder import Kernel_GNN\n",
    "from embedder import Transformer\n",
    "from umap import UMAP"
   ]
  },
  {
   "cell_type": "code",
   "execution_count": 12,
   "metadata": {},
   "outputs": [],
   "source": [
    "from keras.callbacks import TensorBoard\n",
    "from datetime import datetime\n",
    "#now = datetime.now()\n",
    "#current_time = now.strftime(\"%H_%M_%S\")\n",
    "#path = \"baseline_spk/test_\"+current_time\n",
    "#tb = TensorBoard(log_dir=path)"
   ]
  },
  {
   "cell_type": "code",
   "execution_count": 14,
   "metadata": {},
   "outputs": [],
   "source": [
    "# SpeKtral GNN\n",
    "spk_gnn, spk_emb = emb_gen.gen_SpektralGNN_emb(n_classes= 2,\n",
    "                                                n_components= 128,\n",
    "                                                max_n_nodes= max_n_nodes,\n",
    "                                                n_attributes= n_attributes)\n",
    "\n",
    "\n",
    "\n",
    "kernel_spk = Kernel_GNN(classificator = spk_gnn,\n",
    "                       embedder = spk_emb,\n",
    "                       batch_size = 32,\n",
    "                       validation_split = 0.2,\n",
    "                       epochs = 300,\n",
    "                       patience = 50)\n",
    "                       #callbacks = [tb],\n",
    "k1 = Transformer(kernel_spk)\n",
    "\n",
    "# umap\n",
    "m1 = Transformer(UMAP(n_components = 2))\n",
    "\n",
    "# embedder\n",
    "emb_1 = Embedder([k1,m1],\"BASELINE: SpK + UMAP\")"
   ]
  },
  {
   "cell_type": "markdown",
   "metadata": {},
   "source": [
    "### BaseLine Vectorize"
   ]
  },
  {
   "cell_type": "code",
   "execution_count": 17,
   "metadata": {},
   "outputs": [],
   "source": [
    "from eden import graph\n",
    "from sklearn.decomposition import TruncatedSVD"
   ]
  },
  {
   "cell_type": "code",
   "execution_count": 18,
   "metadata": {
    "scrolled": true
   },
   "outputs": [],
   "source": [
    "# kernel\n",
    "k1 = Transformer(graph.Vectorizer(complexity=5), has_fit = False)\n",
    "# pca\n",
    "m1 = Transformer(TruncatedSVD(n_components=200))\n",
    "# umap\n",
    "m2 = Transformer(UMAP(n_components = 2))\n",
    "\n",
    "#embedder \n",
    "emb_2 = Embedder([k1,m1,m2],\"BASELINE: vect + pca + UMAP\")"
   ]
  },
  {
   "cell_type": "markdown",
   "metadata": {},
   "source": [
    "## Test on graphs"
   ]
  },
  {
   "cell_type": "code",
   "execution_count": 19,
   "metadata": {
    "scrolled": false
   },
   "outputs": [
    {
     "name": "stdout",
     "output_type": "stream",
     "text": [
      "\t iteration n: 1\n",
      "\t \t dim:  2\n",
      "\t \t \t  BASELINE: SpK + UMAP\n",
      "WARNING:tensorflow:From /home/antonio/anaconda3/envs/tesi/lib/python3.7/site-packages/tensorflow/python/ops/math_ops.py:3066: to_int32 (from tensorflow.python.ops.math_ops) is deprecated and will be removed in a future version.\n",
      "Instructions for updating:\n",
      "Use tf.cast instead.\n",
      "Stopped epoch:  119\n",
      "\t \t \t  BASELINE: vect + pca + UMAP\n"
     ]
    },
    {
     "name": "stderr",
     "output_type": "stream",
     "text": [
      "/home/antonio/.local/lib/python3.7/site-packages/sklearn/metrics/classification.py:1437: UndefinedMetricWarning: Precision is ill-defined and being set to 0.0 in labels with no predicted samples.\n",
      "  'precision', 'predicted', average, warn_for)\n",
      "/home/antonio/.local/lib/python3.7/site-packages/sklearn/metrics/classification.py:1437: UndefinedMetricWarning: F-score is ill-defined and being set to 0.0 in labels with no predicted samples.\n",
      "  'precision', 'predicted', average, warn_for)\n"
     ]
    },
    {
     "name": "stdout",
     "output_type": "stream",
     "text": [
      "\t iteration n: 2\n",
      "\t \t dim:  2\n",
      "\t \t \t  BASELINE: SpK + UMAP\n",
      "Stopped epoch:  185\n"
     ]
    },
    {
     "name": "stderr",
     "output_type": "stream",
     "text": [
      "/home/antonio/.local/lib/python3.7/site-packages/sklearn/metrics/classification.py:1437: UndefinedMetricWarning: Precision is ill-defined and being set to 0.0 in labels with no predicted samples.\n",
      "  'precision', 'predicted', average, warn_for)\n",
      "/home/antonio/.local/lib/python3.7/site-packages/sklearn/metrics/classification.py:1437: UndefinedMetricWarning: F-score is ill-defined and being set to 0.0 in labels with no predicted samples.\n",
      "  'precision', 'predicted', average, warn_for)\n"
     ]
    },
    {
     "name": "stdout",
     "output_type": "stream",
     "text": [
      "\t \t \t  BASELINE: vect + pca + UMAP\n",
      "\t iteration n: 3\n",
      "\t \t dim:  2\n",
      "\t \t \t  BASELINE: SpK + UMAP\n",
      "Stopped epoch:  209\n",
      "\t \t \t  BASELINE: vect + pca + UMAP\n",
      "\t iteration n: 4\n",
      "\t \t dim:  2\n",
      "\t \t \t  BASELINE: SpK + UMAP\n",
      "Stopped epoch:  218\n"
     ]
    },
    {
     "name": "stderr",
     "output_type": "stream",
     "text": [
      "/home/antonio/.local/lib/python3.7/site-packages/sklearn/metrics/classification.py:1437: UndefinedMetricWarning: Precision is ill-defined and being set to 0.0 in labels with no predicted samples.\n",
      "  'precision', 'predicted', average, warn_for)\n",
      "/home/antonio/.local/lib/python3.7/site-packages/sklearn/metrics/classification.py:1437: UndefinedMetricWarning: F-score is ill-defined and being set to 0.0 in labels with no predicted samples.\n",
      "  'precision', 'predicted', average, warn_for)\n"
     ]
    },
    {
     "name": "stdout",
     "output_type": "stream",
     "text": [
      "\t \t \t  BASELINE: vect + pca + UMAP\n",
      "\t iteration n: 5\n",
      "\t \t dim:  2\n",
      "\t \t \t  BASELINE: SpK + UMAP\n",
      "Stopped epoch:  200\n",
      "\t \t \t  BASELINE: vect + pca + UMAP\n"
     ]
    },
    {
     "name": "stderr",
     "output_type": "stream",
     "text": [
      "/home/antonio/.local/lib/python3.7/site-packages/sklearn/metrics/classification.py:1437: UndefinedMetricWarning: Precision is ill-defined and being set to 0.0 in labels with no predicted samples.\n",
      "  'precision', 'predicted', average, warn_for)\n",
      "/home/antonio/.local/lib/python3.7/site-packages/sklearn/metrics/classification.py:1437: UndefinedMetricWarning: F-score is ill-defined and being set to 0.0 in labels with no predicted samples.\n",
      "  'precision', 'predicted', average, warn_for)\n"
     ]
    },
    {
     "name": "stdout",
     "output_type": "stream",
     "text": [
      "\t iteration n: 6\n",
      "\t \t dim:  2\n",
      "\t \t \t  BASELINE: SpK + UMAP\n",
      "Stopped epoch:  250\n"
     ]
    },
    {
     "name": "stderr",
     "output_type": "stream",
     "text": [
      "/home/antonio/.local/lib/python3.7/site-packages/sklearn/metrics/classification.py:1437: UndefinedMetricWarning: Precision is ill-defined and being set to 0.0 in labels with no predicted samples.\n",
      "  'precision', 'predicted', average, warn_for)\n",
      "/home/antonio/.local/lib/python3.7/site-packages/sklearn/metrics/classification.py:1437: UndefinedMetricWarning: F-score is ill-defined and being set to 0.0 in labels with no predicted samples.\n",
      "  'precision', 'predicted', average, warn_for)\n"
     ]
    },
    {
     "name": "stdout",
     "output_type": "stream",
     "text": [
      "\t \t \t  BASELINE: vect + pca + UMAP\n"
     ]
    },
    {
     "name": "stderr",
     "output_type": "stream",
     "text": [
      "/home/antonio/.local/lib/python3.7/site-packages/sklearn/metrics/classification.py:1437: UndefinedMetricWarning: Precision is ill-defined and being set to 0.0 in labels with no predicted samples.\n",
      "  'precision', 'predicted', average, warn_for)\n",
      "/home/antonio/.local/lib/python3.7/site-packages/sklearn/metrics/classification.py:1437: UndefinedMetricWarning: F-score is ill-defined and being set to 0.0 in labels with no predicted samples.\n",
      "  'precision', 'predicted', average, warn_for)\n"
     ]
    },
    {
     "name": "stdout",
     "output_type": "stream",
     "text": [
      "\t iteration n: 7\n",
      "\t \t dim:  2\n",
      "\t \t \t  BASELINE: SpK + UMAP\n",
      "Stopped epoch:  206\n",
      "\t \t \t  BASELINE: vect + pca + UMAP\n"
     ]
    },
    {
     "name": "stderr",
     "output_type": "stream",
     "text": [
      "/home/antonio/.local/lib/python3.7/site-packages/sklearn/metrics/classification.py:1437: UndefinedMetricWarning: Precision is ill-defined and being set to 0.0 in labels with no predicted samples.\n",
      "  'precision', 'predicted', average, warn_for)\n",
      "/home/antonio/.local/lib/python3.7/site-packages/sklearn/metrics/classification.py:1437: UndefinedMetricWarning: F-score is ill-defined and being set to 0.0 in labels with no predicted samples.\n",
      "  'precision', 'predicted', average, warn_for)\n"
     ]
    },
    {
     "name": "stdout",
     "output_type": "stream",
     "text": [
      "\t iteration n: 8\n",
      "\t \t dim:  2\n",
      "\t \t \t  BASELINE: SpK + UMAP\n",
      "Stopped epoch:  211\n"
     ]
    },
    {
     "name": "stderr",
     "output_type": "stream",
     "text": [
      "/home/antonio/.local/lib/python3.7/site-packages/sklearn/metrics/classification.py:1437: UndefinedMetricWarning: Precision is ill-defined and being set to 0.0 in labels with no predicted samples.\n",
      "  'precision', 'predicted', average, warn_for)\n",
      "/home/antonio/.local/lib/python3.7/site-packages/sklearn/metrics/classification.py:1437: UndefinedMetricWarning: F-score is ill-defined and being set to 0.0 in labels with no predicted samples.\n",
      "  'precision', 'predicted', average, warn_for)\n"
     ]
    },
    {
     "name": "stdout",
     "output_type": "stream",
     "text": [
      "\t \t \t  BASELINE: vect + pca + UMAP\n",
      "\t iteration n: 9\n",
      "\t \t dim:  2\n",
      "\t \t \t  BASELINE: SpK + UMAP\n",
      "Stopped epoch:  202\n",
      "\t \t \t  BASELINE: vect + pca + UMAP\n",
      "\t iteration n: 10\n",
      "\t \t dim:  2\n",
      "\t \t \t  BASELINE: SpK + UMAP\n",
      "Stopped epoch:  200\n",
      "\t \t \t  BASELINE: vect + pca + UMAP\n"
     ]
    }
   ],
   "source": [
    "emb = [emb_1,emb_2]\n",
    "vis = utilities.repeat_n_times(graphs, labels, emb , [2], 10,test_size=0.3,seed = 11)"
   ]
  },
  {
   "cell_type": "code",
   "execution_count": 20,
   "metadata": {},
   "outputs": [
    {
     "name": "stdout",
     "output_type": "stream",
     "text": [
      "                                 2    STD    mean\n",
      "---------------------------  -----  -----  ------\n",
      "BASELINE: SpK + UMAP         0.703  0.124   0.414\n",
      "BASELINE: vect + pca + UMAP  0.719  0.125   0.422\n"
     ]
    }
   ],
   "source": [
    "vis.summary()"
   ]
  },
  {
   "cell_type": "code",
   "execution_count": 21,
   "metadata": {},
   "outputs": [
    {
     "name": "stdout",
     "output_type": "stream",
     "text": [
      "\n",
      "\t BASELINE: SpK + UMAP\n"
     ]
    },
    {
     "data": {
      "image/png": "[encoded data removed]",
      "text/plain": [
       "<Figure size 720x360 with 2 Axes>"
      ]
     },
     "metadata": {
      "needs_background": "light"
     },
     "output_type": "display_data"
    },
    {
     "name": "stdout",
     "output_type": "stream",
     "text": [
      "\n",
      "\t BASELINE: vect + pca + UMAP\n"
     ]
    },
    {
     "data": {
      "image/png": "[encoded data removed]",
      "text/plain": [
       "<Figure size 720x360 with 2 Axes>"
      ]
     },
     "metadata": {
      "needs_background": "light"
     },
     "output_type": "display_data"
    }
   ],
   "source": [
    "utilities.plot_embedding_2d(emb[0],graphs,labels,test_size = 0.3,seed = 11)\n",
    "utilities.plot_embedding_2d(emb[1],graphs,labels,test_size = 0.3,seed = 11)"
   ]
  },
  {
   "cell_type": "code",
   "execution_count": null,
   "metadata": {},
   "outputs": [],
   "source": []
  },
  {
   "cell_type": "code",
   "execution_count": null,
   "metadata": {},
   "outputs": [],
   "source": []
  }
 ],
 "metadata": {
  "kernelspec": {
   "display_name": "Python 3",
   "language": "python",
   "name": "python3"
  },
  "language_info": {
   "codemirror_mode": {
    "name": "ipython",
    "version": 3
   },
   "file_extension": ".py",
   "mimetype": "text/x-python",
   "name": "python",
   "nbconvert_exporter": "python",
   "pygments_lexer": "ipython3",
   "version": "3.7.3"
  }
 },
 "nbformat": 4,
 "nbformat_minor": 2
}
