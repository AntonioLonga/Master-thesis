{
 "cells": [
  {
   "cell_type": "markdown",
   "metadata": {},
   "source": [
    "# Example Usage \n",
    "## Embedder\n",
    "## Evaluator\n",
    "## Graph_generator"
   ]
  },
  {
   "cell_type": "code",
   "execution_count": 9,
   "metadata": {},
   "outputs": [],
   "source": [
    "import numpy as np\n",
    "from sklearn.model_selection import train_test_split\n",
    "\n",
    "from embedder import Embedder\n",
    "from embedder import Model\n",
    "from evaluator import Evaluator\n",
    "\n",
    "from graph_generator import Graph_generator"
   ]
  },
  {
   "cell_type": "markdown",
   "metadata": {},
   "source": [
    "### Generate graphs and split it"
   ]
  },
  {
   "cell_type": "code",
   "execution_count": 4,
   "metadata": {},
   "outputs": [],
   "source": [
    "from load_data import load_data\n",
    "graphs, labels = load_data(\"MUTAG\")\n",
    "\n",
    "# split the graphs and the labels\n",
    "X_train, X_test, y_train, y_test = train_test_split(graphs, labels, test_size=0.3\n",
    "                                                    , random_state=0)\n",
    "y_test = [[i] for i in y_test]\n",
    "y_test = np.ravel(y_test)\n",
    "y_train = [[i] for i in y_train]\n",
    "y_train = np.ravel(y_train)"
   ]
  },
  {
   "cell_type": "markdown",
   "metadata": {},
   "source": [
    "### Import the models "
   ]
  },
  {
   "cell_type": "code",
   "execution_count": 10,
   "metadata": {},
   "outputs": [],
   "source": [
    "from sklearn.decomposition import TruncatedSVD\n",
    "from eden import graph\n",
    "import umap"
   ]
  },
  {
   "cell_type": "markdown",
   "metadata": {},
   "source": [
    "# MUTAG\n",
    "Using 3 models:  \n",
    "1) Vectorize  \n",
    "2) PCA to 1000  \n",
    "3) UMAP to dim = {2,4,8,16,32,..}\n",
    "\n",
    "The entrire porcedure is repeated 5 times"
   ]
  },
  {
   "cell_type": "code",
   "execution_count": 7,
   "metadata": {},
   "outputs": [
    {
     "name": "stdout",
     "output_type": "stream",
     "text": [
      "loop number:  1\n",
      "loop number:  2\n",
      "loop number:  3\n",
      "loop number:  4\n",
      "loop number:  5\n"
     ]
    }
   ],
   "source": [
    "dim = np.logspace(1, 5, num=5, base=2)\n",
    "accuracy = [[] for i in dim]\n",
    "precision = [[] for i in dim]\n",
    "recall = [[] for i in dim]\n",
    "f1 = [[] for i in dim]\n",
    "for k in range(0,5):\n",
    "    print(\"loop number: \", k+1)\n",
    "    pos = 0\n",
    "    for d in dim:\n",
    "        # dimension of the last embedding\n",
    "        dimension_embedding = int(d)\n",
    "\n",
    "        # instanziate first model\n",
    "        eden = graph.Vectorizer(complexity = 2)\n",
    "        model1 = Model(eden, has_fit = False)\n",
    "\n",
    "        # instanziate second model\n",
    "        pca = TruncatedSVD(n_components=1000)\n",
    "        model2 = Model(pca)\n",
    "\n",
    "        # instanziate third model\n",
    "        uma = umap.UMAP(n_components=dimension_embedding)\n",
    "        model3 = Model(uma)\n",
    "\n",
    "        # fit and transform\n",
    "        # mode1 --> model2 --> model3\n",
    "        emb = Embedder([model1,model2,model3])\n",
    "        X_small = emb.fit(X_train,y_train).transform(X_test)\n",
    "\n",
    "\n",
    "        evaluator = Evaluator()\n",
    "        acc, pre, rec, f = evaluator.performance_with_kfold(X_small,y_test)\n",
    "\n",
    "\n",
    "        accuracy[pos] = accuracy[pos] + acc\n",
    "        precision[pos] = precision[pos] + pre\n",
    "        recall[pos] = recall[pos] + rec\n",
    "        f1[pos] = f1[pos] + f\n",
    "        \n",
    "        pos = pos + 1\n"
   ]
  },
  {
   "cell_type": "code",
   "execution_count": 11,
   "metadata": {},
   "outputs": [
    {
     "name": "stdout",
     "output_type": "stream",
     "text": [
      "Dimensions:  [ 2.  4.  8. 16. 32.]\n",
      "Procedure repated:  5\n",
      "\n",
      "Train set size:  131\n",
      "Test set size:  57\n",
      "\n",
      "metrics differents dimensions:\n",
      "\t mean Accuracy 0.6434285714285715\n",
      "\t mean Precision 0.7163523809523809\n",
      "\t mean Recall 0.6556666666666666\n",
      "\t mean F1 0.6672646464646463\n"
     ]
    },
    {
     "data": {
      "image/png": "[encoded data removed]",
      "text/plain": [
       "<Figure size 720x720 with 4 Axes>"
      ]
     },
     "metadata": {
      "needs_background": "light"
     },
     "output_type": "display_data"
    }
   ],
   "source": [
    "n_repeat = 5\n",
    "my_plot(accuracy,precision,recall,f1,dim,n_repeat,len(X_train),len(X_test))"
   ]
  },
  {
   "cell_type": "markdown",
   "metadata": {},
   "source": [
    "# Artificial Graphs"
   ]
  },
  {
   "cell_type": "code",
   "execution_count": 13,
   "metadata": {},
   "outputs": [
    {
     "name": "stdout",
     "output_type": "stream",
     "text": [
      "End: generating data\n",
      "loop number:  1\n",
      "loop number:  2\n",
      "loop number:  3\n",
      "loop number:  4\n",
      "loop number:  5\n"
     ]
    }
   ],
   "source": [
    "graphs, labels = Graph_generator.gen_set(500,20,0.5)\n",
    "print(\"End: generating data\")\n",
    "# split the graphs and the labels\n",
    "X_train, X_test, y_train, y_test = train_test_split(graphs, labels, test_size=0.3\n",
    "                                                    , random_state=0)\n",
    "y_test = [[i] for i in y_test]\n",
    "y_test = np.ravel(y_test)\n",
    "y_train = [[i] for i in y_train]\n",
    "y_train = np.ravel(y_train)\n",
    "\n",
    "dim = np.logspace(1, 5, num=5, base=2)\n",
    "accuracy = [[] for i in dim]\n",
    "precision = [[] for i in dim]\n",
    "recall = [[] for i in dim]\n",
    "f1 = [[] for i in dim]\n",
    "\n",
    "n_repeat = 5\n",
    "for k in range(0,n_repeat):\n",
    "    print(\"loop number: \", k+1)\n",
    "    pos = 0\n",
    "    for d in dim:\n",
    "        # dimension of the last embedding\n",
    "        dimension_embedding = int(d)\n",
    "\n",
    "        # instanziate first model\n",
    "        eden = graph.Vectorizer(complexity = 2)\n",
    "        model1 = Model(eden, has_fit = False)\n",
    "\n",
    "        # instanziate second model\n",
    "        pca = TruncatedSVD(n_components=1000)\n",
    "        model2 = Model(pca)\n",
    "\n",
    "        # instanziate third model\n",
    "        uma = umap.UMAP(n_components=dimension_embedding)\n",
    "        model3 = Model(uma)\n",
    "\n",
    "        # fit and transform\n",
    "        # mode1 --> model2 --> model3\n",
    "        emb = Embedder([model1,model2,model3])\n",
    "        X_small = emb.fit(X_train,y_train).transform(X_test)\n",
    "\n",
    "\n",
    "        evaluator = Evaluator()\n",
    "        acc, pre, rec, f = evaluator.performance_with_kfold(X_small,y_test)\n",
    "\n",
    "\n",
    "        accuracy[pos] = accuracy[pos] + acc\n",
    "        precision[pos] = precision[pos] + pre\n",
    "        recall[pos] = recall[pos] + rec\n",
    "        f1[pos] = f1[pos] + f\n",
    "        \n",
    "        pos = pos + 1\n"
   ]
  },
  {
   "cell_type": "code",
   "execution_count": 14,
   "metadata": {},
   "outputs": [
    {
     "name": "stdout",
     "output_type": "stream",
     "text": [
      "Dimensions:  [ 2.  4.  8. 16. 32.]\n",
      "Procedure repated:  5\n",
      "\n",
      "Train set size:  350\n",
      "Test set size:  150\n",
      "\n",
      "metrics differents dimensions:\n",
      "\t mean Accuracy 0.9524952380952382\n",
      "\t mean Precision 0.9520142857142858\n",
      "\t mean Recall 0.9610714285714286\n",
      "\t mean F1 0.953246398046398\n"
     ]
    },
    {
     "data": {
      "image/png": "[encoded data removed]",
      "text/plain": [
       "<Figure size 720x720 with 4 Axes>"
      ]
     },
     "metadata": {
      "needs_background": "light"
     },
     "output_type": "display_data"
    }
   ],
   "source": [
    "my_plot(accuracy,precision,recall,f1,dim,n_repeat,len(X_train),len(X_test))"
   ]
  },
  {
   "cell_type": "code",
   "execution_count": 11,
   "metadata": {},
   "outputs": [],
   "source": [
    "import matplotlib.pyplot as plt\n",
    "\n",
    "def my_plot(accuracy,precision,recall,f1,dim,repeat,size_train,size_test,n_targhet=2):\n",
    "    acc_mean, acc_std, acc_25, acc_75 = mean_std(accuracy)\n",
    "    pre_mean, pre_std, pre_25, pre_75 = mean_std(precision)\n",
    "    rec_mean, rec_std, rec_25, rec_75 = mean_std(recall)\n",
    "    f1_mean, f1_std, f1_25, f1_75 = mean_std(f1)\n",
    "    \n",
    "    \n",
    "    print(\"Dimensions: \",dim)\n",
    "    print(\"Procedure repated: \", repeat)\n",
    "    print(\"\")\n",
    "    print(\"Train set size: \",size_train)\n",
    "    print(\"Test set size: \",size_test)\n",
    "    \n",
    "    print(\"\")\n",
    "    print(\"metrics differents dimensions:\")\n",
    "    print(\"\\t mean Accuracy\", np.mean(acc_mean))\n",
    "    print(\"\\t mean Precision\", np.mean(pre_mean))\n",
    "    print(\"\\t mean Recall\", np.mean(rec_mean))\n",
    "    print(\"\\t mean F1\", np.mean(f1_mean))\n",
    "\n",
    "    plt.figure(1, figsize=(10,10))\n",
    "\n",
    "    plt.subplot(321)\n",
    "    plt.title(\"Accuracy\")\n",
    "    # the 1 sigma upper and lower analytic population bounds\n",
    "    lower_bound = acc_25\n",
    "    upper_bound = acc_75\n",
    "\n",
    "    plt.semilogx(dim, acc_mean, lw=2, label='accuracy', color='blue')\n",
    "    plt.scatter(dim, acc_mean, color='blue')\n",
    "    base_line = 1/n_targhet\n",
    "    plt.hlines(base_line, 0, dim[-1], color='red',linestyles= 'dashed')\n",
    "    plt.fill_between(dim, lower_bound, upper_bound, facecolor='#9B8BFF', alpha=0.5,\n",
    "                    label='std')\n",
    "    plt.legend(loc='lower right')\n",
    "    plt.ylim(0,1)\n",
    "    plt.grid()\n",
    "\n",
    "\n",
    "\n",
    "    plt.subplot(322)\n",
    "    plt.title(\"Precision\")\n",
    "    # the 1 sigma upper and lower analytic population bounds\n",
    "    lower_bound = pre_25\n",
    "    upper_bound = pre_75\n",
    "\n",
    "    plt.semilogx(dim, pre_mean, lw=2, label='accuracy', color='blue')\n",
    "    plt.scatter(dim, pre_mean, color='blue')\n",
    "    plt.fill_between(dim, lower_bound, upper_bound, facecolor='#9B8BFF', alpha=0.5,\n",
    "                    label='std')\n",
    "    plt.legend(loc='lower right')\n",
    "    m = min(pre_mean)-max(pre_std)\n",
    "    plt.ylim(0,1)\n",
    "    plt.grid()\n",
    "\n",
    "\n",
    "    plt.subplot(323)\n",
    "    plt.title(\"Recall\")\n",
    "    lower_bound = rec_25\n",
    "    upper_bound = rec_75\n",
    "\n",
    "    plt.semilogx(dim, rec_mean, lw=2, label='accuracy', color='blue')\n",
    "    plt.scatter(dim, rec_mean, color='blue')\n",
    "    plt.fill_between(dim, lower_bound, upper_bound, facecolor='#9B8BFF', alpha=0.5,\n",
    "                    label='std')\n",
    "    plt.legend(loc='lower right')\n",
    "    m = min(rec_mean)-max(rec_std)\n",
    "    plt.ylim(0,1)\n",
    "    plt.grid()\n",
    "\n",
    "    plt.subplot(324)\n",
    "    plt.title(\"F1\")\n",
    "    lower_bound = f1_25    \n",
    "    upper_bound = f1_75\n",
    "\n",
    "    plt.semilogx(dim, f1_mean, lw=2, label='accuracy', color='blue')\n",
    "    plt.scatter(dim, f1_mean, color='blue')\n",
    "    plt.fill_between(dim, lower_bound, upper_bound, facecolor='#9B8BFF', alpha=0.5,\n",
    "                    label='std')\n",
    "    plt.legend(loc='lower right')\n",
    "    m = min(f1_mean)-max(f1_std)\n",
    "    plt.ylim(0,1)\n",
    "    plt.grid()\n",
    "\n",
    "    \n",
    "def mean_std(metric):\n",
    "    mean_res = []\n",
    "    std_res = []\n",
    "    per_25 = []\n",
    "    per_75 = []\n",
    "    for i in metric:\n",
    "        mean_res.append(np.mean(i))\n",
    "        std_res.append(np.std(i))\n",
    "        per_25.append(np.percentile(i,25))\n",
    "        per_75.append(np.percentile(i,75))\n",
    "    \n",
    "    mean_res = np.array(mean_res)\n",
    "    std_res = np.array(std_res)\n",
    "    per_25 = np.array(per_25)\n",
    "    per_75 = np.array(per_75)\n",
    "        \n",
    "    return (mean_res, std_res,per_25, per_75)"
   ]
  }
 ],
 "metadata": {
  "kernelspec": {
   "display_name": "Python 3",
   "language": "python",
   "name": "python3"
  },
  "language_info": {
   "codemirror_mode": {
    "name": "ipython",
    "version": 3
   },
   "file_extension": ".py",
   "mimetype": "text/x-python",
   "name": "python",
   "nbconvert_exporter": "python",
   "pygments_lexer": "ipython3",
   "version": "3.7.1"
  }
 },
 "nbformat": 4,
 "nbformat_minor": 2
}
