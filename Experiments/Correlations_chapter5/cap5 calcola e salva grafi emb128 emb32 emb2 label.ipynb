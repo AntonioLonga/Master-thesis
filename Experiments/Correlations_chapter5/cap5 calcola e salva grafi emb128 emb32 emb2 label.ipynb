{
 "cells": [
  {
   "cell_type": "code",
   "execution_count": 25,
   "metadata": {},
   "outputs": [
    {
     "name": "stdout",
     "output_type": "stream",
     "text": [
      "The autoreload extension is already loaded. To reload it, use:\n",
      "  %reload_ext autoreload\n"
     ]
    },
    {
     "data": {
      "text/html": [
       "<style>.container { width:97% !important; }</style><style>.output_png {display: table-cell;text-align: center;vertical-align: middle;}</style>"
      ],
      "text/plain": [
       "<IPython.core.display.HTML object>"
      ]
     },
     "execution_count": 25,
     "metadata": {},
     "output_type": "execute_result"
    }
   ],
   "source": [
    "%load_ext autoreload\n",
    "%autoreload 2\n",
    "\n",
    "from IPython.core.display import HTML\n",
    "HTML('<style>.container { width:97% !important; }</style><style>.output_png {display: table-cell;text-align: center;vertical-align: middle;}</style>')"
   ]
  },
  {
   "cell_type": "code",
   "execution_count": 26,
   "metadata": {},
   "outputs": [],
   "source": [
    "import load_data as ld\n",
    "import embedder_generator as gen\n",
    "import embedder\n",
    "import utilities as ut\n",
    "\n",
    "from sklearn.model_selection import train_test_split\n",
    "\n",
    "\n",
    "import keras.backend as K\n",
    "from my_callbacks import MyCallback_sinusoidal\n",
    "from sklearn.preprocessing import Normalizer\n",
    "\n",
    "import umap\n",
    "\n",
    "import numpy as np"
   ]
  },
  {
   "cell_type": "code",
   "execution_count": 27,
   "metadata": {},
   "outputs": [],
   "source": [
    "#name = \"generate_graphs/125_pos_neg_BALANCED(2038)\" #Leukemia\n",
    "#name = \"generate_graphs/489028_pos_neg_BALANCED(2864)\" #Cancer\n",
    "#name = \"generate_graphs/1111_pos_neg_BALANCED\" # AIDS\n",
    "#name = \"generate_graphs/2222_pos_neg_(BALANCED)\" # PROTEINS\n",
    "name = \"generate_graphs/3333_pos_neg_(BALANCED)\" # DHFR"
   ]
  },
  {
   "cell_type": "code",
   "execution_count": 28,
   "metadata": {},
   "outputs": [
    {
     "name": "stdout",
     "output_type": "stream",
     "text": [
      "n_ attributes: 261\n"
     ]
    }
   ],
   "source": [
    "# load data \n",
    "graphs,labels = ld.load_data_pubchem(name)\n",
    "\n",
    "# add vectorize vertex 8 bit\n",
    "graphs = ut.add_info_to_nodes(graphs,ut.vec_vertex,8)\n",
    "max_n_nodes, n_attributes = ut.find_shapes(graphs)\n",
    "print(\"n_ attributes: \"+str(n_attributes))\n",
    "\n",
    "#split train test\n",
    "graphs_train, graphs_test, labels_train, labels_test = train_test_split(graphs, labels, test_size=0.2, random_state=42)"
   ]
  },
  {
   "cell_type": "code",
   "execution_count": 31,
   "metadata": {},
   "outputs": [
    {
     "name": "stdout",
     "output_type": "stream",
     "text": [
      "Stopped epoch:  45\n",
      "DIM: 128            TEST    TRAIN\n",
      "----------------  ------  -------\n",
      "K.N.N.  accuracy   0.991    0.989\n"
     ]
    }
   ],
   "source": [
    "times_repeat_spk = 1\n",
    "# build model spketral\n",
    "spk_cla,spk_emb = gen.gen_SpektralGNN_emb(n_classes=2,\n",
    "                                            max_n_nodes = max_n_nodes,\n",
    "                                            n_attributes = n_attributes,\n",
    "                                            n_components= 128)\n",
    "emb_spk = embedder.Kernel_GNN(classificator = spk_cla,\n",
    "                              embedder = spk_emb,\n",
    "                              batch_size = 32,\n",
    "                              validation_split = 0.2,\n",
    "                              epochs = 200,\n",
    "                              patience = 15,\n",
    "                              callbacks=None,\n",
    "                              verbose=0)\n",
    "\n",
    "# fit spk\n",
    "emb_spk.fit(graphs_train,labels_train)\n",
    "# transfrom train and test to n_componentes = 128\n",
    "X_train = emb_spk.transform(graphs_train)\n",
    "X_test = emb_spk.transform(graphs_test)\n",
    "ut.evaluate_emb_train_test(X_test,labels_test,X_train,labels_train)\n",
    "tes,_=list(ut.evaluate_emb_train_test(X_test,labels_test,X_train,labels_train,return_value=True))\n",
    "tes = float(tes)"
   ]
  },
  {
   "cell_type": "code",
   "execution_count": 32,
   "metadata": {},
   "outputs": [
    {
     "name": "stdout",
     "output_type": "stream",
     "text": [
      "DIM: 128            TEST    TRAIN\n",
      "----------------  ------  -------\n",
      "K.N.N.  accuracy   0.991    0.989\n"
     ]
    }
   ],
   "source": [
    "X_train_128 = emb_spk.transform(graphs_train)\n",
    "X_test_128 = emb_spk.transform(graphs_test)\n",
    "ut.evaluate_emb_train_test(X_test_128,labels_test,X_train_128,labels_train)"
   ]
  },
  {
   "cell_type": "markdown",
   "metadata": {},
   "source": [
    "# From 128 to 32"
   ]
  },
  {
   "cell_type": "code",
   "execution_count": 33,
   "metadata": {},
   "outputs": [],
   "source": [
    "from keras.callbacks import TensorBoard\n",
    "from datetime import datetime\n",
    "from keras.callbacks import EarlyStopping"
   ]
  },
  {
   "cell_type": "code",
   "execution_count": 34,
   "metadata": {},
   "outputs": [
    {
     "name": "stdout",
     "output_type": "stream",
     "text": [
      "DIM: 32             TEST    TRAIN\n",
      "----------------  ------  -------\n",
      "K.N.N.  accuracy       1    0.994\n"
     ]
    }
   ],
   "source": [
    "for i in range(1):\n",
    "\n",
    "    w_dec = K.variable(1)\n",
    "    w_cla = K.variable(1)\n",
    "    input_auto = len(X_train_128[0])\n",
    "    auto_epochs = 100\n",
    "    auto_plateau = 10\n",
    "    auto_k = 1\n",
    "    auto_n_period = 4\n",
    "\n",
    "    auto_scale_d = 1\n",
    "    auto_scale_c = 0.01\n",
    "\n",
    "    auto1, enc1 = gen.gen_sup_auto_callback(w_dec,w_cla,input_auto,embedding_size=32,n_classes=2)\n",
    "    # CALLBACK  \n",
    "    my_call_sin1 = MyCallback_sinusoidal(w_dec, w_cla, auto_epochs,auto_plateau,auto_k,auto_n_period,auto_scale_c,auto_scale_d)\n",
    "    # SCALER\n",
    "    scal1 = embedder.Preprocessing_scaler([0, 1])    \n",
    "    # NORMALIZER\n",
    "    #norm1 = Normalizer(copy=True, norm='l2')\n",
    "\n",
    "    emb_auto1 = embedder.Transformer_sup_autoencoder(autoencoder = auto1,\n",
    "                                                     encoder = enc1,\n",
    "                                                     batch_size = 32,\n",
    "                                                     validation_split = 0.2,\n",
    "                                                     epochs = auto_epochs,\n",
    "                                                     callbacks = [my_call_sin1], #[my_call_sin1],\n",
    "                                                     verbose = 0,\n",
    "                                                     normal = None,\n",
    "                                                     scaler = scal1)\n",
    "\n",
    "    # fit\n",
    "    emb_auto1.fit(X_train_128,labels_train)\n",
    "    # transform\n",
    "    X_train_32 = emb_auto1.transform(X_train_128)\n",
    "    X_test_32 = emb_auto1.transform(X_test_128)\n",
    "    # evaluate\n",
    "    ut.evaluate_emb_train_test(X_test_32,labels_test,X_train_32,labels_train)"
   ]
  },
  {
   "cell_type": "code",
   "execution_count": 35,
   "metadata": {},
   "outputs": [
    {
     "name": "stdout",
     "output_type": "stream",
     "text": [
      "DIM: 2              TEST    TRAIN\n",
      "----------------  ------  -------\n",
      "K.N.N.  accuracy   0.983    0.996\n"
     ]
    },
    {
     "data": {
      "image/png": "[encoded data removed]",
      "text/plain": [
       "<Figure size 720x360 with 2 Axes>"
      ]
     },
     "metadata": {
      "needs_background": "light"
     },
     "output_type": "display_data"
    }
   ],
   "source": [
    "for i in range(1):\n",
    "    uma_dnn = gen.gen_umap_dnn(auto_n_components = 32, emb_n_components = 2, dnn_epochs = 100,dnn_batch_size = 32)\n",
    "    uma_dnn.fit(X_train_32,labels_train)\n",
    "\n",
    "    X_train_2 = uma_dnn.transform(X_train_32)\n",
    "    X_test_2 = uma_dnn.transform(X_test_32)\n",
    "    \n",
    "    ut.evaluate_emb_train_test(X_test_2,labels_test,X_train_2,labels_train)\n",
    "    plot2d_tmp(X_test_2,labels_test,X_train_2,labels_train)\n"
   ]
  },
  {
   "cell_type": "code",
   "execution_count": null,
   "metadata": {},
   "outputs": [],
   "source": []
  },
  {
   "cell_type": "code",
   "execution_count": 36,
   "metadata": {},
   "outputs": [],
   "source": [
    "to_save = [graphs_test,graphs_train,X_test_128,X_train_128,X_test_32,X_train_32,X_test_2,X_train_2,labels_test,labels_train]"
   ]
  },
  {
   "cell_type": "code",
   "execution_count": 37,
   "metadata": {},
   "outputs": [],
   "source": [
    "np.save(\"grafi_128_32_2_lab_test_train_dhfr\",to_save)"
   ]
  },
  {
   "cell_type": "code",
   "execution_count": null,
   "metadata": {},
   "outputs": [],
   "source": []
  },
  {
   "cell_type": "code",
   "execution_count": null,
   "metadata": {},
   "outputs": [],
   "source": []
  },
  {
   "cell_type": "code",
   "execution_count": null,
   "metadata": {},
   "outputs": [],
   "source": []
  },
  {
   "cell_type": "code",
   "execution_count": null,
   "metadata": {},
   "outputs": [],
   "source": []
  },
  {
   "cell_type": "code",
   "execution_count": null,
   "metadata": {},
   "outputs": [],
   "source": []
  },
  {
   "cell_type": "code",
   "execution_count": null,
   "metadata": {},
   "outputs": [],
   "source": []
  },
  {
   "cell_type": "code",
   "execution_count": 18,
   "metadata": {},
   "outputs": [],
   "source": [
    "import matplotlib.pyplot as plt\n",
    "import matplotlib\n",
    "import numpy as np\n",
    "def plot2d_tmp(res_test,y_test,res_train,y_train):\n",
    "    _,[pos_tra,neg_tra] = np.unique(y_train,return_counts=True)\n",
    "    _,[pos_tes,neg_tes] = np.unique(y_test,return_counts=True)\n",
    "\n",
    "    colors = ['red','blue']\n",
    "    plt.figure(figsize=(10,5))\n",
    "    plt.subplot(121)\n",
    "    x = res_test[:,0]\n",
    "    y = res_test[:,1]\n",
    "    plt.title(\"TEST\\nPos: \"+str(pos_tes)+\" Neg \"+str(neg_tes)+\"\\nTOT: \"+str(len(y_test)))\n",
    "    plt.scatter(x,y,s=8,c=y_test,cmap=matplotlib.colors.ListedColormap(colors))\n",
    "\n",
    "\n",
    "    plt.subplot(122)\n",
    "    x = res_train[:,0]\n",
    "    y = res_train[:,1]\n",
    "    plt.title(\"TRAIN\\nPos: \"+str(pos_tra)+\" Neg \"+str(neg_tra)+\"\\nTOT: \"+str(len(y_train)))\n",
    "    plt.scatter(x,y,s=8,c=y_train,cmap=matplotlib.colors.ListedColormap(colors))\n",
    "\n",
    "    plt.show()\n",
    "    "
   ]
  }
 ],
 "metadata": {
  "kernelspec": {
   "display_name": "Python 3",
   "language": "python",
   "name": "python3"
  },
  "language_info": {
   "codemirror_mode": {
    "name": "ipython",
    "version": 3
   },
   "file_extension": ".py",
   "mimetype": "text/x-python",
   "name": "python",
   "nbconvert_exporter": "python",
   "pygments_lexer": "ipython3",
   "version": "3.7.3"
  }
 },
 "nbformat": 4,
 "nbformat_minor": 2
}
