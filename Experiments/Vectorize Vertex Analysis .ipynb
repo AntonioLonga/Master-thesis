{
 "cells": [
  {
   "cell_type": "code",
   "execution_count": 17,
   "metadata": {},
   "outputs": [
    {
     "name": "stdout",
     "output_type": "stream",
     "text": [
      "The autoreload extension is already loaded. To reload it, use:\n",
      "  %reload_ext autoreload\n"
     ]
    },
    {
     "data": {
      "text/html": [
       "<style>.container { width:97% !important; }</style><style>.output_png {display: table-cell;text-align: center;vertical-align: middle;}</style>"
      ],
      "text/plain": [
       "<IPython.core.display.HTML object>"
      ]
     },
     "execution_count": 17,
     "metadata": {},
     "output_type": "execute_result"
    }
   ],
   "source": [
    "%load_ext autoreload\n",
    "%autoreload 2\n",
    "\n",
    "\n",
    "from IPython.core.display import HTML\n",
    "HTML('<style>.container { width:97% !important; }</style><style>.output_png {display: table-cell;text-align: center;vertical-align: middle;}</style>')"
   ]
  },
  {
   "cell_type": "code",
   "execution_count": 18,
   "metadata": {},
   "outputs": [],
   "source": [
    "import embedder_generator as emb_gen\n",
    "import networkx as nx\n",
    "import numpy as np\n",
    "import utilities \n",
    "\n",
    "from embedder import Embedder\n",
    "from embedder import Kernel_GNN\n",
    "from embedder import Transformer\n",
    "from umap import UMAP"
   ]
  },
  {
   "cell_type": "code",
   "execution_count": 19,
   "metadata": {},
   "outputs": [],
   "source": [
    "bits = [2,3,4,5,6,7,8,9,10,11,12,13]"
   ]
  },
  {
   "cell_type": "code",
   "execution_count": 20,
   "metadata": {
    "scrolled": false
   },
   "outputs": [
    {
     "name": "stdout",
     "output_type": "stream",
     "text": [
      "Negative samples:  136\n",
      "Positive samples:  256\n",
      "max numb of nodes:  42\n",
      "n_attributes:  4\n",
      "\t iteration n: 1\n",
      "\t \t dim:  2\n",
      "\t \t \t  BASELINE: SpK + UMAP\n",
      "Stopped epoch:  66\n",
      "Negative samples:  136\n",
      "Positive samples:  256\n",
      "max numb of nodes:  42\n",
      "n_attributes:  8\n",
      "\t iteration n: 1\n",
      "\t \t dim:  2\n",
      "\t \t \t  BASELINE: SpK + UMAP\n",
      "Stopped epoch:  131\n",
      "Negative samples:  136\n",
      "Positive samples:  256\n",
      "max numb of nodes:  42\n",
      "n_attributes:  16\n",
      "\t iteration n: 1\n",
      "\t \t dim:  2\n",
      "\t \t \t  BASELINE: SpK + UMAP\n",
      "Stopped epoch:  71\n",
      "Negative samples:  136\n",
      "Positive samples:  256\n",
      "max numb of nodes:  42\n",
      "n_attributes:  32\n",
      "\t iteration n: 1\n",
      "\t \t dim:  2\n",
      "\t \t \t  BASELINE: SpK + UMAP\n",
      "Stopped epoch:  83\n",
      "Negative samples:  136\n",
      "Positive samples:  256\n",
      "max numb of nodes:  42\n",
      "n_attributes:  64\n",
      "\t iteration n: 1\n",
      "\t \t dim:  2\n",
      "\t \t \t  BASELINE: SpK + UMAP\n",
      "Stopped epoch:  73\n"
     ]
    },
    {
     "name": "stderr",
     "output_type": "stream",
     "text": [
      "/home/antonio/.local/lib/python3.7/site-packages/sklearn/metrics/classification.py:1437: UndefinedMetricWarning: Precision is ill-defined and being set to 0.0 in labels with no predicted samples.\n",
      "  'precision', 'predicted', average, warn_for)\n",
      "/home/antonio/.local/lib/python3.7/site-packages/sklearn/metrics/classification.py:1437: UndefinedMetricWarning: F-score is ill-defined and being set to 0.0 in labels with no predicted samples.\n",
      "  'precision', 'predicted', average, warn_for)\n"
     ]
    },
    {
     "name": "stdout",
     "output_type": "stream",
     "text": [
      "Negative samples:  136\n",
      "Positive samples:  256\n",
      "max numb of nodes:  42\n",
      "n_attributes:  128\n",
      "\t iteration n: 1\n",
      "\t \t dim:  2\n",
      "\t \t \t  BASELINE: SpK + UMAP\n",
      "Stopped epoch:  63\n",
      "Negative samples:  136\n",
      "Positive samples:  256\n",
      "max numb of nodes:  42\n",
      "n_attributes:  256\n",
      "\t iteration n: 1\n",
      "\t \t dim:  2\n",
      "\t \t \t  BASELINE: SpK + UMAP\n",
      "Stopped epoch:  60\n"
     ]
    },
    {
     "name": "stderr",
     "output_type": "stream",
     "text": [
      "/home/antonio/.local/lib/python3.7/site-packages/sklearn/metrics/classification.py:1437: UndefinedMetricWarning: Precision is ill-defined and being set to 0.0 in labels with no predicted samples.\n",
      "  'precision', 'predicted', average, warn_for)\n",
      "/home/antonio/.local/lib/python3.7/site-packages/sklearn/metrics/classification.py:1437: UndefinedMetricWarning: F-score is ill-defined and being set to 0.0 in labels with no predicted samples.\n",
      "  'precision', 'predicted', average, warn_for)\n"
     ]
    },
    {
     "name": "stdout",
     "output_type": "stream",
     "text": [
      "Negative samples:  136\n",
      "Positive samples:  256\n",
      "max numb of nodes:  42\n",
      "n_attributes:  512\n",
      "\t iteration n: 1\n",
      "\t \t dim:  2\n",
      "\t \t \t  BASELINE: SpK + UMAP\n",
      "Stopped epoch:  57\n",
      "Negative samples:  136\n",
      "Positive samples:  256\n",
      "max numb of nodes:  42\n",
      "n_attributes:  1024\n",
      "\t iteration n: 1\n",
      "\t \t dim:  2\n",
      "\t \t \t  BASELINE: SpK + UMAP\n",
      "Stopped epoch:  57\n",
      "Negative samples:  136\n",
      "Positive samples:  256\n",
      "max numb of nodes:  42\n",
      "n_attributes:  2048\n",
      "\t iteration n: 1\n",
      "\t \t dim:  2\n",
      "\t \t \t  BASELINE: SpK + UMAP\n",
      "Stopped epoch:  55\n",
      "Negative samples:  136\n",
      "Positive samples:  256\n",
      "max numb of nodes:  42\n",
      "n_attributes:  4096\n",
      "\t iteration n: 1\n",
      "\t \t dim:  2\n",
      "\t \t \t  BASELINE: SpK + UMAP\n",
      "Stopped epoch:  52\n",
      "Negative samples:  136\n",
      "Positive samples:  256\n",
      "max numb of nodes:  42\n",
      "n_attributes:  8192\n",
      "\t iteration n: 1\n",
      "\t \t dim:  2\n",
      "\t \t \t  BASELINE: SpK + UMAP\n",
      "Stopped epoch:  53\n"
     ]
    },
    {
     "name": "stderr",
     "output_type": "stream",
     "text": [
      "/home/antonio/.local/lib/python3.7/site-packages/sklearn/metrics/classification.py:1437: UndefinedMetricWarning: Precision is ill-defined and being set to 0.0 in labels with no predicted samples.\n",
      "  'precision', 'predicted', average, warn_for)\n",
      "/home/antonio/.local/lib/python3.7/site-packages/sklearn/metrics/classification.py:1437: UndefinedMetricWarning: F-score is ill-defined and being set to 0.0 in labels with no predicted samples.\n",
      "  'precision', 'predicted', average, warn_for)\n"
     ]
    }
   ],
   "source": [
    "res = test_nbits(bits)"
   ]
  },
  {
   "cell_type": "code",
   "execution_count": 21,
   "metadata": {},
   "outputs": [
    {
     "data": {
      "image/png": "[encoded data removed]",
      "text/plain": [
       "<Figure size 576x576 with 1 Axes>"
      ]
     },
     "metadata": {
      "needs_background": "light"
     },
     "output_type": "display_data"
    },
    {
     "data": {
      "image/png": "[encoded data removed]",
      "text/plain": [
       "<Figure size 576x576 with 1 Axes>"
      ]
     },
     "metadata": {
      "needs_background": "light"
     },
     "output_type": "display_data"
    }
   ],
   "source": [
    "tmp_plot_std(res)\n",
    "tmp_plot(res)"
   ]
  },
  {
   "cell_type": "code",
   "execution_count": 22,
   "metadata": {},
   "outputs": [
    {
     "name": "stdout",
     "output_type": "stream",
     "text": [
      "\n",
      "bit_used:  2\n",
      "                         2    STD    mean\n",
      "--------------------  ----  -----  ------\n",
      "BASELINE: SpK + UMAP  0.66  0.086   0.373\n",
      "\n",
      "bit_used:  3\n",
      "                          2    STD    mean\n",
      "--------------------  -----  -----  ------\n",
      "BASELINE: SpK + UMAP  0.665   0.14   0.402\n",
      "\n",
      "bit_used:  4\n",
      "                          2    STD    mean\n",
      "--------------------  -----  -----  ------\n",
      "BASELINE: SpK + UMAP  0.635  0.159   0.397\n",
      "\n",
      "bit_used:  5\n",
      "                          2    STD    mean\n",
      "--------------------  -----  -----  ------\n",
      "BASELINE: SpK + UMAP  0.787  0.074    0.43\n",
      "\n",
      "bit_used:  6\n",
      "                          2    STD    mean\n",
      "--------------------  -----  -----  ------\n",
      "BASELINE: SpK + UMAP  0.711  0.106   0.408\n",
      "\n",
      "bit_used:  7\n",
      "                          2    STD    mean\n",
      "--------------------  -----  -----  ------\n",
      "BASELINE: SpK + UMAP  0.726  0.117   0.422\n",
      "\n",
      "bit_used:  8\n",
      "                          2    STD    mean\n",
      "--------------------  -----  -----  ------\n",
      "BASELINE: SpK + UMAP  0.739  0.122    0.43\n",
      "\n",
      "bit_used:  9\n",
      "                          2    STD    mean\n",
      "--------------------  -----  -----  ------\n",
      "BASELINE: SpK + UMAP  0.714   0.09   0.402\n",
      "\n",
      "bit_used:  10\n",
      "                          2    STD    mean\n",
      "--------------------  -----  -----  ------\n",
      "BASELINE: SpK + UMAP  0.734  0.118   0.426\n",
      "\n",
      "bit_used:  11\n",
      "                          2    STD    mean\n",
      "--------------------  -----  -----  ------\n",
      "BASELINE: SpK + UMAP  0.651  0.066   0.359\n",
      "\n",
      "bit_used:  12\n",
      "                          2    STD    mean\n",
      "--------------------  -----  -----  ------\n",
      "BASELINE: SpK + UMAP  0.779  0.069   0.424\n",
      "\n",
      "bit_used:  13\n",
      "                          2    STD    mean\n",
      "--------------------  -----  -----  ------\n",
      "BASELINE: SpK + UMAP  0.746  0.093    0.42\n"
     ]
    }
   ],
   "source": [
    "c = 0\n",
    "for r in list(res.values()):\n",
    "    print(\"\\nbit_used: \",bits[c])\n",
    "    c = c + 1\n",
    "    r.summary()"
   ]
  },
  {
   "cell_type": "code",
   "execution_count": null,
   "metadata": {},
   "outputs": [],
   "source": []
  },
  {
   "cell_type": "code",
   "execution_count": null,
   "metadata": {},
   "outputs": [],
   "source": []
  },
  {
   "cell_type": "code",
   "execution_count": null,
   "metadata": {},
   "outputs": [],
   "source": []
  },
  {
   "cell_type": "code",
   "execution_count": null,
   "metadata": {},
   "outputs": [],
   "source": []
  },
  {
   "cell_type": "code",
   "execution_count": null,
   "metadata": {},
   "outputs": [],
   "source": []
  },
  {
   "cell_type": "code",
   "execution_count": null,
   "metadata": {},
   "outputs": [],
   "source": []
  },
  {
   "cell_type": "code",
   "execution_count": 4,
   "metadata": {},
   "outputs": [],
   "source": [
    "def test_nbits(n_bits):\n",
    "    \n",
    "    res = {}\n",
    "    for i in n_bits:\n",
    "        vis = execute(i)\n",
    "        res[i] = vis\n",
    "        \n",
    "    return(res)"
   ]
  },
  {
   "cell_type": "code",
   "execution_count": 5,
   "metadata": {},
   "outputs": [],
   "source": [
    "import matplotlib.pyplot as plt\n",
    "def tmp_plot(res):\n",
    "    a = list(res.keys())\n",
    "    visualizators = list(res.values())\n",
    "    \n",
    "    pos = 1\n",
    "\n",
    "    spk_baseline = []\n",
    "\n",
    "    for v in visualizators:\n",
    "        result_matrix = v.summary(std=False,return_matrix=True)\n",
    "        spk_baseline.append(result_matrix[0][pos])\n",
    "        \n",
    "        \n",
    "    plt.figure(figsize=(8,8))\n",
    "    plt.title(str(\"learning rate - dim embedding\"))\n",
    "    plt.plot(a,spk_baseline, label='spk + pca',color='b')\n",
    "    plt.scatter(a,spk_baseline,color='b')\n",
    "    plt.ylim([0,1])\n",
    "    plt.legend()\n",
    "    \n",
    "def tmp_plot_std(res):\n",
    "    \n",
    "    a = list(res.keys())\n",
    "    visualizators = list(res.values())\n",
    "    \n",
    "    pos = 1\n",
    "    spk_baseline = []\n",
    "    spk_baseline_std = []\n",
    "\n",
    "    for v in visualizators:\n",
    "        result_matrix = v.summary(return_matrix=True)\n",
    "\n",
    "        spk_baseline.append(result_matrix[0][pos])\n",
    "        spk_baseline_std.append(result_matrix[0][pos+1])\n",
    "        \n",
    "\n",
    "    plt.figure(figsize=(8,8))\n",
    "    plt.title(str(\"learning rate - dim embedding = \"))\n",
    "    plt.plot(a,spk_baseline, label='spk + pca',color='b')\n",
    "    plt.scatter(a,spk_baseline,color='b')\n",
    "    low = [spk_baseline[i]-spk_baseline_std[i] for i in range(0,len(spk_baseline))] \n",
    "    upp = [spk_baseline[i]+spk_baseline_std[i] for i in range(0,len(spk_baseline))]\n",
    "    plt.fill_between(a,low,upp, facecolor='#9B8BFF', alpha=0.5)\n",
    "    plt.ylim([0,1])\n",
    "    plt.legend()"
   ]
  },
  {
   "cell_type": "code",
   "execution_count": 6,
   "metadata": {},
   "outputs": [],
   "source": [
    "def execute(vec_vet_nbits):\n",
    "    \n",
    "    graphs, labels = load_generated_data_classification(\"generate_graphs/624249_pos_neg\")\n",
    "    for g in graphs:\n",
    "        for node in g.nodes():\n",
    "            g.nodes[node]['vec'] = []\n",
    "    for g in graphs:\n",
    "        for edge in g.edges():\n",
    "            g.edges[edge]['vec'] = []\n",
    "            \n",
    "    graphs = utilities.add_info_to_nodes(graphs,[utilities.vec_vertex],param=vec_vet_nbits)\n",
    "    max_n_nodes,n_attributes = utilities.find_shapes(graphs)\n",
    "    \n",
    "    print(\"n_attributes: \",n_attributes)\n",
    "    \n",
    "    emb = generate_embedder(max_n_nodes,n_attributes)\n",
    "    \n",
    "    vis = utilities.repeat_n_times(graphs, labels, [emb] , [2], 1,test_size=0.3,seed = 11)\n",
    "    \n",
    "    return(vis)\n",
    "\n",
    "def generate_embedder(max_n_nodes,n_attributes):\n",
    "\n",
    "    # SpeKtral GNN\n",
    "    spk_gnn, spk_emb = emb_gen.gen_SpektralGNN_emb(n_classes= 2,\n",
    "                                                    n_components= 128,\n",
    "                                                    max_n_nodes= max_n_nodes,\n",
    "                                                    n_attributes= n_attributes)\n",
    "\n",
    "\n",
    "\n",
    "    kernel_spk = Kernel_GNN(classificator = spk_gnn,\n",
    "                           embedder = spk_emb,\n",
    "                           batch_size = 32,\n",
    "                           validation_split = 0.2,\n",
    "                           epochs = 300,\n",
    "                           patience = 50)\n",
    "                           #callbacks = [tb],\n",
    "    k1 = Transformer(kernel_spk)\n",
    "\n",
    "    # umap\n",
    "    m1 = Transformer(UMAP(n_components = 2))\n",
    "\n",
    "    # embedder\n",
    "    emb = Embedder([k1,m1],\"BASELINE: SpK + UMAP\")\n",
    "    \n",
    "    return (emb)\n",
    "\n",
    "def load_generated_data_classification(path):\n",
    "    \n",
    "    graphs = nx.read_gpickle(path+'/'+'graphs.gpickle')    \n",
    "    labels = list(np.load(path+'/'+'labels.npy'))\n",
    "   \n",
    "    return (graphs,labels)"
   ]
  },
  {
   "cell_type": "code",
   "execution_count": null,
   "metadata": {},
   "outputs": [],
   "source": []
  }
 ],
 "metadata": {
  "kernelspec": {
   "display_name": "Python 3",
   "language": "python",
   "name": "python3"
  },
  "language_info": {
   "codemirror_mode": {
    "name": "ipython",
    "version": 3
   },
   "file_extension": ".py",
   "mimetype": "text/x-python",
   "name": "python",
   "nbconvert_exporter": "python",
   "pygments_lexer": "ipython3",
   "version": "3.7.3"
  }
 },
 "nbformat": 4,
 "nbformat_minor": 2
}
