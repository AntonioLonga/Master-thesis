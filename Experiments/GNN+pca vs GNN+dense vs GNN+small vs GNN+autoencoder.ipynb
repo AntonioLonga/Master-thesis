{
 "cells": [
  {
   "cell_type": "code",
   "execution_count": 44,
   "metadata": {},
   "outputs": [
    {
     "name": "stdout",
     "output_type": "stream",
     "text": [
      "The autoreload extension is already loaded. To reload it, use:\n",
      "  %reload_ext autoreload\n"
     ]
    }
   ],
   "source": [
    "%load_ext autoreload\n",
    "%autoreload 2\n",
    "\n",
    "import utilities\n",
    "from evaluator import Evaluator\n",
    "from embedder import Embedder\n",
    "from embedder import Transformer\n",
    "from embedder import Transformer_GNN\n",
    "from embedder import Transformer_GNN_embedder\n",
    "from embedder import Preprocessing_scaler\n",
    "from Graph_generator import Graph_Generator\n",
    "import tmp_generator as tmp\n",
    "from visualizator import Visualizator\n",
    "\n",
    "from eden import graph\n",
    "import umap \n",
    "\n",
    "import numpy as np\n",
    "from sklearn.decomposition import TruncatedSVD"
   ]
  },
  {
   "cell_type": "markdown",
   "metadata": {},
   "source": [
    "# Generate graphs + LDP"
   ]
  },
  {
   "cell_type": "code",
   "execution_count": 142,
   "metadata": {},
   "outputs": [
    {
     "name": "stdout",
     "output_type": "stream",
     "text": [
      "done\n"
     ]
    }
   ],
   "source": [
    "n_graphs = 500\n",
    "\n",
    "# 20 permutations\n",
    "gg = Graph_Generator(n_graphs=n_graphs,\n",
    "                     degree = 4)\n",
    "g1, na1, ea1 = gg.generate(20,10,10,1)\n",
    "g2, na2, ea2 = gg.generate(20,10,10,10)\n",
    "\n",
    "graphs, labels = gg.generate_set(g1,g2,na1, ea1,na2, ea2,15,15,plot=False)\n",
    "\n",
    "functions = [utilities.degree,utilities.clust_coefficient,utilities.local_degree_profile]\n",
    "graphs = utilities.add_info_to_nodes(graphs,functions)\n",
    "\n",
    "\n",
    "max_n_nodes, n_attributes = utilities.find_shapes(graphs)\n",
    "n_classes = len(np.unique(labels))\n",
    "\n",
    "print(\"done\")"
   ]
  },
  {
   "cell_type": "code",
   "execution_count": 143,
   "metadata": {},
   "outputs": [],
   "source": [
    "def tmp_preprocessing_vectorize(graphs):        \n",
    "\n",
    "    for g in graphs:\n",
    "        \n",
    "        c=0\n",
    "        for n in g.nodes():\n",
    "            a = g.nodes[n]['vec']\n",
    "            del g.nodes[n]['vec']\n",
    "            g.nodes[n]['label'] = str(a[0])\n",
    "            g.nodes[n]['vec'] = a\n",
    "            c=c+1\n",
    "\n",
    "    for g in graphs:\n",
    "        c=0\n",
    "        for n in g.edges():\n",
    "            a = g.edges[n]['vec']\n",
    "            del g.edges[n]['vec']      \n",
    "            g.edges[n]['label'] = str(a[0])\n",
    "            g.edges[n]['vec'] = a[0]\n",
    "            c=c+1\n",
    "\n",
    "    return(graphs)\n",
    "\n",
    "graphs = tmp_preprocessing_vectorize(graphs)"
   ]
  },
  {
   "cell_type": "code",
   "execution_count": 25,
   "metadata": {},
   "outputs": [],
   "source": [
    "# setting \n",
    "\n",
    "dim = [2,3,5]\n",
    "times = 1\n",
    "\n",
    "\n",
    "batch_size = 32\n",
    "validation_split = 0.2\n",
    "epochs_GNN = 100\n",
    "epochs_autoencoder = 200\n",
    "verbose=0\n",
    "plot=False"
   ]
  },
  {
   "cell_type": "markdown",
   "metadata": {},
   "source": [
    "## Embedder 1\n",
    "### Spektral + PCA"
   ]
  },
  {
   "cell_type": "code",
   "execution_count": 21,
   "metadata": {},
   "outputs": [],
   "source": [
    "my_GNN = tmp.generate_GNN(max_n_nodes,\n",
    "                      n_attributes,\n",
    "                      n_classes,\n",
    "                      batch_size = batch_size,\n",
    "                      validation_split = validation_split,\n",
    "                      epochs = epochs_GNN,\n",
    "                      verbose = verbose, \n",
    "                      plot=plot)\n",
    "\n",
    "m_1 = Transformer(my_GNN)\n",
    "m_2 = Transformer(TruncatedSVD())\n",
    "emb_1 = Embedder([m_1,m_2],\"Spektral + PCA\")"
   ]
  },
  {
   "cell_type": "markdown",
   "metadata": {},
   "source": [
    "## Embedder 2\n",
    "### Spektral + Small 128 - n_components"
   ]
  },
  {
   "cell_type": "code",
   "execution_count": 22,
   "metadata": {},
   "outputs": [],
   "source": [
    "my_GNN_small = tmp.gen_gnn_small(max_n_nodes,\n",
    "                                 n_attributes,\n",
    "                                 batch_size = batch_size,\n",
    "                                 validation_split = validation_split,\n",
    "                                 epochs = epochs_GNN,\n",
    "                                 dim = dim,\n",
    "                                 plot = plot)\n",
    "\n",
    "m_1 = Transformer(my_GNN_small)\n",
    "emb_2 = Embedder([m_1],\"Spektral + small\")"
   ]
  },
  {
   "cell_type": "markdown",
   "metadata": {},
   "source": [
    "## Embedder 3\n",
    "### Spektral + Dense 128 - 64 - 32 - 16 -  8 - n_components"
   ]
  },
  {
   "cell_type": "code",
   "execution_count": 23,
   "metadata": {},
   "outputs": [],
   "source": [
    "my_GNN_dense = tmp.gen_gnn_dense(max_n_nodes,\n",
    "                                 n_attributes,\n",
    "                                 batch_size = batch_size,\n",
    "                                 validation_split = validation_split,\n",
    "                                 epochs = epochs_GNN,\n",
    "                                 dim = dim,\n",
    "                                 plot = plot)\n",
    "\n",
    "m_1 = Transformer(my_GNN_dense)\n",
    "emb_3 = Embedder([m_1],\"Spektral + dense\")"
   ]
  },
  {
   "cell_type": "markdown",
   "metadata": {},
   "source": [
    "## Embedder 4\n",
    "### Spektral fino a 128 + Autoencoder 128 - 64- 16 - 8 - 5 - 3 - 2\n",
    "### Preprocessing_scaler -0.5 ; 0.5"
   ]
  },
  {
   "cell_type": "code",
   "execution_count": 24,
   "metadata": {},
   "outputs": [],
   "source": [
    "# modello 1 GNN\n",
    "my_GNN = tmp.generate_GNN(max_n_nodes,n_attributes,n_classes,\n",
    "                           batch_size=batch_size,\n",
    "                           validation_split=validation_split,\n",
    "                           verbose=verbose,\n",
    "                           epochs=epochs_GNN,\n",
    "                           plot=plot)\n",
    "m_1 = Transformer(my_GNN)\n",
    "\n",
    "# preprocessing scaler\n",
    "my_scaler = Preprocessing_scaler([-0.5, 0.5])\n",
    "# modello 2 Autoencoder\n",
    "my_Autoencoder = tmp.gen_transf_autoencoder(batch_size=batch_size,\n",
    "                                            validation_split=validation_split,\n",
    "                                            epochs=epochs_autoencoder, \n",
    "                                            verbose=verbose,\n",
    "                                            scaler=my_scaler,\n",
    "                                            dim = dim,\n",
    "                                            plot=plot)\n",
    "\n",
    "m_2 = Transformer(my_Autoencoder)\n",
    "\n",
    "\n",
    "emb_4 = Embedder([m_1,m_2], name=\"Spketral 128 - Autoencoder denso\")"
   ]
  },
  {
   "cell_type": "markdown",
   "metadata": {},
   "source": [
    "## Embedder 5\n",
    "### Vectorize + pca 1000 + umap"
   ]
  },
  {
   "cell_type": "code",
   "execution_count": 146,
   "metadata": {},
   "outputs": [],
   "source": [
    "vetcoriz = graph.Vectorizer(complexity = 5)\n",
    "m_1= Transformer(vetcoriz, has_fit = False)\n",
    "pca = TruncatedSVD(n_components=1000)\n",
    "m_2 = Transformer(pca)\n",
    "uma = umap.UMAP()\n",
    "m_3 = Transformer(uma)\n",
    "\n",
    "emb_5 = Embedder([m_1,m_2,m_3], name=\"Vectorize-5, PCA-1000, UMAP\")"
   ]
  },
  {
   "cell_type": "code",
   "execution_count": 151,
   "metadata": {},
   "outputs": [
    {
     "name": "stdout",
     "output_type": "stream",
     "text": [
      "\t iteration n: 1\n",
      "\t \t dim:  2\n",
      "\t \t \t  Vectorize-5, PCA-1000, UMAP\n",
      "\t \t \t  Spketral 128 - Autoencoder denso\n",
      "0\n",
      "\t \t dim:  3\n",
      "\t \t \t  Vectorize-5, PCA-1000, UMAP\n",
      "\t \t \t  Spketral 128 - Autoencoder denso\n",
      "0\n",
      "\t \t dim:  5\n",
      "\t \t \t  Vectorize-5, PCA-1000, UMAP\n",
      "\t \t \t  Spketral 128 - Autoencoder denso\n",
      "0\n"
     ]
    }
   ],
   "source": [
    "vis_500 = utilities.repeat_n_times(graphs, labels, [emb_5,emb_4], [2,3,5], 1,test_size=0.3,seed = 11)"
   ]
  },
  {
   "cell_type": "code",
   "execution_count": 152,
   "metadata": {},
   "outputs": [
    {
     "name": "stdout",
     "output_type": "stream",
     "text": [
      "                                      2      3      5    mean\n",
      "--------------------------------  -----  -----  -----  ------\n",
      "Vectorize-5, PCA-1000, UMAP       0.805  0.806  0.873   0.828\n",
      "Spketral 128 - Autoencoder denso  0.439  0.534  0.562   0.512\n"
     ]
    }
   ],
   "source": [
    "vis_500.summary(std = False)"
   ]
  },
  {
   "cell_type": "code",
   "execution_count": 153,
   "metadata": {},
   "outputs": [
    {
     "name": "stdout",
     "output_type": "stream",
     "text": [
      "                                      2    STD      3    STD      5    STD    mean\n",
      "--------------------------------  -----  -----  -----  -----  -----  -----  ------\n",
      "Vectorize-5, PCA-1000, UMAP       0.805  0.098  0.806  0.082  0.873  0.07    0.456\n",
      "Spketral 128 - Autoencoder denso  0.439  0.184  0.534  0.122  0.562  0.115   0.326\n"
     ]
    }
   ],
   "source": [
    "vis_500.summary()"
   ]
  },
  {
   "cell_type": "code",
   "execution_count": null,
   "metadata": {},
   "outputs": [],
   "source": []
  },
  {
   "cell_type": "code",
   "execution_count": null,
   "metadata": {},
   "outputs": [],
   "source": []
  },
  {
   "cell_type": "code",
   "execution_count": null,
   "metadata": {},
   "outputs": [],
   "source": []
  },
  {
   "cell_type": "markdown",
   "metadata": {},
   "source": [
    "# Experiments"
   ]
  },
  {
   "cell_type": "code",
   "execution_count": 26,
   "metadata": {},
   "outputs": [
    {
     "name": "stdout",
     "output_type": "stream",
     "text": [
      "\t iteration n: 1\n",
      "\t \t dim:  2\n",
      "\t \t \t  Spektral + PCA\n",
      "reset state TRANSFORMER\n",
      "reset_state GNN\n",
      "reset state TRANSFORMER\n",
      "0\n"
     ]
    },
    {
     "name": "stderr",
     "output_type": "stream",
     "text": [
      "/home/antonio/anaconda3/envs/tesi/lib/python3.6/site-packages/sklearn/metrics/classification.py:1143: UndefinedMetricWarning: Precision is ill-defined and being set to 0.0 in labels with no predicted samples.\n",
      "  'precision', 'predicted', average, warn_for)\n",
      "/home/antonio/anaconda3/envs/tesi/lib/python3.6/site-packages/sklearn/metrics/classification.py:1143: UndefinedMetricWarning: F-score is ill-defined and being set to 0.0 in labels with no predicted samples.\n",
      "  'precision', 'predicted', average, warn_for)\n"
     ]
    },
    {
     "name": "stdout",
     "output_type": "stream",
     "text": [
      "\t \t \t  Spektral + small\n",
      "reset state TRANSFORMER\n",
      "reset state GNN embed\n",
      "0\n",
      "\t \t \t  Spektral + dense\n",
      "reset state TRANSFORMER\n",
      "reset state GNN embed\n",
      "0\n"
     ]
    },
    {
     "name": "stderr",
     "output_type": "stream",
     "text": [
      "/home/antonio/anaconda3/envs/tesi/lib/python3.6/site-packages/sklearn/metrics/classification.py:1143: UndefinedMetricWarning: Precision is ill-defined and being set to 0.0 in labels with no predicted samples.\n",
      "  'precision', 'predicted', average, warn_for)\n",
      "/home/antonio/anaconda3/envs/tesi/lib/python3.6/site-packages/sklearn/metrics/classification.py:1143: UndefinedMetricWarning: F-score is ill-defined and being set to 0.0 in labels with no predicted samples.\n",
      "  'precision', 'predicted', average, warn_for)\n"
     ]
    },
    {
     "name": "stdout",
     "output_type": "stream",
     "text": [
      "\t \t \t  Spketral 128 - Autoencoder denso\n",
      "reset state TRANSFORMER\n",
      "reset_state GNN\n",
      "reset state TRANSFORMER\n",
      "reset state AUTOENCODER\n",
      "0\n",
      "\t \t dim:  3\n",
      "\t \t \t  Spektral + PCA\n",
      "reset state TRANSFORMER\n",
      "reset_state GNN\n",
      "reset state TRANSFORMER\n",
      "0\n",
      "\t \t \t  Spektral + small\n",
      "reset state TRANSFORMER\n",
      "reset state GNN embed\n",
      "0\n",
      "\t \t \t  Spektral + dense\n",
      "reset state TRANSFORMER\n",
      "reset state GNN embed\n",
      "0\n",
      "\t \t \t  Spketral 128 - Autoencoder denso\n",
      "reset state TRANSFORMER\n",
      "reset_state GNN\n",
      "reset state TRANSFORMER\n",
      "reset state AUTOENCODER\n",
      "0\n",
      "\t \t dim:  5\n",
      "\t \t \t  Spektral + PCA\n",
      "reset state TRANSFORMER\n",
      "reset_state GNN\n",
      "reset state TRANSFORMER\n",
      "0\n",
      "\t \t \t  Spektral + small\n",
      "reset state TRANSFORMER\n",
      "reset state GNN embed\n",
      "0\n",
      "\t \t \t  Spektral + dense\n",
      "reset state TRANSFORMER\n",
      "reset state GNN embed\n",
      "0\n",
      "\t \t \t  Spketral 128 - Autoencoder denso\n",
      "reset state TRANSFORMER\n",
      "reset_state GNN\n",
      "reset state TRANSFORMER\n",
      "reset state AUTOENCODER\n",
      "0\n"
     ]
    }
   ],
   "source": [
    "emb = [emb_1,emb_2,emb_3,emb_4]\n",
    "\n",
    "vis_500 = utilities.repeat_n_times(graphs, labels, emb, dim, times,test_size=0.3,seed = 11)"
   ]
  },
  {
   "cell_type": "code",
   "execution_count": 35,
   "metadata": {},
   "outputs": [
    {
     "name": "stdout",
     "output_type": "stream",
     "text": [
      "                                      2      3      5    mean\n",
      "--------------------------------  -----  -----  -----  ------\n",
      "Spektral + PCA                    0.594  0.495  0.558   0.549\n",
      "Spektral + small                  0.644  0.646  0.598   0.629\n",
      "Spektral + dense                  0.533  0.565  0.476   0.525\n",
      "Spketral 128 - Autoencoder denso  0.58   0.622  0.455   0.552\n",
      "                                    2    3    5     mean\n",
      "--------------------------------  ---  ---  ---  -------\n",
      "Spektral + PCA                      2    4    2  2.66667\n",
      "Spektral + small                    1    1    1  1\n",
      "Spektral + dense                    4    3    3  3.33333\n",
      "Spketral 128 - Autoencoder denso    3    2    4  3\n"
     ]
    }
   ],
   "source": [
    "vis_500.summary(std = False)\n",
    "vis_500.rank()"
   ]
  },
  {
   "cell_type": "code",
   "execution_count": null,
   "metadata": {},
   "outputs": [],
   "source": []
  }
 ],
 "metadata": {
  "kernelspec": {
   "display_name": "Python 3",
   "language": "python",
   "name": "python3"
  },
  "language_info": {
   "codemirror_mode": {
    "name": "ipython",
    "version": 3
   },
   "file_extension": ".py",
   "mimetype": "text/x-python",
   "name": "python",
   "nbconvert_exporter": "python",
   "pygments_lexer": "ipython3",
   "version": "3.6.8"
  }
 },
 "nbformat": 4,
 "nbformat_minor": 2
}
