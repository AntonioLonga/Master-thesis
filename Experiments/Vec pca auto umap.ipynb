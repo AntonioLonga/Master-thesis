{
 "cells": [
  {
   "cell_type": "code",
   "execution_count": 4,
   "metadata": {},
   "outputs": [
    {
     "name": "stdout",
     "output_type": "stream",
     "text": [
      "The autoreload extension is already loaded. To reload it, use:\n",
      "  %reload_ext autoreload\n"
     ]
    }
   ],
   "source": [
    "%load_ext autoreload\n",
    "%autoreload 2\n",
    "\n",
    "import utilities\n",
    "from evaluator import Evaluator\n",
    "from embedder import Embedder\n",
    "from embedder import Transformer\n",
    "from embedder import Preprocessing_scaler\n",
    "from Graph_generator import Graph_Generator\n",
    "from visualizator import Visualizator\n",
    "\n",
    "from eden import graph\n",
    "import umap \n",
    "\n",
    "import numpy as np\n",
    "from sklearn.decomposition import TruncatedSVD\n",
    "\n",
    "import matplotlib\n",
    "from sklearn.neighbors import KNeighborsClassifier\n",
    "from sklearn.tree import DecisionTreeClassifier\n"
   ]
  },
  {
   "cell_type": "code",
   "execution_count": 5,
   "metadata": {},
   "outputs": [
    {
     "name": "stdout",
     "output_type": "stream",
     "text": [
      "done\n"
     ]
    }
   ],
   "source": [
    "n_graphs = 800\n",
    "\n",
    "# 20 permutations\n",
    "gg = Graph_Generator(n_graphs=n_graphs,degree = 4)\n",
    "\n",
    "g1, na1, ea1 = gg.generate(22,30,30,1)\n",
    "g2, na2, ea2 = gg.generate(22,30,30,10)\n",
    "\n",
    "graphs, labels = gg.generate_set(g1,g2,na1, ea1,na2, ea2,30,30,plot=False)\n",
    "\n",
    "\n",
    "# ldp\n",
    "functions = [utilities.degree,utilities.clust_coefficient,utilities.local_degree_profile]\n",
    "# no ldp\n",
    "#functions = [utilities.degree,utilities.clust_coefficient]\n",
    "\n",
    "graphs = utilities.add_info_to_nodes(graphs,functions)\n",
    "\n",
    "\n",
    "max_n_nodes, n_attributes = utilities.find_shapes(graphs)\n",
    "n_classes = len(np.unique(labels))\n",
    "\n",
    "\n",
    "graphs = tmp_preprocessing_vectorize(graphs)\n",
    "print(\"done\")"
   ]
  },
  {
   "cell_type": "code",
   "execution_count": null,
   "metadata": {},
   "outputs": [],
   "source": []
  },
  {
   "cell_type": "code",
   "execution_count": 6,
   "metadata": {},
   "outputs": [],
   "source": [
    "vetcoriz = graph.Vectorizer(complexity = 5)\n",
    "m_1= Transformer(vetcoriz, has_fit = False)\n",
    "pca = TruncatedSVD(n_components=1000)\n",
    "m_2 = Transformer(pca)\n",
    "uma = umap.UMAP()\n",
    "m_3 = Transformer(uma)\n",
    "\n",
    "emb_5 = Embedder([m_1,m_2,m_3], name=\"Vectorize-5, PCA-1000, UMAP\")"
   ]
  },
  {
   "cell_type": "code",
   "execution_count": 7,
   "metadata": {},
   "outputs": [
    {
     "name": "stdout",
     "output_type": "stream",
     "text": [
      "\t iteration n: 1\n",
      "\t \t dim:  2\n",
      "\t \t \t  Vectorize-5, PCA-1000, UMAP\n"
     ]
    }
   ],
   "source": [
    "emb = [emb_5]\n",
    "vis_800 = utilities.repeat_n_times(graphs, labels, emb , [2], 1,test_size=0.3,seed = 11)"
   ]
  },
  {
   "cell_type": "code",
   "execution_count": 8,
   "metadata": {},
   "outputs": [
    {
     "name": "stdout",
     "output_type": "stream",
     "text": [
      "                                 2    STD    mean\n",
      "---------------------------  -----  -----  ------\n",
      "Vectorize-5, PCA-1000, UMAP  0.684  0.072   0.378\n"
     ]
    }
   ],
   "source": [
    "vis_800.summary()"
   ]
  },
  {
   "cell_type": "code",
   "execution_count": null,
   "metadata": {},
   "outputs": [],
   "source": []
  },
  {
   "cell_type": "markdown",
   "metadata": {},
   "source": [
    "# Vectorize PCA Auto_1 UMAP"
   ]
  },
  {
   "cell_type": "code",
   "execution_count": 9,
   "metadata": {},
   "outputs": [],
   "source": [
    "from sklearn.model_selection import train_test_split\n",
    "graphs_train, graphs_test, labels_train, labels_test = train_test_split(graphs,labels,test_size=0.3,random_state=11) "
   ]
  },
  {
   "cell_type": "code",
   "execution_count": null,
   "metadata": {},
   "outputs": [],
   "source": []
  },
  {
   "cell_type": "code",
   "execution_count": 10,
   "metadata": {},
   "outputs": [
    {
     "name": "stdout",
     "output_type": "stream",
     "text": [
      "560\n"
     ]
    }
   ],
   "source": [
    "vetcoriz = graph.Vectorizer(complexity = 5)\n",
    "res_vec = vetcoriz.transform(graphs_train)\n",
    "\n",
    "size_pca = len(graphs_train)\n",
    "print(size_pca)"
   ]
  },
  {
   "cell_type": "code",
   "execution_count": 12,
   "metadata": {},
   "outputs": [],
   "source": [
    "pca = TruncatedSVD(n_components=size_pca)\n",
    "res_pca =pca.fit(res_vec).transform(res_vec)"
   ]
  },
  {
   "cell_type": "code",
   "execution_count": 14,
   "metadata": {},
   "outputs": [],
   "source": [
    "import matplotlib.pyplot as plt"
   ]
  },
  {
   "cell_type": "code",
   "execution_count": 15,
   "metadata": {},
   "outputs": [
    {
     "data": {
      "image/png": "[encoded data removed]",
      "text/plain": [
       "<Figure size 432x288 with 1 Axes>"
      ]
     },
     "metadata": {
      "needs_background": "light"
     },
     "output_type": "display_data"
    }
   ],
   "source": [
    "tmp = []\n",
    "\n",
    "for a in res_pca:\n",
    "    for b in a:\n",
    "        tmp.append(b)\n",
    "        \n",
    "plt.hist(tmp,alpha=0.3,bins=100, density=True)\n",
    "plt.show()"
   ]
  },
  {
   "cell_type": "code",
   "execution_count": 16,
   "metadata": {},
   "outputs": [
    {
     "data": {
      "image/png": "[encoded data removed]",
      "text/plain": [
       "<Figure size 432x288 with 1 Axes>"
      ]
     },
     "metadata": {
      "needs_background": "light"
     },
     "output_type": "display_data"
    }
   ],
   "source": [
    "from embedder import Preprocessing_scaler\n",
    "scaler = Preprocessing_scaler([0, 1])\n",
    "res_pca = scaler.fit(res_pca).transform(res_pca)\n",
    "\n",
    "tmp = []\n",
    "\n",
    "for a in res_pca:\n",
    "    for b in a:\n",
    "        tmp.append(b)\n",
    "        \n",
    "plt.hist(tmp,alpha=0.3,bins=100, density=True)\n",
    "plt.show()"
   ]
  },
  {
   "cell_type": "code",
   "execution_count": 17,
   "metadata": {},
   "outputs": [
    {
     "data": {
      "image/png": "[encoded data removed]",
      "text/plain": [
       "<Figure size 432x288 with 1 Axes>"
      ]
     },
     "metadata": {
      "needs_background": "light"
     },
     "output_type": "display_data"
    }
   ],
   "source": [
    "from sklearn.preprocessing import Normalizer\n",
    "normalizer = Normalizer(copy=True, norm='l2').fit(res_pca)  # fit does nothing.\n",
    "res_pca = normalizer.transform(res_pca)\n",
    "\n",
    "\n",
    "tmp = []\n",
    "\n",
    "for a in res_pca:\n",
    "    for b in a:\n",
    "        tmp.append(b)\n",
    "        \n",
    "plt.hist(tmp,alpha=0.3, density=True,bins=100)\n",
    "plt.show()\n"
   ]
  },
  {
   "cell_type": "code",
   "execution_count": null,
   "metadata": {},
   "outputs": [],
   "source": []
  },
  {
   "cell_type": "code",
   "execution_count": null,
   "metadata": {},
   "outputs": [],
   "source": []
  },
  {
   "cell_type": "code",
   "execution_count": 18,
   "metadata": {},
   "outputs": [],
   "source": [
    "from keras import Input\n",
    "from keras.layers import Dense\n",
    "from keras import Model\n",
    "from keras.initializers import RandomNormal\n",
    "from keras.losses import mean_squared_error\n",
    "from keras.optimizers import RMSprop\n",
    "import matplotlib.pyplot as plt\n",
    "\n",
    "from keras.callbacks import EarlyStopping, TensorBoard\n",
    "count = 1\n",
    "\n",
    "\n",
    "from keras.layers import Dropout"
   ]
  },
  {
   "cell_type": "code",
   "execution_count": null,
   "metadata": {},
   "outputs": [],
   "source": []
  },
  {
   "cell_type": "code",
   "execution_count": 20,
   "metadata": {},
   "outputs": [],
   "source": [
    "iniz = RandomNormal(mean=0, stddev=0.05)\n",
    "\n",
    "rate_drop = 0.8\n",
    "\n",
    "x_in = Input(shape=(size_pca,))\n",
    "enc = Dropout(rate = 0.5)(x_in)\n",
    "enc = Dense(size_pca * 2, activation=\"relu\",kernel_initializer=iniz)(enc)\n",
    "enc = Dropout(rate = rate_drop)(enc)\n",
    "enc = Dense(size_pca, activation=\"relu\",kernel_initializer=iniz)(enc)\n",
    "enc = Dropout(rate = 0.5)(enc)\n",
    "#enc = Dense(int(size_pca/2), activation=\"relu\",kernel_initializer=iniz)(enc)\n",
    "enc = Dense(60, activation=\"sigmoid\",kernel_initializer=iniz)(enc)\n",
    "#enc = Dropout(prob_drop)(enc)\n",
    "#dec = Dense(int(size_pca/2), activation=\"relu\",kernel_initializer=iniz)(enc)\n",
    "dec = Dense(size_pca, activation=\"relu\",kernel_initializer=iniz)(enc)\n",
    "\n",
    "autoencoder = Model(x_in, dec)\n",
    "autoencoder.compile(optimizer=RMSprop(), loss=mean_squared_error)"
   ]
  },
  {
   "cell_type": "code",
   "execution_count": null,
   "metadata": {},
   "outputs": [],
   "source": []
  },
  {
   "cell_type": "code",
   "execution_count": null,
   "metadata": {},
   "outputs": [],
   "source": []
  },
  {
   "cell_type": "code",
   "execution_count": 21,
   "metadata": {},
   "outputs": [],
   "source": [
    "path = \"logs_new_model_/auto_\" + str(count)\n",
    "count = count + 1 \n",
    "tb = TensorBoard(log_dir=path)\n"
   ]
  },
  {
   "cell_type": "code",
   "execution_count": 22,
   "metadata": {},
   "outputs": [
    {
     "name": "stdout",
     "output_type": "stream",
     "text": [
      "WARNING:tensorflow:From /home/antonio/anaconda3/envs/tesi/lib/python3.7/site-packages/tensorflow/python/ops/math_ops.py:3066: to_int32 (from tensorflow.python.ops.math_ops) is deprecated and will be removed in a future version.\n",
      "Instructions for updating:\n",
      "Use tf.cast instead.\n",
      "560/560 [==============================] - 0s 80us/step\n",
      "0.00019492553505447827\n"
     ]
    }
   ],
   "source": [
    "# epoche sensate 3000 relu - sigm - relu - relu\n",
    "# epoche sensate  600 relu - sigm - relu - sigm\n",
    "autoencoder.fit(res_pca,res_pca,\n",
    "                epochs=500,\n",
    "                verbose = 0,\n",
    "                batch_size = 32,\n",
    "                validation_split = 0.2,\n",
    "                callbacks=[tb])\n",
    "\n",
    "print(autoencoder.evaluate(res_pca,res_pca))"
   ]
  },
  {
   "cell_type": "code",
   "execution_count": 23,
   "metadata": {},
   "outputs": [],
   "source": [
    "predicted_auto = autoencoder.predict(res_pca)"
   ]
  },
  {
   "cell_type": "code",
   "execution_count": 24,
   "metadata": {},
   "outputs": [
    {
     "name": "stdout",
     "output_type": "stream",
     "text": [
      "0.008219488524997862\n",
      "0.014233744472813586\n",
      "0.011626960475578766\n",
      "0.00485172794472833\n",
      "0.011641450130938563\n",
      "0.013969049347599509\n",
      "0.011790029012062532\n",
      "0.026104506114315654\n",
      "0.0017620758011732407\n",
      "0.0028286435484386613\n",
      "\n",
      "0.011102509195109755\n"
     ]
    }
   ],
   "source": [
    "a = predicted_auto[1][0:10]\n",
    "b = res_pca[1][0:10]\n",
    "d = np.abs(a-b)\n",
    "c = np.abs(predicted_auto[1]-res_pca[1])\n",
    "for i in d:\n",
    "    print(i)\n",
    "    \n",
    "print(\"\\n\"+str(np.mean(c)))"
   ]
  },
  {
   "cell_type": "code",
   "execution_count": 26,
   "metadata": {},
   "outputs": [
    {
     "data": {
      "image/png": "[encoded data removed]",
      "text/plain": [
       "<Figure size 432x288 with 1 Axes>"
      ]
     },
     "metadata": {
      "needs_background": "light"
     },
     "output_type": "display_data"
    }
   ],
   "source": [
    "tmp = []\n",
    "\n",
    "for a in res_pca:\n",
    "    for b in a:\n",
    "        tmp.append(b)\n",
    "        \n",
    "tmp_2 = []\n",
    "for a in predicted_auto:\n",
    "    for b in a:\n",
    "        tmp_2.append(b)\n",
    "        \n",
    "        \n",
    "plt.hist(tmp,alpha=0.3,bins=100, density=True)\n",
    "\n",
    "plt.hist(tmp_2,alpha=0.3, bins=100, density=True)\n",
    "plt.show()"
   ]
  },
  {
   "cell_type": "code",
   "execution_count": null,
   "metadata": {},
   "outputs": [],
   "source": []
  },
  {
   "cell_type": "code",
   "execution_count": 27,
   "metadata": {},
   "outputs": [
    {
     "data": {
      "image/png": "[encoded data removed]",
      "text/plain": [
       "<Figure size 360x360 with 1 Axes>"
      ]
     },
     "metadata": {
      "needs_background": "light"
     },
     "output_type": "display_data"
    }
   ],
   "source": [
    "\n",
    "plt.figure(figsize=(5,5))\n",
    "for i in range(0,100):\n",
    "    a = predicted_auto[i]\n",
    "    b = res_pca[i]\n",
    "    plt.scatter(a,b,s=5,c='b',alpha=0.1)\n",
    "#plt.plot(np.arange(0,2),c='r')\n",
    "plt.show()"
   ]
  },
  {
   "cell_type": "code",
   "execution_count": null,
   "metadata": {},
   "outputs": [],
   "source": []
  },
  {
   "cell_type": "code",
   "execution_count": 28,
   "metadata": {},
   "outputs": [],
   "source": [
    "encoder = Model(x_in, enc)\n",
    "res_auto = encoder.predict(res_pca)"
   ]
  },
  {
   "cell_type": "code",
   "execution_count": null,
   "metadata": {},
   "outputs": [],
   "source": []
  },
  {
   "cell_type": "code",
   "execution_count": 29,
   "metadata": {},
   "outputs": [],
   "source": [
    "uma = umap.UMAP(n_components=2)\n",
    "uma = uma.fit(res_auto,labels_train)"
   ]
  },
  {
   "cell_type": "markdown",
   "metadata": {},
   "source": [
    "# TEST su TEST SET"
   ]
  },
  {
   "cell_type": "code",
   "execution_count": 30,
   "metadata": {},
   "outputs": [],
   "source": [
    "gr = graphs_test\n",
    "lb = labels_test"
   ]
  },
  {
   "cell_type": "code",
   "execution_count": 31,
   "metadata": {},
   "outputs": [],
   "source": [
    "test_vect = vetcoriz.transform(gr)\n",
    "test_pca = pca.transform(test_vect)\n",
    "test_pca = scaler.transform(test_pca)\n",
    "test_pca = normalizer.transform(test_pca)\n",
    "test_auto = encoder.predict(test_pca)\n",
    "test_uma = uma.transform(test_auto)"
   ]
  },
  {
   "cell_type": "code",
   "execution_count": 32,
   "metadata": {},
   "outputs": [
    {
     "name": "stdout",
     "output_type": "stream",
     "text": [
      "K.N.N.  accuracy:  0.49253623188405793\n",
      "D.tree. accuracy:  0.4428260869565217\n"
     ]
    },
    {
     "data": {
      "text/plain": [
       "<matplotlib.collections.PathCollection at 0x7f33c406f5f8>"
      ]
     },
     "execution_count": 32,
     "metadata": {},
     "output_type": "execute_result"
    },
    {
     "data": {
      "image/png": "[encoded data removed]",
      "text/plain": [
       "<Figure size 360x360 with 1 Axes>"
      ]
     },
     "metadata": {
      "needs_background": "light"
     },
     "output_type": "display_data"
    }
   ],
   "source": [
    "eva = Evaluator(KNeighborsClassifier(n_neighbors = 1))\n",
    "acc, pre, rec, f = eva.performance_with_kfold(test_uma,lb)\n",
    "print(\"K.N.N.  accuracy: \",np.mean(acc))\n",
    "\n",
    "eva = Evaluator(DecisionTreeClassifier())\n",
    "acc, pre, rec, f = eva.performance_with_kfold(test_uma,lb)\n",
    "print(\"D.tree. accuracy: \",np.mean(acc))\n",
    "\n",
    "\n",
    "colors = ['red','blue']\n",
    "plt.figure(figsize=(5,5))\n",
    "lab = labels[1:500]\n",
    "x = test_uma[:,0]\n",
    "y = test_uma[:,1]\n",
    "plt.title(\"vec + pca + auto + umap\")\n",
    "plt.scatter(x,y,s=8,c=lb,cmap=matplotlib.colors.ListedColormap(colors))"
   ]
  },
  {
   "cell_type": "code",
   "execution_count": 33,
   "metadata": {},
   "outputs": [],
   "source": [
    "gr = graphs_test\n",
    "lb = labels_test"
   ]
  },
  {
   "cell_type": "code",
   "execution_count": 34,
   "metadata": {},
   "outputs": [
    {
     "name": "stdout",
     "output_type": "stream",
     "text": [
      "K.N.N.  accuracy:  0.6842391304347826\n"
     ]
    },
    {
     "data": {
      "text/plain": [
       "<matplotlib.collections.PathCollection at 0x7f3348e5d550>"
      ]
     },
     "execution_count": 34,
     "metadata": {},
     "output_type": "execute_result"
    },
    {
     "data": {
      "image/png": "[encoded data removed]",
      "text/plain": [
       "<Figure size 360x360 with 1 Axes>"
      ]
     },
     "metadata": {
      "needs_background": "light"
     },
     "output_type": "display_data"
    }
   ],
   "source": [
    "vect_res = emb_5.transform(gr)\n",
    "eva = Evaluator(KNeighborsClassifier(n_neighbors = 1))\n",
    "acc, pre, rec, f = eva.performance_with_kfold(vect_res,lb)\n",
    "print(\"K.N.N.  accuracy: \",np.mean(acc))\n",
    "colors = ['red','blue']\n",
    "plt.figure(figsize=(5,5))\n",
    "lab = labels[1:500]\n",
    "x = vect_res[:,0]\n",
    "y = vect_res[:,1]\n",
    "plt.title(\"vec + pca + umap\")\n",
    "plt.scatter(x,y,s=8,c=lb,cmap=matplotlib.colors.ListedColormap(colors))"
   ]
  },
  {
   "cell_type": "code",
   "execution_count": 290,
   "metadata": {},
   "outputs": [],
   "source": []
  },
  {
   "cell_type": "code",
   "execution_count": null,
   "metadata": {},
   "outputs": [],
   "source": []
  },
  {
   "cell_type": "code",
   "execution_count": 35,
   "metadata": {},
   "outputs": [],
   "source": [
    "def plot_autoencoder_results(original,res):\n",
    "    a =range(len(res[0]))\n",
    "    plt.figure(figsize=(10,5))\n",
    "\n",
    "    #plot 2\n",
    "    plt.subplot(121)\n",
    "    for i in range(0,len(res[0])):\n",
    "        r = res[i]\n",
    "        o = original[i]\n",
    "        plt.scatter(a,o-r,s=3, c='b')\n",
    "\n",
    "    plt.title(\"Input - Output\")\n",
    "\n",
    "\n",
    "\n",
    "    # plot 3\n",
    "    diff = original - res\n",
    "    minim = np.min(diff)\n",
    "    diff = diff + np.abs(minim)\n",
    "    res = np.zeros(len(diff[0]))\n",
    "    for i in diff:\n",
    "        res = res + i\n",
    "    res = res / len(diff)\n",
    "\n",
    "    plt.subplot(122)\n",
    "    plt.scatter(a,res, s=5, c = 'b' )\n",
    "    plt.plot(np.zeros(len(a)),c='r')\n",
    "    plt.title(\"Average of the error for each feature\")\n",
    "\n",
    "\n",
    "    plt.show()\n"
   ]
  },
  {
   "cell_type": "code",
   "execution_count": 36,
   "metadata": {},
   "outputs": [],
   "source": [
    "\n",
    "\n",
    "\n",
    "def tmp_preprocessing_vectorize(graphs):        \n",
    "\n",
    "    for g in graphs:\n",
    "        \n",
    "        c=0\n",
    "        for n in g.nodes():\n",
    "            a = g.nodes[n]['vec']\n",
    "            del g.nodes[n]['vec']\n",
    "            g.nodes[n]['label'] = str(a[0])\n",
    "            g.nodes[n]['vec'] = a\n",
    "            c=c+1\n",
    "\n",
    "    for g in graphs:\n",
    "        c=0\n",
    "        for n in g.edges():\n",
    "            a = g.edges[n]['vec']\n",
    "            del g.edges[n]['vec']      \n",
    "            g.edges[n]['label'] = str(a[0])\n",
    "            g.edges[n]['vec'] = a[0]\n",
    "            c=c+1\n",
    "\n",
    "    return(graphs)\n"
   ]
  },
  {
   "cell_type": "code",
   "execution_count": null,
   "metadata": {},
   "outputs": [],
   "source": []
  },
  {
   "cell_type": "code",
   "execution_count": null,
   "metadata": {},
   "outputs": [],
   "source": []
  },
  {
   "cell_type": "code",
   "execution_count": null,
   "metadata": {},
   "outputs": [],
   "source": []
  },
  {
   "cell_type": "code",
   "execution_count": null,
   "metadata": {},
   "outputs": [],
   "source": []
  },
  {
   "cell_type": "markdown",
   "metadata": {},
   "source": [
    "# RETE mix"
   ]
  },
  {
   "cell_type": "code",
   "execution_count": 191,
   "metadata": {},
   "outputs": [],
   "source": [
    "from sklearn.model_selection import train_test_split\n",
    "graphs_train, graphs_test, labels_train, labels_test = train_test_split(graphs,labels,test_size=0.3,random_state=10) \n",
    "\n",
    "vetcoriz = graph.Vectorizer(complexity = 5)\n",
    "res_vec = vetcoriz.transform(graphs_train)\n",
    "\n",
    "size_pca = len(graphs_train)\n",
    "\n",
    "pca = TruncatedSVD(n_components=size_pca)\n",
    "res_pca =pca.fit(res_vec).transform(res_vec)\n",
    "\n",
    "\n",
    "from embedder import Preprocessing_scaler\n",
    "scaler = Preprocessing_scaler([0, 1])\n",
    "res_pca = scaler.fit(res_pca).transform(res_pca)\n",
    "\n",
    "\n",
    "from sklearn.preprocessing import Normalizer\n",
    "normalizer = Normalizer(copy=True, norm='l2').fit(res_pca)  # fit does nothing.\n",
    "res_pca = normalizer.transform(res_pca)\n"
   ]
  },
  {
   "cell_type": "code",
   "execution_count": 192,
   "metadata": {},
   "outputs": [],
   "source": [
    "count = 1"
   ]
  },
  {
   "cell_type": "code",
   "execution_count": null,
   "metadata": {},
   "outputs": [],
   "source": []
  },
  {
   "cell_type": "code",
   "execution_count": null,
   "metadata": {},
   "outputs": [],
   "source": []
  },
  {
   "cell_type": "code",
   "execution_count": 193,
   "metadata": {},
   "outputs": [],
   "source": [
    "from keras.utils import plot_model\n",
    "from keras import regularizers"
   ]
  },
  {
   "cell_type": "code",
   "execution_count": 194,
   "metadata": {},
   "outputs": [],
   "source": [
    "\n",
    "iniz = RandomNormal(mean=0, stddev=0.05)\n",
    "\n",
    "prob_drop = 0.5\n",
    "\n",
    "x_in = Input(shape=(size_pca,))\n",
    "enc = Dense(size_pca*2, activation=\"relu\",kernel_initializer=iniz)(x_in)\n",
    "enc = Dropout(prob_drop)(enc)\n",
    "enc = Dense(size_pca, activation=\"relu\",kernel_initializer=iniz)(enc)\n",
    "enc = Dense(60, activation=\"sigmoid\",kernel_initializer=iniz)(enc)\n",
    "\n",
    "decode = Dense(size_pca, activation=\"relu\",name='decoder',kernel_initializer=iniz)(enc)\n",
    "\n",
    "cla = Dense(10, activation='relu',name='cla_10')(enc)\n",
    "cla = Dense(2, activation='softmax',name='classifier')(cla)\n",
    "\n",
    "\n",
    "autoencoder = Model(inputs = x_in, outputs = [decode,cla])\n",
    "\n",
    "autoencoder.compile(optimizer='adam',\n",
    "                    metrics={'decoder': 'mse', 'classifier': ['acc']},\n",
    "                    loss = {'decoder': 'mean_squared_error', 'classifier': 'categorical_crossentropy'},\n",
    "                    loss_weights = {'decoder': 0.1, 'classifier': 0.0001})\n",
    "\n",
    "count = count + 1 \n",
    "\n",
    "\n",
    "#for a in autoencoder.layers:\n",
    " #   print(a.name,a.trainable)"
   ]
  },
  {
   "cell_type": "code",
   "execution_count": 195,
   "metadata": {},
   "outputs": [
    {
     "data": {
      "text/plain": [
       "<keras.callbacks.History at 0x7f3333fe8e10>"
      ]
     },
     "execution_count": 195,
     "metadata": {},
     "output_type": "execute_result"
    }
   ],
   "source": [
    "path = \"logs_new_model_/auto__mix_\"+str(count) \n",
    "tb = TensorBoard(log_dir=path)\n",
    "count = count + 1 \n",
    "autoencoder.fit(res_pca,{'decoder': res_pca, 'classifier': utilities.from_np_to_one_hot(labels_train)},\n",
    "                epochs=100,    \n",
    "                verbose=0,\n",
    "                validation_split=0.2,\n",
    "                callbacks=[tb])\n"
   ]
  },
  {
   "cell_type": "code",
   "execution_count": 196,
   "metadata": {},
   "outputs": [
    {
     "name": "stdout",
     "output_type": "stream",
     "text": [
      "560/560 [==============================] - 0s 115us/step\n",
      "loss 0.00012720720884057561\n",
      "decoder_loss 0.0011590019932815007\n",
      "classifier_loss 0.11307009731286338\n",
      "decoder_mean_squared_error 0.0011590019932815007\n",
      "classifier_acc 0.9410714285714286\n"
     ]
    }
   ],
   "source": [
    "a = autoencoder.evaluate(res_pca,[res_pca,utilities.from_np_to_one_hot(labels_train)])\n",
    "n = autoencoder.metrics_names\n",
    "\n",
    "for i in range(0,len(a)):\n",
    "    print(str(n[i])+\" \"+str(a[i]))"
   ]
  },
  {
   "cell_type": "code",
   "execution_count": 226,
   "metadata": {},
   "outputs": [],
   "source": [
    "autoencoder_w = autoencoder.get_weights()"
   ]
  },
  {
   "cell_type": "code",
   "execution_count": 283,
   "metadata": {},
   "outputs": [],
   "source": [
    "iniz = RandomNormal(mean=0, stddev=0.05)\n",
    "\n",
    "prob_drop = 0.5\n",
    "\n",
    "x_in = Input(shape=(size_pca,))\n",
    "enc = Dense(size_pca*2, activation=\"relu\",kernel_initializer=iniz)(x_in)\n",
    "enc = Dropout(prob_drop)(enc)\n",
    "enc = Dense(size_pca, activation=\"relu\",kernel_initializer=iniz)(enc)\n",
    "enc = Dense(60, activation=\"sigmoid\",kernel_initializer=iniz)(enc)\n",
    "\n",
    "\n",
    "decode = Dense(size_pca, activation=\"relu\",name='decoder',kernel_initializer=iniz)(enc)\n",
    "\n",
    "cla = Dense(10,trainable=False, activation='relu',name='cla')(enc)\n",
    "cla = Dense(2,trainable=False, activation='softmax',name='classifier')(cla)\n",
    "\n",
    "\n",
    "autoencoder_2 = Model(inputs = x_in, outputs = [decode,cla])\n",
    "\n",
    "\n",
    "autoencoder_2.set_weights(autoencoder_w)\n",
    "\n",
    "autoencoder_2.compile(optimizer='adam',\n",
    "                      metrics={'decoder': 'mse', 'classifier': ['acc']},\n",
    "                      loss = {'decoder': 'mean_squared_error', 'classifier': 'categorical_crossentropy'},\n",
    "                      loss_weights = {'decoder': 0.1, 'classifier': 0.000001})\n",
    "\n",
    "count = count + 1 "
   ]
  },
  {
   "cell_type": "code",
   "execution_count": 284,
   "metadata": {},
   "outputs": [
    {
     "data": {
      "text/plain": [
       "<keras.callbacks.History at 0x7f33313a6a90>"
      ]
     },
     "execution_count": 284,
     "metadata": {},
     "output_type": "execute_result"
    }
   ],
   "source": [
    "path = \"logs_new_model_/auto__mix_\"+str(count) \n",
    "tb = TensorBoard(log_dir=path)\n",
    "count = count + 1 \n",
    "autoencoder_2.fit(res_pca,{'decoder': res_pca, 'classifier': utilities.from_np_to_one_hot(labels_train)},\n",
    "                epochs=3000,    \n",
    "                verbose=0,\n",
    "                validation_split=0.2,\n",
    "                callbacks=[tb])"
   ]
  },
  {
   "cell_type": "code",
   "execution_count": 285,
   "metadata": {},
   "outputs": [
    {
     "name": "stdout",
     "output_type": "stream",
     "text": [
      "560/560 [==============================] - 0s 135us/step\n",
      "loss 6.08613490060504e-05\n",
      "decoder_loss 0.0006062108557671308\n",
      "classifier_loss 0.24026241557938713\n",
      "decoder_mean_squared_error 0.0006062108557671308\n",
      "classifier_acc 0.9339285714285714\n"
     ]
    }
   ],
   "source": [
    "a = autoencoder_2.evaluate(res_pca,[res_pca,utilities.from_np_to_one_hot(labels_train)])\n",
    "n = autoencoder_2.metrics_names\n",
    "\n",
    "for i in range(0,len(a)):\n",
    "    print(str(n[i])+\" \"+str(a[i]))"
   ]
  },
  {
   "cell_type": "code",
   "execution_count": 286,
   "metadata": {},
   "outputs": [
    {
     "name": "stdout",
     "output_type": "stream",
     "text": [
      "0.0012556693025962684\n",
      "0.011006307312572646\n",
      "0.02675883829223437\n",
      "0.009094760709512255\n",
      "0.03396291933505742\n",
      "0.06609153261422786\n",
      "0.006155406982852572\n",
      "0.023220692110346365\n",
      "0.040839251764250226\n",
      "0.0022945316303558325\n",
      "\n",
      "0.01827126568119125\n"
     ]
    }
   ],
   "source": [
    "predicted_auto = autoencoder_2.predict(res_pca)\n",
    "predicted_auto = predicted_auto[0]\n",
    "\n",
    "a = predicted_auto[1][0:10]\n",
    "b = res_pca[1][0:10]\n",
    "d = np.abs(a-b)\n",
    "c = np.abs(predicted_auto[1]-res_pca[1])\n",
    "for i in d:\n",
    "    print(i)\n",
    "    \n",
    "print(\"\\n\"+str(np.mean(c)))"
   ]
  },
  {
   "cell_type": "code",
   "execution_count": 287,
   "metadata": {},
   "outputs": [
    {
     "data": {
      "image/png": "[encoded data removed]",
      "text/plain": [
       "<Figure size 360x360 with 1 Axes>"
      ]
     },
     "metadata": {
      "needs_background": "light"
     },
     "output_type": "display_data"
    }
   ],
   "source": [
    "\n",
    "plt.figure(figsize=(5,5))\n",
    "for i in range(0,100):\n",
    "    a = predicted_auto[i]\n",
    "    b = res_pca[i]\n",
    "    plt.scatter(a,b,s=5,c='b',alpha=0.05)\n",
    "#plt.plot(np.arange(0,2),c='r')\n",
    "plt.show()"
   ]
  },
  {
   "cell_type": "code",
   "execution_count": 288,
   "metadata": {},
   "outputs": [],
   "source": [
    "encoder = Model(x_in, enc)\n",
    "res_auto = encoder.predict(res_pca)\n",
    "\n",
    "uma = umap.UMAP(n_components=2)\n",
    "uma = uma.fit(res_auto,labels_train)"
   ]
  },
  {
   "cell_type": "code",
   "execution_count": 289,
   "metadata": {},
   "outputs": [
    {
     "name": "stdout",
     "output_type": "stream",
     "text": [
      "K.N.N.  accuracy:  0.7495507246376811\n",
      "D.tree. accuracy:  0.704427536231884\n"
     ]
    },
    {
     "data": {
      "text/plain": [
       "<matplotlib.collections.PathCollection at 0x7f333000db00>"
      ]
     },
     "execution_count": 289,
     "metadata": {},
     "output_type": "execute_result"
    },
    {
     "data": {
      "image/png": "[encoded data removed]",
      "text/plain": [
       "<Figure size 360x360 with 1 Axes>"
      ]
     },
     "metadata": {
      "needs_background": "light"
     },
     "output_type": "display_data"
    }
   ],
   "source": [
    "gr = graphs_test\n",
    "lb = labels_test\n",
    "\n",
    "test_vect = vetcoriz.transform(gr)\n",
    "test_pca = pca.transform(test_vect)\n",
    "test_pca = scaler.transform(test_pca)\n",
    "test_pca = normalizer.transform(test_pca)\n",
    "test_auto = encoder.predict(test_pca)\n",
    "test_uma = uma.transform(test_auto)\n",
    "\n",
    "eva = Evaluator(KNeighborsClassifier(n_neighbors = 1))\n",
    "acc, pre, rec, f = eva.performance_with_kfold(test_uma,lb)\n",
    "print(\"K.N.N.  accuracy: \",np.mean(acc))\n",
    "\n",
    "eva = Evaluator(DecisionTreeClassifier())\n",
    "acc, pre, rec, f = eva.performance_with_kfold(test_uma,lb)\n",
    "print(\"D.tree. accuracy: \",np.mean(acc))\n",
    "\n",
    "\n",
    "colors = ['red','blue']\n",
    "plt.figure(figsize=(5,5))\n",
    "lab = labels[1:500]\n",
    "xx = test_uma[:,0]\n",
    "yy = test_uma[:,1]\n",
    "plt.title(\"vec + pca + auto + umap\")\n",
    "plt.scatter(xx,yy,s=8,c=lb,cmap=matplotlib.colors.ListedColormap(colors))"
   ]
  },
  {
   "cell_type": "code",
   "execution_count": 280,
   "metadata": {},
   "outputs": [
    {
     "name": "stdout",
     "output_type": "stream",
     "text": [
      "K.N.N.  accuracy:  0.996396103896104\n",
      "D.tree. accuracy:  0.9946103896103897\n"
     ]
    },
    {
     "data": {
      "text/plain": [
       "<matplotlib.collections.PathCollection at 0x7f332e83eb70>"
      ]
     },
     "execution_count": 280,
     "metadata": {},
     "output_type": "execute_result"
    },
    {
     "data": {
      "image/png": "[encoded data removed]",
      "text/plain": [
       "<Figure size 360x360 with 1 Axes>"
      ]
     },
     "metadata": {
      "needs_background": "light"
     },
     "output_type": "display_data"
    }
   ],
   "source": [
    "gr = graphs_train\n",
    "lb = labels_train\n",
    "\n",
    "test_vect = vetcoriz.transform(gr)\n",
    "test_pca = pca.transform(test_vect)\n",
    "test_pca = scaler.transform(test_pca)\n",
    "test_pca = normalizer.transform(test_pca)\n",
    "test_auto = encoder.predict(test_pca)\n",
    "test_uma = uma.transform(test_auto)\n",
    "\n",
    "eva = Evaluator(KNeighborsClassifier(n_neighbors = 1))\n",
    "acc, pre, rec, f = eva.performance_with_kfold(test_uma,lb)\n",
    "print(\"K.N.N.  accuracy: \",np.mean(acc))\n",
    "\n",
    "eva = Evaluator(DecisionTreeClassifier())\n",
    "acc, pre, rec, f = eva.performance_with_kfold(test_uma,lb)\n",
    "print(\"D.tree. accuracy: \",np.mean(acc))\n",
    "\n",
    "\n",
    "colors = ['red','blue']\n",
    "plt.figure(figsize=(5,5))\n",
    "lab = labels[1:500]\n",
    "xx = test_uma[:,0]\n",
    "yy = test_uma[:,1]\n",
    "plt.title(\"vec + pca + auto + umap\")\n",
    "plt.scatter(xx,yy,s=8,c=lb,cmap=matplotlib.colors.ListedColormap(colors))"
   ]
  },
  {
   "cell_type": "markdown",
   "metadata": {},
   "source": [
    "# Risultati"
   ]
  },
  {
   "cell_type": "code",
   "execution_count": 300,
   "metadata": {
    "scrolled": false
   },
   "outputs": [
    {
     "name": "stdout",
     "output_type": "stream",
     "text": [
      "K.N.N.  accuracy:  0.6842391304347826\n",
      "D.tree. accuracy:  0.6258623188405796\n"
     ]
    },
    {
     "data": {
      "image/png": "[encoded data removed]",
      "text/plain": [
       "<Figure size 360x360 with 1 Axes>"
      ]
     },
     "metadata": {
      "needs_background": "light"
     },
     "output_type": "display_data"
    }
   ],
   "source": [
    "\n",
    "graphs_train, graphs_test, labels_train, labels_test = train_test_split(graphs,labels,test_size=0.3,random_state=11)\n",
    "\n",
    "plot_vect(graphs_test,labels_test)"
   ]
  },
  {
   "cell_type": "code",
   "execution_count": 301,
   "metadata": {},
   "outputs": [
    {
     "name": "stdout",
     "output_type": "stream",
     "text": [
      "K.N.N.  accuracy:  0.7495507246376811\n",
      "D.tree. accuracy:  0.7127608695652173\n"
     ]
    },
    {
     "data": {
      "image/png": "[encoded data removed]",
      "text/plain": [
       "<Figure size 360x360 with 1 Axes>"
      ]
     },
     "metadata": {
      "needs_background": "light"
     },
     "output_type": "display_data"
    }
   ],
   "source": [
    "plot_auto_emb(gr,lb)"
   ]
  },
  {
   "cell_type": "code",
   "execution_count": null,
   "metadata": {},
   "outputs": [],
   "source": []
  },
  {
   "cell_type": "code",
   "execution_count": null,
   "metadata": {},
   "outputs": [],
   "source": []
  },
  {
   "cell_type": "code",
   "execution_count": null,
   "metadata": {},
   "outputs": [],
   "source": []
  },
  {
   "cell_type": "code",
   "execution_count": null,
   "metadata": {},
   "outputs": [],
   "source": []
  },
  {
   "cell_type": "code",
   "execution_count": null,
   "metadata": {},
   "outputs": [],
   "source": []
  },
  {
   "cell_type": "code",
   "execution_count": null,
   "metadata": {},
   "outputs": [],
   "source": []
  },
  {
   "cell_type": "code",
   "execution_count": 297,
   "metadata": {},
   "outputs": [],
   "source": [
    "def plot_vect(gr,lb):\n",
    "    vect_res = emb_5.transform(gr)\n",
    "    \n",
    "    eva = Evaluator(KNeighborsClassifier(n_neighbors = 1))\n",
    "    acc, pre, rec, f = eva.performance_with_kfold(vect_res,lb)\n",
    "    print(\"K.N.N.  accuracy: \",np.mean(acc))\n",
    "    eva = Evaluator(DecisionTreeClassifier())\n",
    "    acc, pre, rec, f = eva.performance_with_kfold(vect_res,lb)\n",
    "    print(\"D.tree. accuracy: \",np.mean(acc))\n",
    "    \n",
    "    colors = ['red','blue']\n",
    "    plt.figure(figsize=(5,5))\n",
    "    lab = labels[1:500]\n",
    "    x = vect_res[:,0]\n",
    "    y = vect_res[:,1]\n",
    "    plt.title(\"vec + pca + umap\")\n",
    "    plt.scatter(x,y,s=8,c=lb,cmap=matplotlib.colors.ListedColormap(colors))\n",
    "    plt.show()\n",
    "    \n",
    "    \n",
    "    \n",
    "def plot_auto_emb(gr,lb):\n",
    "    \n",
    "    test_vect = vetcoriz.transform(gr)\n",
    "    test_pca = pca.transform(test_vect)\n",
    "    test_pca = scaler.transform(test_pca)\n",
    "    test_pca = normalizer.transform(test_pca)\n",
    "    test_auto = encoder.predict(test_pca)\n",
    "    test_uma = uma.transform(test_auto)\n",
    "\n",
    "    eva = Evaluator(KNeighborsClassifier(n_neighbors = 1))\n",
    "    acc, pre, rec, f = eva.performance_with_kfold(test_uma,lb)\n",
    "    print(\"K.N.N.  accuracy: \",np.mean(acc))\n",
    "\n",
    "    eva = Evaluator(DecisionTreeClassifier())\n",
    "    acc, pre, rec, f = eva.performance_with_kfold(test_uma,lb)\n",
    "    print(\"D.tree. accuracy: \",np.mean(acc))\n",
    "\n",
    "\n",
    "    colors = ['red','blue']\n",
    "    plt.figure(figsize=(5,5))\n",
    "    lab = labels[1:500]\n",
    "    xx = test_uma[:,0]\n",
    "    yy = test_uma[:,1]\n",
    "    plt.title(\"vec + pca + auto + umap\")\n",
    "    plt.scatter(xx,yy,s=8,c=lb,cmap=matplotlib.colors.ListedColormap(colors))\n",
    "    plt.show()"
   ]
  },
  {
   "cell_type": "code",
   "execution_count": null,
   "metadata": {},
   "outputs": [],
   "source": []
  },
  {
   "cell_type": "code",
   "execution_count": null,
   "metadata": {},
   "outputs": [],
   "source": []
  }
 ],
 "metadata": {
  "kernelspec": {
   "display_name": "Python 3",
   "language": "python",
   "name": "python3"
  },
  "language_info": {
   "codemirror_mode": {
    "name": "ipython",
    "version": 3
   },
   "file_extension": ".py",
   "mimetype": "text/x-python",
   "name": "python",
   "nbconvert_exporter": "python",
   "pygments_lexer": "ipython3",
   "version": "3.7.3"
  }
 },
 "nbformat": 4,
 "nbformat_minor": 2
}
