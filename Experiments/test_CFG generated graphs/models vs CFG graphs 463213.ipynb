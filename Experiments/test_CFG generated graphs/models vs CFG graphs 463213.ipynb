{
 "cells": [
  {
   "cell_type": "code",
   "execution_count": 2,
   "metadata": {},
   "outputs": [
    {
     "name": "stdout",
     "output_type": "stream",
     "text": [
      "The autoreload extension is already loaded. To reload it, use:\n",
      "  %reload_ext autoreload\n"
     ]
    },
    {
     "data": {
      "text/html": [
       "<style>.container { width:97% !important; }</style><style>.output_png {display: table-cell;text-align: center;vertical-align: middle;}</style>"
      ],
      "text/plain": [
       "<IPython.core.display.HTML object>"
      ]
     },
     "execution_count": 2,
     "metadata": {},
     "output_type": "execute_result"
    }
   ],
   "source": [
    "%load_ext autoreload\n",
    "%autoreload 2\n",
    "\n",
    "import utilities\n",
    "from evaluator import Evaluator\n",
    "from embedder import Embedder\n",
    "from embedder import Transformer\n",
    "from embedder import Transformer_GNN\n",
    "from embedder import Transformer_GNN_embedder\n",
    "from embedder import Preprocessing_scaler\n",
    "from Graph_generator import Graph_Generator\n",
    "import tmp_generator as tmp\n",
    "from visualizator import Visualizator\n",
    "\n",
    "from eden import graph\n",
    "import umap \n",
    "\n",
    "import numpy as np\n",
    "from sklearn.decomposition import TruncatedSVD\n",
    "import networkx as nx\n",
    "import sklearn as sk\n",
    "\n",
    "\n",
    "from IPython.core.display import HTML\n",
    "HTML('<style>.container { width:97% !important; }</style><style>.output_png {display: table-cell;text-align: center;vertical-align: middle;}</style>')"
   ]
  },
  {
   "cell_type": "markdown",
   "metadata": {},
   "source": [
    "# Load dataset generated using CFG\n",
    "\n",
    "## Dataset generated from: 624249"
   ]
  },
  {
   "cell_type": "code",
   "execution_count": 3,
   "metadata": {},
   "outputs": [],
   "source": [
    "def load_generated_data_classification(path):\n",
    "    \n",
    "    graphs = nx.read_gpickle(path+'/'+'graphs.gpickle')\n",
    "    \n",
    "    labels = list(np.load(path+'/'+'labels.npy'))\n",
    "    \n",
    "    _, count = np.unique(labels,return_counts=True)\n",
    "    \n",
    "    print(\"Negative samples: \",count[0])\n",
    "    print(\"Positive samples: \",count[1])\n",
    "    \n",
    "    return (graphs,labels)"
   ]
  },
  {
   "cell_type": "code",
   "execution_count": 4,
   "metadata": {},
   "outputs": [
    {
     "name": "stdout",
     "output_type": "stream",
     "text": [
      "Negative samples:  1436\n",
      "Positive samples:  1457\n"
     ]
    }
   ],
   "source": [
    "graphs, labels = load_generated_data_classification(\"generate_graphs/463213_pos_neg\")"
   ]
  },
  {
   "cell_type": "code",
   "execution_count": 6,
   "metadata": {},
   "outputs": [],
   "source": [
    "from eden.graph import vertex_vectorize\n",
    "\n",
    "def vec_vertex(graph):\n",
    "    X = vertex_vectorize([graph], complexity=2, nbits=7)\n",
    "    x = X[0]\n",
    "    x = x.A\n",
    "    values = []\n",
    "    count = 0\n",
    "    for node in graph.nodes():\n",
    "        val = x[count]\n",
    "        count = count + 1\n",
    "        values.append(val)\n",
    "\n",
    "    return([values])"
   ]
  },
  {
   "cell_type": "code",
   "execution_count": 7,
   "metadata": {},
   "outputs": [],
   "source": [
    "for g in graphs:\n",
    "    for node in g.nodes():\n",
    "        g.nodes[node]['vec'] = []\n",
    "for g in graphs:\n",
    "    for edge in g.edges():\n",
    "        g.edges[edge]['vec'] = []"
   ]
  },
  {
   "cell_type": "code",
   "execution_count": 8,
   "metadata": {},
   "outputs": [],
   "source": [
    "# ldp\n",
    "functions = [utilities.degree,utilities.clust_coefficient,utilities.local_degree_profile,vec_vertex]\n",
    "\n",
    "\n",
    "graphs = utilities.add_info_to_nodes(graphs,functions)"
   ]
  },
  {
   "cell_type": "code",
   "execution_count": 9,
   "metadata": {},
   "outputs": [
    {
     "name": "stdout",
     "output_type": "stream",
     "text": [
      "done\n"
     ]
    }
   ],
   "source": [
    "max_n_nodes, n_attributes = utilities.find_shapes(graphs)\n",
    "n_classes = len(np.unique(labels))\n",
    "\n",
    "\n",
    "print(\"done\")\n",
    "\n",
    "\n",
    "# setting \n",
    "dim = [2]\n",
    "times = 1\n",
    "\n",
    "\n",
    "batch_size = 32\n",
    "validation_split = 0.2\n",
    "epochs_GNN = 1500\n",
    "epochs_autoencoder = 10000\n",
    "verbose=0\n",
    "plot=False\n",
    "\n",
    "\n",
    "patience_GNN = 150\n",
    "patience_autoencoder = 500"
   ]
  },
  {
   "cell_type": "code",
   "execution_count": 13,
   "metadata": {},
   "outputs": [
    {
     "data": {
      "text/plain": [
       "135"
      ]
     },
     "execution_count": 13,
     "metadata": {},
     "output_type": "execute_result"
    }
   ],
   "source": [
    "n_attributes"
   ]
  },
  {
   "cell_type": "code",
   "execution_count": 11,
   "metadata": {},
   "outputs": [],
   "source": [
    "n_attributes = len(graphs[0].nodes()[1][\"vec\"][-1]) + len(graphs[0].nodes()[1][\"vec\"]) -1"
   ]
  },
  {
   "cell_type": "code",
   "execution_count": 14,
   "metadata": {},
   "outputs": [],
   "source": [
    "#graphs[0].nodes()[1][\"vec\"]"
   ]
  },
  {
   "cell_type": "markdown",
   "metadata": {},
   "source": [
    "## Embedder 1\n",
    "### Spektral + PCA"
   ]
  },
  {
   "cell_type": "code",
   "execution_count": 16,
   "metadata": {
    "scrolled": false
   },
   "outputs": [],
   "source": [
    "my_GNN = tmp.generate_GNN(max_n_nodes,\n",
    "                      n_attributes,\n",
    "                      n_classes,\n",
    "                      batch_size = batch_size,\n",
    "                      validation_split = validation_split,\n",
    "                      epochs = epochs_GNN,\n",
    "                      patience = patience_GNN,\n",
    "                      verbose = verbose, \n",
    "                      plot=plot)\n",
    "\n",
    "m_1 = Transformer(my_GNN)\n",
    "m_2 = Transformer(TruncatedSVD())\n",
    "emb_1 = Embedder([m_1,m_2],\"Spektral + PCA\")"
   ]
  },
  {
   "cell_type": "markdown",
   "metadata": {},
   "source": [
    "## Embedder 2\n",
    "### Spektral + Small 128 - n_components"
   ]
  },
  {
   "cell_type": "code",
   "execution_count": 17,
   "metadata": {},
   "outputs": [],
   "source": [
    "my_GNN_small = tmp.gen_gnn_small(max_n_nodes,\n",
    "                                 n_attributes,\n",
    "                                 batch_size = batch_size,\n",
    "                                 validation_split = validation_split,\n",
    "                                 epochs = epochs_GNN,\n",
    "                                 patience = patience_GNN,\n",
    "                                 dim = dim,\n",
    "                                 plot = plot)\n",
    "\n",
    "m_1 = Transformer(my_GNN_small)\n",
    "emb_2 = Embedder([m_1],\"Spektral + small\")"
   ]
  },
  {
   "cell_type": "markdown",
   "metadata": {},
   "source": [
    "## Embedder 3\n",
    "### Spektral + Dense 128 - 64 - 32 - 16 -  8 - n_components"
   ]
  },
  {
   "cell_type": "code",
   "execution_count": 18,
   "metadata": {},
   "outputs": [],
   "source": [
    "my_GNN_dense = tmp.gen_gnn_dense(max_n_nodes,\n",
    "                                 n_attributes,\n",
    "                                 batch_size = batch_size,\n",
    "                                 validation_split = validation_split,\n",
    "                                 epochs = epochs_GNN,\n",
    "                                 dim = dim,\n",
    "                                 patience = patience_GNN,\n",
    "                                 plot = plot)\n",
    "\n",
    "m_1 = Transformer(my_GNN_dense)\n",
    "emb_3 = Embedder([m_1],\"Spektral + dense\")"
   ]
  },
  {
   "cell_type": "markdown",
   "metadata": {},
   "source": [
    "## Embedder 4\n",
    "### Spektral fino a 128 + Autoencoder 128 - 64- 16 - 8 - 5 - 3 - 2\n",
    "### Preprocessing_scaler -0.5 ; 0.5"
   ]
  },
  {
   "cell_type": "code",
   "execution_count": 19,
   "metadata": {},
   "outputs": [],
   "source": [
    "# modello 1 GNN\n",
    "my_GNN = tmp.generate_GNN(max_n_nodes,n_attributes,n_classes,\n",
    "                           batch_size=batch_size,\n",
    "                           validation_split=validation_split,\n",
    "                           verbose=verbose,\n",
    "                           epochs=epochs_GNN,\n",
    "                           patience= patience_GNN,\n",
    "                           plot=plot)\n",
    "m_1 = Transformer(my_GNN)\n",
    "\n",
    "# preprocessing scaler\n",
    "my_scaler = Preprocessing_scaler([0, 0.5])\n",
    "# modello 2 Autoencoder\n",
    "my_Autoencoder = tmp.gen_transf_autoencoder(batch_size=batch_size,\n",
    "                                            validation_split=validation_split,\n",
    "                                            epochs=epochs_autoencoder, \n",
    "                                            patience = patience_autoencoder,\n",
    "                                            verbose=verbose,\n",
    "                                            scaler=my_scaler,\n",
    "                                            dim = dim,\n",
    "                                            plot=plot)\n",
    "\n",
    "m_2 = Transformer(my_Autoencoder)\n",
    "\n",
    "\n",
    "emb_4 = Embedder([m_1,m_2], name=\"Spketral 128 - Autoencoder denso\")"
   ]
  },
  {
   "cell_type": "markdown",
   "metadata": {},
   "source": [
    "## Embedder 5\n",
    "### Vectorize + pca 1000 + umap"
   ]
  },
  {
   "cell_type": "code",
   "execution_count": 20,
   "metadata": {},
   "outputs": [],
   "source": [
    "vetcoriz = graph.Vectorizer(complexity = 5)\n",
    "m_1= Transformer(vetcoriz, has_fit = False)\n",
    "pca = TruncatedSVD(n_components=1000)\n",
    "m_2 = Transformer(pca)\n",
    "uma = umap.UMAP()\n",
    "m_3 = Transformer(uma)\n",
    "\n",
    "emb_5 = Embedder([m_1,m_2,m_3], name=\"Vectorize-5, PCA-1000, UMAP\")"
   ]
  },
  {
   "cell_type": "code",
   "execution_count": 21,
   "metadata": {},
   "outputs": [
    {
     "name": "stdout",
     "output_type": "stream",
     "text": [
      "\t iteration n: 1\n",
      "\t \t dim:  2\n",
      "\t \t \t  Spektral + PCA\n",
      "WARNING:tensorflow:From /home/antonio/anaconda3/envs/tesi/lib/python3.7/site-packages/tensorflow/python/ops/math_ops.py:3066: to_int32 (from tensorflow.python.ops.math_ops) is deprecated and will be removed in a future version.\n",
      "Instructions for updating:\n",
      "Use tf.cast instead.\n",
      "176\n",
      "\t \t \t  Spektral + small\n",
      "166\n",
      "\t \t \t  Spektral + dense\n",
      "175\n",
      "\t \t \t  Spketral 128 - Autoencoder denso\n",
      "169\n",
      "1373\n",
      "\t \t \t  Vectorize-5, PCA-1000, UMAP\n"
     ]
    }
   ],
   "source": [
    "emb = [emb_1,emb_2,emb_3,emb_4,emb_5]\n",
    "\n",
    "vis_d_cl_ldp_vect = utilities.repeat_n_times(graphs, labels, emb , dim, 1,test_size=0.3,seed = 11)"
   ]
  },
  {
   "cell_type": "code",
   "execution_count": 23,
   "metadata": {},
   "outputs": [
    {
     "name": "stdout",
     "output_type": "stream",
     "text": [
      "\t\t\t ****** SU 463213 \n",
      "\t\t\t ****** \t degree\n",
      "\t\t\t ****** \t clust_coeff\n",
      "\t\t\t ****** \t Local degree profile\n",
      "\t\t\t ****** \t EdEN vertex_vectorize \n",
      "\n",
      "                                    2    mean\n",
      "--------------------------------  ---  ------\n",
      "Spektral + PCA                      3       3\n",
      "Spektral + small                    2       2\n",
      "Spektral + dense                    5       5\n",
      "Spketral 128 - Autoencoder denso    4       4\n",
      "Vectorize-5, PCA-1000, UMAP         1       1\n"
     ]
    },
    {
     "data": {
      "image/png": "[encoded data removed]",
      "text/plain": [
       "<Figure size 1080x360 with 3 Axes>"
      ]
     },
     "metadata": {
      "needs_background": "light"
     },
     "output_type": "display_data"
    },
    {
     "data": {
      "image/png": "[encoded data removed]",
      "text/plain": [
       "<Figure size 720x360 with 2 Axes>"
      ]
     },
     "metadata": {
      "needs_background": "light"
     },
     "output_type": "display_data"
    }
   ],
   "source": [
    "print(\"\\t\\t\\t ****** SU 463213 \")\n",
    "print(\"\\t\\t\\t ****** \\t degree\")\n",
    "print(\"\\t\\t\\t ****** \\t clust_coeff\")\n",
    "print(\"\\t\\t\\t ****** \\t Local degree profile\")\n",
    "print(\"\\t\\t\\t ****** \\t EdEN vertex_vectorize \\n\")\n",
    "\n",
    "mat = vis_d_cl_ldp_vect.summary(return_matrix=True)\n",
    "vis_d_cl_ldp_vect.rank()\n",
    "plot_embedding(emb,mat)"
   ]
  },
  {
   "cell_type": "code",
   "execution_count": null,
   "metadata": {},
   "outputs": [],
   "source": []
  },
  {
   "cell_type": "code",
   "execution_count": null,
   "metadata": {},
   "outputs": [],
   "source": []
  },
  {
   "cell_type": "code",
   "execution_count": null,
   "metadata": {
    "scrolled": false
   },
   "outputs": [],
   "source": []
  },
  {
   "cell_type": "code",
   "execution_count": null,
   "metadata": {},
   "outputs": [],
   "source": []
  },
  {
   "cell_type": "code",
   "execution_count": null,
   "metadata": {},
   "outputs": [],
   "source": []
  },
  {
   "cell_type": "code",
   "execution_count": null,
   "metadata": {},
   "outputs": [],
   "source": []
  },
  {
   "cell_type": "code",
   "execution_count": null,
   "metadata": {},
   "outputs": [],
   "source": []
  },
  {
   "cell_type": "code",
   "execution_count": null,
   "metadata": {},
   "outputs": [],
   "source": []
  },
  {
   "cell_type": "code",
   "execution_count": null,
   "metadata": {},
   "outputs": [],
   "source": []
  },
  {
   "cell_type": "code",
   "execution_count": null,
   "metadata": {},
   "outputs": [],
   "source": []
  },
  {
   "cell_type": "code",
   "execution_count": null,
   "metadata": {},
   "outputs": [],
   "source": []
  },
  {
   "cell_type": "code",
   "execution_count": 22,
   "metadata": {},
   "outputs": [],
   "source": [
    "import matplotlib\n",
    "import matplotlib.pyplot as plt\n",
    "def plot_embedding(emb,mat):\n",
    "    colors = ['red','blue']\n",
    "\n",
    "    plt.figure(figsize=(15,5))\n",
    "    res = emb[0].transform(graphs[1:500])\n",
    "    lab = labels[1:500]\n",
    "    x = res[:,0]\n",
    "    y = res[:,1]\n",
    "    plt.subplot(1,3,1)\n",
    "    plt.title(\"spk + pca\\nacc: %.2f std: %.2f\" % (mat[0][1],mat[0][2]))\n",
    "    plt.scatter(x,y,s=8,c=lab,cmap=matplotlib.colors.ListedColormap(colors))\n",
    "\n",
    "\n",
    "    res = emb[1].transform(graphs[1:500])\n",
    "    lab = labels[1:500]\n",
    "    x = res[:,0]\n",
    "    y = res[:,1]\n",
    "    plt.subplot(1,3,2)\n",
    "    plt.title(\"spk + small\\nacc: %.2f std: %.2f\" % (mat[1][1],mat[1][2]))\n",
    "    plt.scatter(x,y,s=8,c=lab,cmap=matplotlib.colors.ListedColormap(colors))\n",
    "\n",
    "\n",
    "    res = emb[2].transform(graphs[1:500])\n",
    "    lab = labels[1:500]\n",
    "    x = res[:,0]\n",
    "    y = res[:,1]\n",
    "    plt.subplot(1,3,3)\n",
    "    plt.title(\"spk + dense\\nacc: %.2f std: %.2f\" % (mat[2][1],mat[2][2]))\n",
    "    plt.scatter(x,y,s=8,c=lab,cmap=matplotlib.colors.ListedColormap(colors))\n",
    "    plt.show()\n",
    "\n",
    "\n",
    "    plt.figure(figsize=(10,5))\n",
    "    res = emb[3].transform(graphs[1:500])\n",
    "    lab = labels[1:500]\n",
    "    x = res[:,0]\n",
    "    y = res[:,1]\n",
    "    plt.subplot(1,2,1)\n",
    "    plt.title(\"spk + auto\\nacc: %.2f std: %.2f\" % (mat[3][1],mat[3][2]))\n",
    "    plt.scatter(x,y,s=8,c=lab,cmap=matplotlib.colors.ListedColormap(colors))\n",
    "\n",
    "\n",
    "    res = emb[4].transform(graphs[1:500])\n",
    "    lab = labels[1:500]\n",
    "    x = res[:,0]\n",
    "    y = res[:,1]\n",
    "    plt.subplot(1,2,2)\n",
    "    plt.title(\"vec + pca + umap\\nacc: %.2f std: %.2f\" % (mat[4][1],mat[4][2]))\n",
    "    plt.scatter(x,y,s=8,c=lab,cmap=matplotlib.colors.ListedColormap(colors))\n",
    "\n",
    "    plt.show()\n",
    "\n"
   ]
  },
  {
   "cell_type": "code",
   "execution_count": null,
   "metadata": {},
   "outputs": [],
   "source": []
  },
  {
   "cell_type": "code",
   "execution_count": 70,
   "metadata": {},
   "outputs": [],
   "source": [
    "import dill\n",
    "dill.dump_session('models_vs_CFG_graphs_624249.db')"
   ]
  },
  {
   "cell_type": "code",
   "execution_count": null,
   "metadata": {},
   "outputs": [],
   "source": []
  },
  {
   "cell_type": "code",
   "execution_count": null,
   "metadata": {
    "scrolled": false
   },
   "outputs": [],
   "source": []
  },
  {
   "cell_type": "code",
   "execution_count": 103,
   "metadata": {},
   "outputs": [],
   "source": [
    "def tmp_preprocessing_vectorize(graphs):        \n",
    "\n",
    "    for g in graphs:\n",
    "        \n",
    "        c=0\n",
    "        for n in g.nodes():\n",
    "            a = g.nodes[n]['vec']\n",
    "            del g.nodes[n]['vec']\n",
    "            g.nodes[n]['label'] = str(a[0])\n",
    "            g.nodes[n]['vec'] = a\n",
    "            c=c+1\n",
    "\n",
    "    for g in graphs:\n",
    "        c=0\n",
    "        for n in g.edges():\n",
    "            a = g.edges[n]['vec']\n",
    "            del g.edges[n]['vec']      \n",
    "            g.edges[n]['label'] = str(a[0])\n",
    "            g.edges[n]['vec'] = a[0]\n",
    "            c=c+1\n",
    "\n",
    "    return(graphs)\n",
    "\n",
    "\n",
    "import matplotlib.pyplot as plt\n",
    "def tmp_plot(visualizators,dim_embedding):\n",
    "    pos = 1\n",
    "    if (dim_embedding == 2):\n",
    "        pos = 1\n",
    "    if (dim_embedding == 3):\n",
    "        pos = 2\n",
    "    if (dim_embedding == 5):\n",
    "        pos = 3\n",
    "\n",
    "    spk_pca = []\n",
    "    spk_small = []\n",
    "    spk_dense = []\n",
    "    spk_auto = []\n",
    "    vect_pca_umap = []\n",
    "\n",
    "    for v in visualizators:\n",
    "        result_matrix = v.summary(std=False,return_matrix=True)\n",
    "\n",
    "        spk_pca.append(result_matrix[0][pos])\n",
    "        spk_small.append(result_matrix[1][pos])\n",
    "        spk_dense.append(result_matrix[2][pos])\n",
    "        spk_auto.append(result_matrix[3][pos])\n",
    "        vect_pca_umap.append(result_matrix[4][pos])\n",
    "\n",
    "    a = [0,50,100,150]\n",
    "    plt.figure(figsize=(8,8))\n",
    "    plt.title(str(\"learning rate - dim embedding = \"+str(dim_embedding)))\n",
    "    plt.plot(a,spk_pca, label='spk + pca',color='b')\n",
    "    plt.scatter(a,spk_pca,color='b')\n",
    "    plt.plot(a,spk_small, label='spk + small',color='g')\n",
    "    plt.scatter(a,spk_small,color='g')\n",
    "    plt.plot(a,spk_dense, label='spk + dense',color='r')\n",
    "    plt.scatter(a,spk_dense,color='r')\n",
    "    plt.plot(a,spk_auto, label='spk + auto',color='c')\n",
    "    plt.scatter(a,spk_auto,color='c')\n",
    "    plt.plot(a,vect_pca_umap, label='vec_pca_umap',color='m')\n",
    "    plt.scatter(a,vect_pca_umap,color='m')\n",
    "    plt.legend()"
   ]
  },
  {
   "cell_type": "code",
   "execution_count": null,
   "metadata": {},
   "outputs": [],
   "source": []
  },
  {
   "cell_type": "code",
   "execution_count": 102,
   "metadata": {},
   "outputs": [],
   "source": [
    "\n",
    "\n",
    "def tmp_plot_std(visualizators,dim_embedding):\n",
    "    if (dim_embedding == 2):\n",
    "        pos = 1\n",
    "    if (dim_embedding == 3):\n",
    "        pos = 3\n",
    "    if (dim_embedding == 5):\n",
    "        pos = 5\n",
    "\n",
    "\n",
    "\n",
    "    spk_pca = []\n",
    "    spk_pca_std = []\n",
    "    spk_small = []\n",
    "    spk_small_std = []\n",
    "    spk_dense = []\n",
    "    spk_dense_std = []\n",
    "    spk_auto = []\n",
    "    spk_auto_std = []\n",
    "    vect_pca_umap = []\n",
    "    vect_pca_umap_std = []\n",
    "\n",
    "    for v in visualizators:\n",
    "        result_matrix = v.summary(return_matrix=True)\n",
    "\n",
    "        spk_pca.append(result_matrix[0][pos])\n",
    "        spk_pca_std.append(result_matrix[0][pos+1])\n",
    "        spk_small.append(result_matrix[1][pos])\n",
    "        spk_small_std.append(result_matrix[1][pos+1])\n",
    "        spk_dense.append(result_matrix[2][pos])\n",
    "        spk_dense_std.append(result_matrix[2][pos+1])\n",
    "        spk_auto.append(result_matrix[3][pos])\n",
    "        spk_auto_std.append(result_matrix[3][pos+1])\n",
    "        vect_pca_umap.append(result_matrix[4][pos])\n",
    "        vect_pca_umap_std.append(result_matrix[4][pos+1])\n",
    "\n",
    "\n",
    "    a = [0,50,100,150]\n",
    "    plt.figure(figsize=(8,8))\n",
    "    plt.title(str(\"learning rate - dim embedding = \"+str(dim_embedding)))\n",
    "    plt.plot(a,spk_pca, label='spk + pca',color='b')\n",
    "    plt.scatter(a,spk_pca,color='b')\n",
    "    low = [spk_pca[i]-spk_pca_std[i] for i in range(0,len(spk_pca))]\n",
    "    upp = [spk_pca[i]+spk_pca_std[i] for i in range(0,len(spk_pca))]\n",
    "    plt.fill_between(a, low,upp, facecolor='#9B8BFF', alpha=0.5)\n",
    "\n",
    "    plt.plot(a,spk_small, label='spk + small',color='g')\n",
    "    plt.scatter(a,spk_small,color='g')\n",
    "    low = [spk_small[i]-spk_small_std[i] for i in range(0,len(spk_small))]\n",
    "    upp = [spk_small[i]+spk_small_std[i] for i in range(0,len(spk_small))]\n",
    "    plt.fill_between(a, low,upp, facecolor='#97ff9f', alpha=0.5)\n",
    "\n",
    "    plt.plot(a,spk_dense, label='spk + dense',color='r')\n",
    "    plt.scatter(a,spk_dense,color='r')\n",
    "    low = [spk_dense[i]-spk_dense_std[i] for i in range(0,len(spk_small))]\n",
    "    upp = [spk_dense[i]+spk_dense_std[i] for i in range(0,len(spk_small))]\n",
    "    plt.fill_between(a, low,upp, facecolor='#ffaaaa', alpha=0.5)\n",
    "\n",
    "    plt.plot(a,spk_auto, label='spk + auto',color='c')\n",
    "    plt.scatter(a,spk_auto,color='c')\n",
    "    low = [spk_auto[i]-spk_auto_std[i] for i in range(0,len(spk_small))]\n",
    "    upp = [spk_auto[i]+spk_auto_std[i] for i in range(0,len(spk_small))]\n",
    "    plt.fill_between(a, low,upp, facecolor='#aaf9ff', alpha=0.5)\n",
    "    vect_pca_umap_std\n",
    "\n",
    "    plt.plot(a,vect_pca_umap, label='vec_pca_umap',color='m')\n",
    "    plt.scatter(a,vect_pca_umap,color='m')\n",
    "    low = [vect_pca_umap[i]-vect_pca_umap_std[i] for i in range(0,len(spk_small))]\n",
    "    upp = [vect_pca_umap[i]+vect_pca_umap_std[i] for i in range(0,len(spk_small))]\n",
    "    plt.fill_between(a, low,upp, facecolor='#ffaafb', alpha=0.5)\n",
    "\n",
    "\n",
    "    plt.legend()"
   ]
  },
  {
   "cell_type": "code",
   "execution_count": null,
   "metadata": {},
   "outputs": [],
   "source": []
  }
 ],
 "metadata": {
  "kernelspec": {
   "display_name": "Python 3",
   "language": "python",
   "name": "python3"
  },
  "language_info": {
   "codemirror_mode": {
    "name": "ipython",
    "version": 3
   },
   "file_extension": ".py",
   "mimetype": "text/x-python",
   "name": "python",
   "nbconvert_exporter": "python",
   "pygments_lexer": "ipython3",
   "version": "3.7.3"
  }
 },
 "nbformat": 4,
 "nbformat_minor": 2
}
