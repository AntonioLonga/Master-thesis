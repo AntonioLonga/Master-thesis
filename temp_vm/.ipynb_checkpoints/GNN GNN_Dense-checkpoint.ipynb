{
 "cells": [
  {
   "cell_type": "code",
   "execution_count": 1,
   "metadata": {},
   "outputs": [
    {
     "name": "stderr",
     "output_type": "stream",
     "text": [
      "Using TensorFlow backend.\n"
     ]
    }
   ],
   "source": [
    "%load_ext autoreload\n",
    "%autoreload 2\n",
    "\n",
    "from keras.callbacks import EarlyStopping\n",
    "from keras.layers import Input, Dense\n",
    "from keras.models import Model\n",
    "from keras.optimizers import Adam\n",
    "from keras.regularizers import l2\n",
    "\n",
    "\n",
    "from spektral.datasets import delaunay\n",
    "from spektral.layers import GraphAttention, GlobalAttentionPool\n",
    "from spektral.utils import localpooling_filter\n",
    "\n",
    "import numpy as np\n",
    "\n",
    "import load_data as ld\n",
    "import utilities\n",
    "from evaluator import Evaluator\n",
    "from embedder import Embedder\n",
    "from embedder import Transformer\n",
    "from embedder import Transformer_GNN\n",
    "from embedder import Transformer_GNN_embedder\n",
    "\n",
    "import tmp_generator as tmp\n",
    "\n",
    "from visualizator import Visualizator\n",
    "\n",
    "\n",
    "from sklearn.decomposition import TruncatedSVD"
   ]
  },
  {
   "cell_type": "code",
   "execution_count": 2,
   "metadata": {},
   "outputs": [
    {
     "name": "stdout",
     "output_type": "stream",
     "text": [
      "done\n"
     ]
    }
   ],
   "source": [
    "from Graph_generator import Graph_Generator\n",
    "\n",
    "n_graphs = 300\n",
    "\n",
    "\n",
    "# 20 permutations\n",
    "gg = Graph_Generator(n_graphs=n_graphs,\n",
    "                     degree = 4)\n",
    "g1, na1, ea1 = gg.generate(20,10,10,1)\n",
    "g2, na2, ea2 = gg.generate(20,10,10,10)\n",
    "\n",
    "graphs, labels = gg.generate_set(g1,g2,na1, ea1,na2, ea2,15,15,plot=False)\n",
    "\n",
    "\n",
    "\n",
    "functions = [utilities.degree,utilities.clust_coefficient,utilities.local_degree_profile]\n",
    "graphs = utilities.add_info_to_nodes(graphs,functions)\n",
    "\n",
    "\n",
    "max_n_nodes, n_attributes = utilities.find_shapes(graphs)\n",
    "n_classes = len(np.unique(labels))\n",
    "\n",
    "print(\"done\")"
   ]
  },
  {
   "cell_type": "code",
   "execution_count": 8,
   "metadata": {},
   "outputs": [
    {
     "name": "stdout",
     "output_type": "stream",
     "text": [
      "done\n"
     ]
    }
   ],
   "source": [
    "dim = [2]\n",
    "times = 2\n",
    "\n",
    "my_GNN_big = tmp.gen_gnn_dense(max_n_nodes,\n",
    "                                 n_attributes,\n",
    "                                 batch_size = 32,\n",
    "                                 validation_split = 0.2,\n",
    "                                 epochs = 100,\n",
    "                                 dim = dim,\n",
    "                                 plot = True)\n",
    "\n",
    "m_1 = Transformer(my_GNN_big)\n",
    "emb_1 = Embedder([m_1],\"Spektral + dense\")\n",
    "\n",
    "\n",
    "my_GNN = tmp.generate_GNN(max_n_nodes,\n",
    "                      n_attributes,\n",
    "                      n_classes,\n",
    "                      batch_size = 32,\n",
    "                      validation_split = 0.2,\n",
    "                      epochs = 100,\n",
    "                      verbose=0, \n",
    "                      plot=True)\n",
    "\n",
    "m_2 = Transformer(my_GNN)\n",
    "m_3 = Transformer(TruncatedSVD())\n",
    "emb_2 = Embedder([m_2,m_3],\"Spektral + PCA\")\n",
    "\n",
    "print(\"done\") "
   ]
  },
  {
   "cell_type": "code",
   "execution_count": 11,
   "metadata": {
    "scrolled": false
   },
   "outputs": [
    {
     "name": "stdout",
     "output_type": "stream",
     "text": [
      "\t iteration n: 1\n",
      "\t \t dim:  2\n",
      "\t \t \t  Spektral + dense\n",
      "reset state TRANSFORMER\n",
      "reset state GNN embed\n"
     ]
    },
    {
     "data": {
      "image/png": "[encoded data removed]",
      "text/plain": [
       "<Figure size 432x288 with 1 Axes>"
      ]
     },
     "metadata": {
      "needs_background": "light"
     },
     "output_type": "display_data"
    },
    {
     "name": "stdout",
     "output_type": "stream",
     "text": [
      "max loss 2.8650633494059243\n",
      "min loss 0.5613989418461209\n",
      "0\n",
      "\t iteration n: 2\n",
      "\t \t dim:  2\n",
      "\t \t \t  Spektral + dense\n",
      "reset state TRANSFORMER\n",
      "reset state GNN embed\n"
     ]
    },
    {
     "data": {
      "image/png": "[encoded data removed]",
      "text/plain": [
       "<Figure size 432x288 with 1 Axes>"
      ]
     },
     "metadata": {
      "needs_background": "light"
     },
     "output_type": "display_data"
    },
    {
     "name": "stdout",
     "output_type": "stream",
     "text": [
      "max loss 3.9798061280023482\n",
      "min loss 0.525567889213562\n",
      "0\n"
     ]
    }
   ],
   "source": [
    "emb = [emb_1,emb_2]\n",
    "vis_500 = utilities.repeat_n_times(graphs, labels, emb, dim, times,test_size=0.3,seed = 11)"
   ]
  },
  {
   "cell_type": "code",
   "execution_count": 10,
   "metadata": {},
   "outputs": [
    {
     "name": "stdout",
     "output_type": "stream",
     "text": [
      "                      2    mean\n",
      "----------------  -----  ------\n",
      "Spektral + dense  0.667   0.667\n",
      "Spektral + PCA    0.435   0.435\n",
      "                      2    STD    mean\n",
      "----------------  -----  -----  ------\n",
      "Spektral + dense  0.667  0.142   0.404\n",
      "Spektral + PCA    0.435  0.146   0.29\n"
     ]
    }
   ],
   "source": [
    "vis_500.summary(std = False)\n",
    "vis_500.summary()"
   ]
  },
  {
   "cell_type": "code",
   "execution_count": 17,
   "metadata": {},
   "outputs": [],
   "source": [
    "\n"
   ]
  },
  {
   "cell_type": "code",
   "execution_count": null,
   "metadata": {},
   "outputs": [],
   "source": []
  },
  {
   "cell_type": "markdown",
   "metadata": {},
   "source": [
    "# GENERATE GNN DENSE"
   ]
  },
  {
   "cell_type": "code",
   "execution_count": 18,
   "metadata": {},
   "outputs": [],
   "source": []
  },
  {
   "cell_type": "code",
   "execution_count": null,
   "metadata": {},
   "outputs": [],
   "source": []
  },
  {
   "cell_type": "code",
   "execution_count": null,
   "metadata": {},
   "outputs": [],
   "source": []
  },
  {
   "cell_type": "code",
   "execution_count": 19,
   "metadata": {},
   "outputs": [],
   "source": []
  },
  {
   "cell_type": "code",
   "execution_count": null,
   "metadata": {},
   "outputs": [],
   "source": []
  },
  {
   "cell_type": "code",
   "execution_count": null,
   "metadata": {},
   "outputs": [],
   "source": []
  }
 ],
 "metadata": {
  "kernelspec": {
   "display_name": "Python 3",
   "language": "python",
   "name": "python3"
  },
  "language_info": {
   "codemirror_mode": {
    "name": "ipython",
    "version": 3
   },
   "file_extension": ".py",
   "mimetype": "text/x-python",
   "name": "python",
   "nbconvert_exporter": "python",
   "pygments_lexer": "ipython3",
   "version": "3.6.8"
  }
 },
 "nbformat": 4,
 "nbformat_minor": 2
}
