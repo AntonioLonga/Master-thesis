{
 "cells": [
  {
   "cell_type": "code",
   "execution_count": 4,
   "metadata": {},
   "outputs": [
    {
     "name": "stderr",
     "output_type": "stream",
     "text": [
      "Using TensorFlow backend.\n"
     ]
    }
   ],
   "source": [
    "%load_ext autoreload\n",
    "%autoreload 2\n",
    "\n",
    "from keras.callbacks import EarlyStopping\n",
    "from keras.layers import Input, Dense\n",
    "from keras.models import Model\n",
    "from keras.optimizers import Adam\n",
    "from keras.regularizers import l2\n",
    "\n",
    "\n",
    "from spektral.datasets import delaunay\n",
    "from spektral.layers import GraphAttention, GlobalAttentionPool\n",
    "from spektral.utils import localpooling_filter\n",
    "\n",
    "import numpy as np\n",
    "from eden import graph\n",
    "import umap \n",
    "import networkx as nx\n",
    "\n",
    "import load_data as ld\n",
    "import utilities\n",
    "from evaluator import Evaluator\n",
    "from embedder import Embedder\n",
    "from embedder import Transformer\n",
    "from embedder import Transformer_GNN\n",
    "from visualizator import Visualizator\n",
    "\n",
    "\n",
    "from sklearn.decomposition import TruncatedSVD\n",
    "from sklearn.neighbors import KNeighborsClassifier"
   ]
  },
  {
   "cell_type": "markdown",
   "metadata": {},
   "source": [
    "# Dati artificiali"
   ]
  },
  {
   "cell_type": "code",
   "execution_count": 10,
   "metadata": {},
   "outputs": [],
   "source": [
    "from Graph_generator import Graph_Generator\n",
    "\n",
    "n_graphs = 220\n",
    "\n",
    "\n",
    "# 20 permutations\n",
    "gg = Graph_Generator(n_graphs=n_graphs,\n",
    "                     degree = 4)\n",
    "g1, na1, ea1 = gg.generate(20,10,10,1)\n",
    "g2, na2, ea2 = gg.generate(20,10,10,10)\n",
    "\n",
    "graphs, labels = gg.generate_set(g1,g2,na1, ea1,na2, ea2,20,20,plot=False)\n",
    "data1 = [\"20n_20p\",graphs,labels]\n",
    "\n",
    "\n",
    "# 10 permutations\n",
    "gg = Graph_Generator(n_graphs=n_graphs,\n",
    "                     degree = 4)\n",
    "g1, na1, ea1 = gg.generate(20,10,10,1)\n",
    "g2, na2, ea2 = gg.generate(20,10,10,10)\n",
    "\n",
    "graphs, labels = gg.generate_set(g1,g2,na1, ea1,na2, ea2,10,10,plot=False)\n",
    "data2 = [\"20n_10p\",graphs,labels]\n",
    "\n",
    "\n",
    "# 20 permutations + other data\n",
    "gg = Graph_Generator(n_graphs=n_graphs,\n",
    "                     degree = 4)\n",
    "g1, na1, ea1 = gg.generate(20,10,10,1)\n",
    "g2, na2, ea2 = gg.generate(20,10,10,10)\n",
    "\n",
    "functions = [utilities.degree,utilities.clust_coefficient,utilities.local_degree_profile]\n",
    "graphs = utilities.add_info_to_nodes(graphs,functions)\n",
    "graphs, labels = gg.generate_set(g1,g2,na1, ea1,na2, ea2,20,20,plot=False)\n",
    "data3 = [\"20n_20p_ldp\",graphs,labels]\n",
    "\n",
    "\n",
    "# 10 permutations + other data\n",
    "gg = Graph_Generator(n_graphs=n_graphs,\n",
    "                     degree = 4)\n",
    "g1, na1, ea1 = gg.generate(20,10,10,1)\n",
    "g2, na2, ea2 = gg.generate(20,10,10,10)\n",
    "\n",
    "graphs, labels = gg.generate_set(g1,g2,na1, ea1,na2, ea2,10,10,plot=False)\n",
    "graphs = utilities.add_info_to_nodes(graphs,functions)\n",
    "data4 = [\"20n_10p_ldp\",graphs,labels]"
   ]
  },
  {
   "cell_type": "code",
   "execution_count": 11,
   "metadata": {},
   "outputs": [
    {
     "name": "stdout",
     "output_type": "stream",
     "text": [
      "20n_20p\n",
      "\t iteration n: 1\n",
      "\t \t dim:  2\n",
      "\t \t \t  Spektral 100 epochs + umap\n",
      "17\n",
      "\t \t \t  Spektral 100 epochs + pca\n",
      "35\n"
     ]
    },
    {
     "name": "stderr",
     "output_type": "stream",
     "text": [
      "/home/antonio/anaconda3/envs/tesi/lib/python3.6/site-packages/sklearn/metrics/classification.py:1143: UndefinedMetricWarning: Precision is ill-defined and being set to 0.0 in labels with no predicted samples.\n",
      "  'precision', 'predicted', average, warn_for)\n",
      "/home/antonio/anaconda3/envs/tesi/lib/python3.6/site-packages/sklearn/metrics/classification.py:1143: UndefinedMetricWarning: F-score is ill-defined and being set to 0.0 in labels with no predicted samples.\n",
      "  'precision', 'predicted', average, warn_for)\n"
     ]
    },
    {
     "name": "stdout",
     "output_type": "stream",
     "text": [
      "\t \t \t  Vectorize-5, PCA-1000, UMAP\n",
      "\t \t \t  Vectorize-5, PCA-1000, UMAP-3\n",
      "\t \t \t  Vectorize-5, PCA-1000, UMAP-5\n"
     ]
    },
    {
     "name": "stderr",
     "output_type": "stream",
     "text": [
      "/home/antonio/anaconda3/envs/tesi/lib/python3.6/site-packages/sklearn/metrics/classification.py:1143: UndefinedMetricWarning: Precision is ill-defined and being set to 0.0 in labels with no predicted samples.\n",
      "  'precision', 'predicted', average, warn_for)\n",
      "/home/antonio/anaconda3/envs/tesi/lib/python3.6/site-packages/sklearn/metrics/classification.py:1143: UndefinedMetricWarning: F-score is ill-defined and being set to 0.0 in labels with no predicted samples.\n",
      "  'precision', 'predicted', average, warn_for)\n"
     ]
    },
    {
     "name": "stdout",
     "output_type": "stream",
     "text": [
      "\t \t \t  Vectorize-5, PCA-1000, UMAP-7\n",
      "\t \t \t  Vectorize-5, PCA-1000, UMAP-10\n"
     ]
    },
    {
     "name": "stderr",
     "output_type": "stream",
     "text": [
      "/home/antonio/anaconda3/envs/tesi/lib/python3.6/site-packages/sklearn/metrics/classification.py:1143: UndefinedMetricWarning: Precision is ill-defined and being set to 0.0 in labels with no predicted samples.\n",
      "  'precision', 'predicted', average, warn_for)\n",
      "/home/antonio/anaconda3/envs/tesi/lib/python3.6/site-packages/sklearn/metrics/classification.py:1143: UndefinedMetricWarning: F-score is ill-defined and being set to 0.0 in labels with no predicted samples.\n",
      "  'precision', 'predicted', average, warn_for)\n"
     ]
    },
    {
     "name": "stdout",
     "output_type": "stream",
     "text": [
      "\t \t \t  Vectorize-5, PCA\n",
      "\t \t dim:  4\n",
      "\t \t \t  Spektral 100 epochs + umap\n",
      "20\n"
     ]
    },
    {
     "name": "stderr",
     "output_type": "stream",
     "text": [
      "/home/antonio/anaconda3/envs/tesi/lib/python3.6/site-packages/sklearn/metrics/classification.py:1143: UndefinedMetricWarning: Precision is ill-defined and being set to 0.0 in labels with no predicted samples.\n",
      "  'precision', 'predicted', average, warn_for)\n",
      "/home/antonio/anaconda3/envs/tesi/lib/python3.6/site-packages/sklearn/metrics/classification.py:1143: UndefinedMetricWarning: F-score is ill-defined and being set to 0.0 in labels with no predicted samples.\n",
      "  'precision', 'predicted', average, warn_for)\n"
     ]
    },
    {
     "name": "stdout",
     "output_type": "stream",
     "text": [
      "\t \t \t  Spektral 100 epochs + pca\n",
      "19\n"
     ]
    },
    {
     "name": "stderr",
     "output_type": "stream",
     "text": [
      "/home/antonio/anaconda3/envs/tesi/lib/python3.6/site-packages/sklearn/metrics/classification.py:1143: UndefinedMetricWarning: Precision is ill-defined and being set to 0.0 in labels with no predicted samples.\n",
      "  'precision', 'predicted', average, warn_for)\n",
      "/home/antonio/anaconda3/envs/tesi/lib/python3.6/site-packages/sklearn/metrics/classification.py:1143: UndefinedMetricWarning: F-score is ill-defined and being set to 0.0 in labels with no predicted samples.\n",
      "  'precision', 'predicted', average, warn_for)\n"
     ]
    },
    {
     "name": "stdout",
     "output_type": "stream",
     "text": [
      "\t \t \t  Vectorize-5, PCA-1000, UMAP\n",
      "\t \t \t  Vectorize-5, PCA-1000, UMAP-3\n",
      "\t \t \t  Vectorize-5, PCA-1000, UMAP-5\n",
      "\t \t \t  Vectorize-5, PCA-1000, UMAP-7\n"
     ]
    },
    {
     "name": "stderr",
     "output_type": "stream",
     "text": [
      "/home/antonio/anaconda3/envs/tesi/lib/python3.6/site-packages/sklearn/metrics/classification.py:1143: UndefinedMetricWarning: Precision is ill-defined and being set to 0.0 in labels with no predicted samples.\n",
      "  'precision', 'predicted', average, warn_for)\n",
      "/home/antonio/anaconda3/envs/tesi/lib/python3.6/site-packages/sklearn/metrics/classification.py:1143: UndefinedMetricWarning: F-score is ill-defined and being set to 0.0 in labels with no predicted samples.\n",
      "  'precision', 'predicted', average, warn_for)\n"
     ]
    },
    {
     "name": "stdout",
     "output_type": "stream",
     "text": [
      "\t \t \t  Vectorize-5, PCA-1000, UMAP-10\n",
      "\t \t \t  Vectorize-5, PCA\n",
      "\t \t dim:  8\n",
      "\t \t \t  Spektral 100 epochs + umap\n",
      "21\n",
      "\t \t \t  Spektral 100 epochs + pca\n",
      "19\n"
     ]
    },
    {
     "name": "stderr",
     "output_type": "stream",
     "text": [
      "/home/antonio/anaconda3/envs/tesi/lib/python3.6/site-packages/sklearn/metrics/classification.py:1143: UndefinedMetricWarning: Precision is ill-defined and being set to 0.0 in labels with no predicted samples.\n",
      "  'precision', 'predicted', average, warn_for)\n",
      "/home/antonio/anaconda3/envs/tesi/lib/python3.6/site-packages/sklearn/metrics/classification.py:1143: UndefinedMetricWarning: F-score is ill-defined and being set to 0.0 in labels with no predicted samples.\n",
      "  'precision', 'predicted', average, warn_for)\n"
     ]
    },
    {
     "name": "stdout",
     "output_type": "stream",
     "text": [
      "\t \t \t  Vectorize-5, PCA-1000, UMAP\n"
     ]
    },
    {
     "name": "stderr",
     "output_type": "stream",
     "text": [
      "/home/antonio/anaconda3/envs/tesi/lib/python3.6/site-packages/sklearn/metrics/classification.py:1143: UndefinedMetricWarning: Precision is ill-defined and being set to 0.0 in labels with no predicted samples.\n",
      "  'precision', 'predicted', average, warn_for)\n",
      "/home/antonio/anaconda3/envs/tesi/lib/python3.6/site-packages/sklearn/metrics/classification.py:1143: UndefinedMetricWarning: F-score is ill-defined and being set to 0.0 in labels with no predicted samples.\n",
      "  'precision', 'predicted', average, warn_for)\n"
     ]
    },
    {
     "name": "stdout",
     "output_type": "stream",
     "text": [
      "\t \t \t  Vectorize-5, PCA-1000, UMAP-3\n",
      "\t \t \t  Vectorize-5, PCA-1000, UMAP-5\n",
      "\t \t \t  Vectorize-5, PCA-1000, UMAP-7\n",
      "\t \t \t  Vectorize-5, PCA-1000, UMAP-10\n",
      "\t \t \t  Vectorize-5, PCA\n",
      "20n_10p\n",
      "\t iteration n: 1\n",
      "\t \t dim:  2\n",
      "\t \t \t  Spektral 100 epochs + umap\n",
      "18\n",
      "\t \t \t  Spektral 100 epochs + pca\n",
      "15\n",
      "\t \t \t  Vectorize-5, PCA-1000, UMAP\n",
      "\t \t \t  Vectorize-5, PCA-1000, UMAP-3\n",
      "\t \t \t  Vectorize-5, PCA-1000, UMAP-5\n",
      "\t \t \t  Vectorize-5, PCA-1000, UMAP-7\n",
      "\t \t \t  Vectorize-5, PCA-1000, UMAP-10\n",
      "\t \t \t  Vectorize-5, PCA\n",
      "\t \t dim:  4\n",
      "\t \t \t  Spektral 100 epochs + umap\n",
      "19\n",
      "\t \t \t  Spektral 100 epochs + pca\n",
      "14\n",
      "\t \t \t  Vectorize-5, PCA-1000, UMAP\n",
      "\t \t \t  Vectorize-5, PCA-1000, UMAP-3\n",
      "\t \t \t  Vectorize-5, PCA-1000, UMAP-5\n",
      "\t \t \t  Vectorize-5, PCA-1000, UMAP-7\n",
      "\t \t \t  Vectorize-5, PCA-1000, UMAP-10\n",
      "\t \t \t  Vectorize-5, PCA\n",
      "\t \t dim:  8\n",
      "\t \t \t  Spektral 100 epochs + umap\n",
      "15\n",
      "\t \t \t  Spektral 100 epochs + pca\n",
      "14\n",
      "\t \t \t  Vectorize-5, PCA-1000, UMAP\n",
      "\t \t \t  Vectorize-5, PCA-1000, UMAP-3\n",
      "\t \t \t  Vectorize-5, PCA-1000, UMAP-5\n",
      "\t \t \t  Vectorize-5, PCA-1000, UMAP-7\n",
      "\t \t \t  Vectorize-5, PCA-1000, UMAP-10\n",
      "\t \t \t  Vectorize-5, PCA\n",
      "20n_20p_ldp\n",
      "\t iteration n: 1\n",
      "\t \t dim:  2\n",
      "\t \t \t  Spektral 100 epochs + umap\n",
      "11\n"
     ]
    },
    {
     "name": "stderr",
     "output_type": "stream",
     "text": [
      "/home/antonio/anaconda3/envs/tesi/lib/python3.6/site-packages/sklearn/metrics/classification.py:1143: UndefinedMetricWarning: Precision is ill-defined and being set to 0.0 in labels with no predicted samples.\n",
      "  'precision', 'predicted', average, warn_for)\n",
      "/home/antonio/anaconda3/envs/tesi/lib/python3.6/site-packages/sklearn/metrics/classification.py:1143: UndefinedMetricWarning: F-score is ill-defined and being set to 0.0 in labels with no predicted samples.\n",
      "  'precision', 'predicted', average, warn_for)\n"
     ]
    },
    {
     "name": "stdout",
     "output_type": "stream",
     "text": [
      "\t \t \t  Spektral 100 epochs + pca\n",
      "11\n",
      "\t \t \t  Vectorize-5, PCA-1000, UMAP\n"
     ]
    },
    {
     "name": "stderr",
     "output_type": "stream",
     "text": [
      "/home/antonio/anaconda3/envs/tesi/lib/python3.6/site-packages/sklearn/metrics/classification.py:1143: UndefinedMetricWarning: Precision is ill-defined and being set to 0.0 in labels with no predicted samples.\n",
      "  'precision', 'predicted', average, warn_for)\n",
      "/home/antonio/anaconda3/envs/tesi/lib/python3.6/site-packages/sklearn/metrics/classification.py:1143: UndefinedMetricWarning: F-score is ill-defined and being set to 0.0 in labels with no predicted samples.\n",
      "  'precision', 'predicted', average, warn_for)\n"
     ]
    },
    {
     "name": "stdout",
     "output_type": "stream",
     "text": [
      "\t \t \t  Vectorize-5, PCA-1000, UMAP-3\n",
      "\t \t \t  Vectorize-5, PCA-1000, UMAP-5\n",
      "\t \t \t  Vectorize-5, PCA-1000, UMAP-7\n",
      "\t \t \t  Vectorize-5, PCA-1000, UMAP-10\n"
     ]
    },
    {
     "name": "stderr",
     "output_type": "stream",
     "text": [
      "/home/antonio/anaconda3/envs/tesi/lib/python3.6/site-packages/sklearn/metrics/classification.py:1143: UndefinedMetricWarning: Precision is ill-defined and being set to 0.0 in labels with no predicted samples.\n",
      "  'precision', 'predicted', average, warn_for)\n",
      "/home/antonio/anaconda3/envs/tesi/lib/python3.6/site-packages/sklearn/metrics/classification.py:1143: UndefinedMetricWarning: F-score is ill-defined and being set to 0.0 in labels with no predicted samples.\n",
      "  'precision', 'predicted', average, warn_for)\n"
     ]
    },
    {
     "name": "stdout",
     "output_type": "stream",
     "text": [
      "\t \t \t  Vectorize-5, PCA\n",
      "\t \t dim:  4\n",
      "\t \t \t  Spektral 100 epochs + umap\n",
      "20\n",
      "\t \t \t  Spektral 100 epochs + pca\n",
      "10\n",
      "\t \t \t  Vectorize-5, PCA-1000, UMAP\n",
      "\t \t \t  Vectorize-5, PCA-1000, UMAP-3\n",
      "\t \t \t  Vectorize-5, PCA-1000, UMAP-5\n"
     ]
    },
    {
     "name": "stderr",
     "output_type": "stream",
     "text": [
      "/home/antonio/anaconda3/envs/tesi/lib/python3.6/site-packages/sklearn/metrics/classification.py:1143: UndefinedMetricWarning: Precision is ill-defined and being set to 0.0 in labels with no predicted samples.\n",
      "  'precision', 'predicted', average, warn_for)\n",
      "/home/antonio/anaconda3/envs/tesi/lib/python3.6/site-packages/sklearn/metrics/classification.py:1143: UndefinedMetricWarning: F-score is ill-defined and being set to 0.0 in labels with no predicted samples.\n",
      "  'precision', 'predicted', average, warn_for)\n"
     ]
    },
    {
     "name": "stdout",
     "output_type": "stream",
     "text": [
      "\t \t \t  Vectorize-5, PCA-1000, UMAP-7\n",
      "\t \t \t  Vectorize-5, PCA-1000, UMAP-10\n",
      "\t \t \t  Vectorize-5, PCA\n"
     ]
    },
    {
     "name": "stderr",
     "output_type": "stream",
     "text": [
      "/home/antonio/anaconda3/envs/tesi/lib/python3.6/site-packages/sklearn/metrics/classification.py:1143: UndefinedMetricWarning: Precision is ill-defined and being set to 0.0 in labels with no predicted samples.\n",
      "  'precision', 'predicted', average, warn_for)\n",
      "/home/antonio/anaconda3/envs/tesi/lib/python3.6/site-packages/sklearn/metrics/classification.py:1143: UndefinedMetricWarning: F-score is ill-defined and being set to 0.0 in labels with no predicted samples.\n",
      "  'precision', 'predicted', average, warn_for)\n"
     ]
    },
    {
     "name": "stdout",
     "output_type": "stream",
     "text": [
      "\t \t dim:  8\n",
      "\t \t \t  Spektral 100 epochs + umap\n",
      "11\n",
      "\t \t \t  Spektral 100 epochs + pca\n",
      "10\n",
      "\t \t \t  Vectorize-5, PCA-1000, UMAP\n",
      "\t \t \t  Vectorize-5, PCA-1000, UMAP-3\n",
      "\t \t \t  Vectorize-5, PCA-1000, UMAP-5\n"
     ]
    },
    {
     "name": "stderr",
     "output_type": "stream",
     "text": [
      "/home/antonio/anaconda3/envs/tesi/lib/python3.6/site-packages/sklearn/metrics/classification.py:1143: UndefinedMetricWarning: Precision is ill-defined and being set to 0.0 in labels with no predicted samples.\n",
      "  'precision', 'predicted', average, warn_for)\n",
      "/home/antonio/anaconda3/envs/tesi/lib/python3.6/site-packages/sklearn/metrics/classification.py:1143: UndefinedMetricWarning: F-score is ill-defined and being set to 0.0 in labels with no predicted samples.\n",
      "  'precision', 'predicted', average, warn_for)\n"
     ]
    },
    {
     "name": "stdout",
     "output_type": "stream",
     "text": [
      "\t \t \t  Vectorize-5, PCA-1000, UMAP-7\n"
     ]
    },
    {
     "name": "stderr",
     "output_type": "stream",
     "text": [
      "/home/antonio/anaconda3/envs/tesi/lib/python3.6/site-packages/sklearn/metrics/classification.py:1143: UndefinedMetricWarning: Precision is ill-defined and being set to 0.0 in labels with no predicted samples.\n",
      "  'precision', 'predicted', average, warn_for)\n",
      "/home/antonio/anaconda3/envs/tesi/lib/python3.6/site-packages/sklearn/metrics/classification.py:1143: UndefinedMetricWarning: F-score is ill-defined and being set to 0.0 in labels with no predicted samples.\n",
      "  'precision', 'predicted', average, warn_for)\n"
     ]
    },
    {
     "name": "stdout",
     "output_type": "stream",
     "text": [
      "\t \t \t  Vectorize-5, PCA-1000, UMAP-10\n"
     ]
    },
    {
     "name": "stderr",
     "output_type": "stream",
     "text": [
      "/home/antonio/anaconda3/envs/tesi/lib/python3.6/site-packages/sklearn/metrics/classification.py:1143: UndefinedMetricWarning: Precision is ill-defined and being set to 0.0 in labels with no predicted samples.\n",
      "  'precision', 'predicted', average, warn_for)\n",
      "/home/antonio/anaconda3/envs/tesi/lib/python3.6/site-packages/sklearn/metrics/classification.py:1143: UndefinedMetricWarning: Precision is ill-defined and being set to 0.0 in labels with no predicted samples.\n",
      "  'precision', 'predicted', average, warn_for)\n",
      "/home/antonio/anaconda3/envs/tesi/lib/python3.6/site-packages/sklearn/metrics/classification.py:1143: UndefinedMetricWarning: F-score is ill-defined and being set to 0.0 in labels with no predicted samples.\n",
      "  'precision', 'predicted', average, warn_for)\n",
      "/home/antonio/anaconda3/envs/tesi/lib/python3.6/site-packages/sklearn/metrics/classification.py:1143: UndefinedMetricWarning: F-score is ill-defined and being set to 0.0 in labels with no predicted samples.\n",
      "  'precision', 'predicted', average, warn_for)\n"
     ]
    },
    {
     "name": "stdout",
     "output_type": "stream",
     "text": [
      "\t \t \t  Vectorize-5, PCA\n",
      "20n_10p_ldp\n",
      "\t iteration n: 1\n",
      "\t \t dim:  2\n",
      "\t \t \t  Spektral 100 epochs + umap\n",
      "10\n",
      "\t \t \t  Spektral 100 epochs + pca\n",
      "10\n",
      "\t \t \t  Vectorize-5, PCA-1000, UMAP\n",
      "\t \t \t  Vectorize-5, PCA-1000, UMAP-3\n"
     ]
    },
    {
     "name": "stderr",
     "output_type": "stream",
     "text": [
      "/home/antonio/anaconda3/envs/tesi/lib/python3.6/site-packages/sklearn/metrics/classification.py:1143: UndefinedMetricWarning: Precision is ill-defined and being set to 0.0 in labels with no predicted samples.\n",
      "  'precision', 'predicted', average, warn_for)\n",
      "/home/antonio/anaconda3/envs/tesi/lib/python3.6/site-packages/sklearn/metrics/classification.py:1143: UndefinedMetricWarning: F-score is ill-defined and being set to 0.0 in labels with no predicted samples.\n",
      "  'precision', 'predicted', average, warn_for)\n"
     ]
    },
    {
     "name": "stdout",
     "output_type": "stream",
     "text": [
      "\t \t \t  Vectorize-5, PCA-1000, UMAP-5\n",
      "\t \t \t  Vectorize-5, PCA-1000, UMAP-7\n",
      "\t \t \t  Vectorize-5, PCA-1000, UMAP-10\n",
      "\t \t \t  Vectorize-5, PCA\n",
      "\t \t dim:  4\n",
      "\t \t \t  Spektral 100 epochs + umap\n",
      "10\n",
      "\t \t \t  Spektral 100 epochs + pca\n",
      "10\n",
      "\t \t \t  Vectorize-5, PCA-1000, UMAP\n",
      "\t \t \t  Vectorize-5, PCA-1000, UMAP-3\n",
      "\t \t \t  Vectorize-5, PCA-1000, UMAP-5\n",
      "\t \t \t  Vectorize-5, PCA-1000, UMAP-7\n",
      "\t \t \t  Vectorize-5, PCA-1000, UMAP-10\n",
      "\t \t \t  Vectorize-5, PCA\n",
      "\t \t dim:  8\n",
      "\t \t \t  Spektral 100 epochs + umap\n",
      "10\n",
      "\t \t \t  Spektral 100 epochs + pca\n",
      "10\n"
     ]
    },
    {
     "name": "stderr",
     "output_type": "stream",
     "text": [
      "/home/antonio/anaconda3/envs/tesi/lib/python3.6/site-packages/sklearn/metrics/classification.py:1143: UndefinedMetricWarning: Precision is ill-defined and being set to 0.0 in labels with no predicted samples.\n",
      "  'precision', 'predicted', average, warn_for)\n",
      "/home/antonio/anaconda3/envs/tesi/lib/python3.6/site-packages/sklearn/metrics/classification.py:1143: UndefinedMetricWarning: F-score is ill-defined and being set to 0.0 in labels with no predicted samples.\n",
      "  'precision', 'predicted', average, warn_for)\n"
     ]
    },
    {
     "name": "stdout",
     "output_type": "stream",
     "text": [
      "\t \t \t  Vectorize-5, PCA-1000, UMAP\n",
      "\t \t \t  Vectorize-5, PCA-1000, UMAP-3\n",
      "\t \t \t  Vectorize-5, PCA-1000, UMAP-5\n",
      "\t \t \t  Vectorize-5, PCA-1000, UMAP-7\n",
      "\t \t \t  Vectorize-5, PCA-1000, UMAP-10\n",
      "\t \t \t  Vectorize-5, PCA\n"
     ]
    }
   ],
   "source": [
    "datasets=[data1,data2,data3,data4]        \n",
    "res_artificial = try_artificial_graphs(datasets,1,[2,4,8])"
   ]
  },
  {
   "cell_type": "code",
   "execution_count": 12,
   "metadata": {},
   "outputs": [
    {
     "name": "stdout",
     "output_type": "stream",
     "text": [
      "20 nodi - 20 perturbazioni\n",
      "                                    2      4      8    mean\n",
      "------------------------------  -----  -----  -----  ------\n",
      "Spektral 100 epochs + umap      0.719  0.821  0.685   0.742\n",
      "Spektral 100 epochs + pca       0.69   0.676  0.662   0.676\n",
      "Vectorize-5, PCA-1000, UMAP     0.747  0.693  0.696   0.712\n",
      "Vectorize-5, PCA-1000, UMAP-3   0.752  0.769  0.763   0.761\n",
      "Vectorize-5, PCA-1000, UMAP-5   0.69   0.809  0.792   0.764\n",
      "Vectorize-5, PCA-1000, UMAP-7   0.676  0.747  0.77    0.731\n",
      "Vectorize-5, PCA-1000, UMAP-10  0.693  0.669  0.667   0.676\n",
      "Vectorize-5, PCA                0.767  0.753  0.772   0.764\n",
      "20 nodi - 20 perturbazioni - ldp\n",
      "                                    2      4      8    mean\n",
      "------------------------------  -----  -----  -----  ------\n",
      "Spektral 100 epochs + umap      0.564  0.505  0.565   0.545\n",
      "Spektral 100 epochs + pca       0.677  0.677  0.677   0.677\n",
      "Vectorize-5, PCA-1000, UMAP     0.801  0.761  0.752   0.771\n",
      "Vectorize-5, PCA-1000, UMAP-3   0.528  0.683  0.724   0.645\n",
      "Vectorize-5, PCA-1000, UMAP-5   0.618  0.572  0.676   0.622\n",
      "Vectorize-5, PCA-1000, UMAP-7   0.643  0.71   0.667   0.673\n",
      "Vectorize-5, PCA-1000, UMAP-10  0.719  0.74   0.668   0.709\n",
      "Vectorize-5, PCA                0.783  0.69   0.68    0.718\n",
      "20 nodi - 10 perturbazioni\n",
      "                                    2      4      8    mean\n",
      "------------------------------  -----  -----  -----  ------\n",
      "Spektral 100 epochs + umap      0.572  0.541  0.564   0.559\n",
      "Spektral 100 epochs + pca       0.531  0.579  0.682   0.597\n",
      "Vectorize-5, PCA-1000, UMAP     0.921  0.938  0.967   0.942\n",
      "Vectorize-5, PCA-1000, UMAP-3   0.936  0.938  0.952   0.942\n",
      "Vectorize-5, PCA-1000, UMAP-5   0.983  0.957  0.983   0.974\n",
      "Vectorize-5, PCA-1000, UMAP-7   0.921  0.954  0.938   0.938\n",
      "Vectorize-5, PCA-1000, UMAP-10  0.865  0.852  0.894   0.87\n",
      "Vectorize-5, PCA                0.936  0.969  0.921   0.942\n",
      "20 nodi - 10 perturbazioni - ldp\n",
      "                                    2      4      8    mean\n",
      "------------------------------  -----  -----  -----  ------\n",
      "Spektral 100 epochs + umap      0.55   0.51   0.507   0.522\n",
      "Spektral 100 epochs + pca       0.539  0.724  0.72    0.661\n",
      "Vectorize-5, PCA-1000, UMAP     0.929  0.914  0.957   0.933\n",
      "Vectorize-5, PCA-1000, UMAP-3   0.778  0.858  0.915   0.85\n",
      "Vectorize-5, PCA-1000, UMAP-5   0.858  0.841  0.747   0.815\n",
      "Vectorize-5, PCA-1000, UMAP-7   0.918  0.855  0.815   0.863\n",
      "Vectorize-5, PCA-1000, UMAP-10  0.849  0.837  0.892   0.859\n",
      "Vectorize-5, PCA                0.986  0.938  0.883   0.936\n",
      "GLOBAL WLT\n",
      "                                                                  sum\n",
      "------------------------------  --  --  --  --  --  --  --  --  -----\n",
      "Spektral 100 epochs + umap       0   5   1   2   2   2   3   1     16\n",
      "Spektral 100 epochs + pca        7   0   0   1   3   3   2   0     16\n",
      "Vectorize-5, PCA-1000, UMAP     11  12   0   7   7   8  12   5     62\n",
      "Vectorize-5, PCA-1000, UMAP-3   10  11   4   0   5   7   9   4     50\n",
      "Vectorize-5, PCA-1000, UMAP-5   10   8   5   7   0   7   8   4     49\n",
      "Vectorize-5, PCA-1000, UMAP-7   10   9   3   5   5   0   7   2     41\n",
      "Vectorize-5, PCA-1000, UMAP-10   9  10   0   3   4   5   0   2     33\n",
      "Vectorize-5, PCA                11  12   7   7   8  10  10   0     65\n",
      "GLOBAL RANK\n",
      "                                   2    4    8     mean\n",
      "------------------------------  ----  ---  ---  -------\n",
      "Spektral 100 epochs + umap      25     25   30  26.6667\n",
      "Spektral 100 epochs + pca       26     27   26  26.3333\n",
      "Vectorize-5, PCA-1000, UMAP     10.5   14    9  11.1667\n",
      "Vectorize-5, PCA-1000, UMAP-3   18.5   15   11  14.8333\n",
      "Vectorize-5, PCA-1000, UMAP-5   18     16   13  15.6667\n",
      "Vectorize-5, PCA-1000, UMAP-7   20.5   15   19  18.1667\n",
      "Vectorize-5, PCA-1000, UMAP-10  19     22   22  21\n",
      "Vectorize-5, PCA                 6.5   10   14  10.1667\n"
     ]
    }
   ],
   "source": [
    "print(\"20 nodi - 20 perturbazioni\")\n",
    "res_artificial[\"20n_20p\"].summary(std=False)\n",
    "print(\"20 nodi - 20 perturbazioni - ldp\")\n",
    "res_artificial[\"20n_20p_ldp\"].summary(std=False)\n",
    "\n",
    "print(\"20 nodi - 10 perturbazioni\")\n",
    "res_artificial[\"20n_10p\"].summary(std=False)\n",
    "print(\"20 nodi - 10 perturbazioni - ldp\")\n",
    "res_artificial[\"20n_10p_ldp\"].summary(std=False)\n",
    "\n",
    "print(\"GLOBAL WLT\")\n",
    "utilities.global_wlt(res_artificial)\n",
    "print(\"GLOBAL RANK\")\n",
    "utilities.global_rank(res_artificial)"
   ]
  },
  {
   "cell_type": "markdown",
   "metadata": {},
   "source": [
    "# MUTAG - AIDS - PROTEINS\n",
    "# no info aggiuntive"
   ]
  },
  {
   "cell_type": "code",
   "execution_count": 9,
   "metadata": {},
   "outputs": [
    {
     "name": "stdout",
     "output_type": "stream",
     "text": [
      "PROTEINS\n",
      "[0.5 0.5]\n",
      "\t iteration n: 1\n",
      "\t \t dim:  2\n",
      "\t \t \t  Spektral 100 epochs + umap\n",
      "10\n"
     ]
    },
    {
     "name": "stderr",
     "output_type": "stream",
     "text": [
      "/home/antonio/anaconda3/envs/tesi/lib/python3.6/site-packages/sklearn/metrics/classification.py:1143: UndefinedMetricWarning: Precision is ill-defined and being set to 0.0 in labels with no predicted samples.\n",
      "  'precision', 'predicted', average, warn_for)\n",
      "/home/antonio/anaconda3/envs/tesi/lib/python3.6/site-packages/sklearn/metrics/classification.py:1143: UndefinedMetricWarning: F-score is ill-defined and being set to 0.0 in labels with no predicted samples.\n",
      "  'precision', 'predicted', average, warn_for)\n"
     ]
    },
    {
     "name": "stdout",
     "output_type": "stream",
     "text": [
      "\t \t \t  Spektral 100 epochs + pca\n",
      "21\n"
     ]
    },
    {
     "name": "stderr",
     "output_type": "stream",
     "text": [
      "/home/antonio/anaconda3/envs/tesi/lib/python3.6/site-packages/sklearn/metrics/classification.py:1143: UndefinedMetricWarning: Precision is ill-defined and being set to 0.0 in labels with no predicted samples.\n",
      "  'precision', 'predicted', average, warn_for)\n",
      "/home/antonio/anaconda3/envs/tesi/lib/python3.6/site-packages/sklearn/metrics/classification.py:1143: UndefinedMetricWarning: F-score is ill-defined and being set to 0.0 in labels with no predicted samples.\n",
      "  'precision', 'predicted', average, warn_for)\n"
     ]
    },
    {
     "name": "stdout",
     "output_type": "stream",
     "text": [
      "\t \t \t  Vectorize-5, PCA-1000, UMAP\n",
      "\t \t \t  Vectorize-5, PCA-1000, UMAP-3\n"
     ]
    },
    {
     "name": "stderr",
     "output_type": "stream",
     "text": [
      "/home/antonio/anaconda3/envs/tesi/lib/python3.6/site-packages/umap/spectral.py:229: UserWarning: Embedding a total of 3 separate connected components using meta-embedding (experimental)\n",
      "  n_components\n"
     ]
    },
    {
     "name": "stdout",
     "output_type": "stream",
     "text": [
      "\t \t \t  Vectorize-5, PCA-1000, UMAP-5\n"
     ]
    },
    {
     "name": "stderr",
     "output_type": "stream",
     "text": [
      "/home/antonio/anaconda3/envs/tesi/lib/python3.6/site-packages/sklearn/metrics/classification.py:1143: UndefinedMetricWarning: Precision is ill-defined and being set to 0.0 in labels with no predicted samples.\n",
      "  'precision', 'predicted', average, warn_for)\n",
      "/home/antonio/anaconda3/envs/tesi/lib/python3.6/site-packages/sklearn/metrics/classification.py:1143: UndefinedMetricWarning: F-score is ill-defined and being set to 0.0 in labels with no predicted samples.\n",
      "  'precision', 'predicted', average, warn_for)\n"
     ]
    },
    {
     "name": "stdout",
     "output_type": "stream",
     "text": [
      "\t \t \t  Vectorize-5, PCA\n",
      "\t \t dim:  4\n",
      "\t \t \t  Spektral 100 epochs + umap\n",
      "12\n"
     ]
    },
    {
     "name": "stderr",
     "output_type": "stream",
     "text": [
      "/home/antonio/anaconda3/envs/tesi/lib/python3.6/site-packages/sklearn/metrics/classification.py:1143: UndefinedMetricWarning: Precision is ill-defined and being set to 0.0 in labels with no predicted samples.\n",
      "  'precision', 'predicted', average, warn_for)\n",
      "/home/antonio/anaconda3/envs/tesi/lib/python3.6/site-packages/sklearn/metrics/classification.py:1143: UndefinedMetricWarning: F-score is ill-defined and being set to 0.0 in labels with no predicted samples.\n",
      "  'precision', 'predicted', average, warn_for)\n"
     ]
    },
    {
     "name": "stdout",
     "output_type": "stream",
     "text": [
      "\t \t \t  Spektral 100 epochs + pca\n",
      "17\n"
     ]
    },
    {
     "name": "stderr",
     "output_type": "stream",
     "text": [
      "/home/antonio/anaconda3/envs/tesi/lib/python3.6/site-packages/sklearn/metrics/classification.py:1143: UndefinedMetricWarning: Precision is ill-defined and being set to 0.0 in labels with no predicted samples.\n",
      "  'precision', 'predicted', average, warn_for)\n",
      "/home/antonio/anaconda3/envs/tesi/lib/python3.6/site-packages/sklearn/metrics/classification.py:1143: UndefinedMetricWarning: F-score is ill-defined and being set to 0.0 in labels with no predicted samples.\n",
      "  'precision', 'predicted', average, warn_for)\n"
     ]
    },
    {
     "name": "stdout",
     "output_type": "stream",
     "text": [
      "\t \t \t  Vectorize-5, PCA-1000, UMAP\n",
      "\t \t \t  Vectorize-5, PCA-1000, UMAP-3\n"
     ]
    },
    {
     "name": "stderr",
     "output_type": "stream",
     "text": [
      "/home/antonio/anaconda3/envs/tesi/lib/python3.6/site-packages/umap/spectral.py:229: UserWarning: Embedding a total of 3 separate connected components using meta-embedding (experimental)\n",
      "  n_components\n",
      "/home/antonio/anaconda3/envs/tesi/lib/python3.6/site-packages/sklearn/metrics/classification.py:1143: UndefinedMetricWarning: Precision is ill-defined and being set to 0.0 in labels with no predicted samples.\n",
      "  'precision', 'predicted', average, warn_for)\n",
      "/home/antonio/anaconda3/envs/tesi/lib/python3.6/site-packages/sklearn/metrics/classification.py:1143: UndefinedMetricWarning: F-score is ill-defined and being set to 0.0 in labels with no predicted samples.\n",
      "  'precision', 'predicted', average, warn_for)\n"
     ]
    },
    {
     "name": "stdout",
     "output_type": "stream",
     "text": [
      "\t \t \t  Vectorize-5, PCA-1000, UMAP-5\n"
     ]
    },
    {
     "name": "stderr",
     "output_type": "stream",
     "text": [
      "/home/antonio/anaconda3/envs/tesi/lib/python3.6/site-packages/sklearn/metrics/classification.py:1143: UndefinedMetricWarning: Precision is ill-defined and being set to 0.0 in labels with no predicted samples.\n",
      "  'precision', 'predicted', average, warn_for)\n",
      "/home/antonio/anaconda3/envs/tesi/lib/python3.6/site-packages/sklearn/metrics/classification.py:1143: UndefinedMetricWarning: F-score is ill-defined and being set to 0.0 in labels with no predicted samples.\n",
      "  'precision', 'predicted', average, warn_for)\n"
     ]
    },
    {
     "name": "stdout",
     "output_type": "stream",
     "text": [
      "\t \t \t  Vectorize-5, PCA\n",
      "\t \t dim:  8\n",
      "\t \t \t  Spektral 100 epochs + umap\n",
      "22\n"
     ]
    },
    {
     "name": "stderr",
     "output_type": "stream",
     "text": [
      "/home/antonio/anaconda3/envs/tesi/lib/python3.6/site-packages/sklearn/metrics/classification.py:1143: UndefinedMetricWarning: Precision is ill-defined and being set to 0.0 in labels with no predicted samples.\n",
      "  'precision', 'predicted', average, warn_for)\n",
      "/home/antonio/anaconda3/envs/tesi/lib/python3.6/site-packages/sklearn/metrics/classification.py:1143: UndefinedMetricWarning: F-score is ill-defined and being set to 0.0 in labels with no predicted samples.\n",
      "  'precision', 'predicted', average, warn_for)\n"
     ]
    },
    {
     "name": "stdout",
     "output_type": "stream",
     "text": [
      "\t \t \t  Spektral 100 epochs + pca\n",
      "12\n"
     ]
    },
    {
     "name": "stderr",
     "output_type": "stream",
     "text": [
      "/home/antonio/anaconda3/envs/tesi/lib/python3.6/site-packages/sklearn/metrics/classification.py:1143: UndefinedMetricWarning: Precision is ill-defined and being set to 0.0 in labels with no predicted samples.\n",
      "  'precision', 'predicted', average, warn_for)\n",
      "/home/antonio/anaconda3/envs/tesi/lib/python3.6/site-packages/sklearn/metrics/classification.py:1143: UndefinedMetricWarning: F-score is ill-defined and being set to 0.0 in labels with no predicted samples.\n",
      "  'precision', 'predicted', average, warn_for)\n"
     ]
    },
    {
     "name": "stdout",
     "output_type": "stream",
     "text": [
      "\t \t \t  Vectorize-5, PCA-1000, UMAP\n",
      "\t \t \t  Vectorize-5, PCA-1000, UMAP-3\n"
     ]
    },
    {
     "name": "stderr",
     "output_type": "stream",
     "text": [
      "/home/antonio/anaconda3/envs/tesi/lib/python3.6/site-packages/umap/spectral.py:229: UserWarning: Embedding a total of 3 separate connected components using meta-embedding (experimental)\n",
      "  n_components\n"
     ]
    },
    {
     "name": "stdout",
     "output_type": "stream",
     "text": [
      "\t \t \t  Vectorize-5, PCA-1000, UMAP-5\n"
     ]
    },
    {
     "name": "stderr",
     "output_type": "stream",
     "text": [
      "/home/antonio/anaconda3/envs/tesi/lib/python3.6/site-packages/sklearn/metrics/classification.py:1143: UndefinedMetricWarning: Precision is ill-defined and being set to 0.0 in labels with no predicted samples.\n",
      "  'precision', 'predicted', average, warn_for)\n",
      "/home/antonio/anaconda3/envs/tesi/lib/python3.6/site-packages/sklearn/metrics/classification.py:1143: UndefinedMetricWarning: F-score is ill-defined and being set to 0.0 in labels with no predicted samples.\n",
      "  'precision', 'predicted', average, warn_for)\n"
     ]
    },
    {
     "name": "stdout",
     "output_type": "stream",
     "text": [
      "\t \t \t  Vectorize-5, PCA\n",
      "AIDS\n",
      "[0.5 0.5]\n",
      "\t iteration n: 1\n",
      "\t \t dim:  2\n",
      "\t \t \t  Spektral 100 epochs + umap\n",
      "15\n",
      "\t \t \t  Spektral 100 epochs + pca\n",
      "14\n",
      "\t \t \t  Vectorize-5, PCA-1000, UMAP\n",
      "\t \t \t  Vectorize-5, PCA-1000, UMAP-3\n"
     ]
    },
    {
     "name": "stderr",
     "output_type": "stream",
     "text": [
      "/home/antonio/anaconda3/envs/tesi/lib/python3.6/site-packages/umap/spectral.py:229: UserWarning: Embedding a total of 3 separate connected components using meta-embedding (experimental)\n",
      "  n_components\n"
     ]
    },
    {
     "name": "stdout",
     "output_type": "stream",
     "text": [
      "\t \t \t  Vectorize-5, PCA-1000, UMAP-5\n",
      "\t \t \t  Vectorize-5, PCA\n",
      "\t \t dim:  4\n",
      "\t \t \t  Spektral 100 epochs + umap\n",
      "14\n",
      "\t \t \t  Spektral 100 epochs + pca\n",
      "14\n",
      "\t \t \t  Vectorize-5, PCA-1000, UMAP\n",
      "\t \t \t  Vectorize-5, PCA-1000, UMAP-3\n"
     ]
    },
    {
     "name": "stderr",
     "output_type": "stream",
     "text": [
      "/home/antonio/anaconda3/envs/tesi/lib/python3.6/site-packages/umap/spectral.py:229: UserWarning: Embedding a total of 3 separate connected components using meta-embedding (experimental)\n",
      "  n_components\n",
      "/home/antonio/anaconda3/envs/tesi/lib/python3.6/site-packages/sklearn/metrics/classification.py:1143: UndefinedMetricWarning: Precision is ill-defined and being set to 0.0 in labels with no predicted samples.\n",
      "  'precision', 'predicted', average, warn_for)\n",
      "/home/antonio/anaconda3/envs/tesi/lib/python3.6/site-packages/sklearn/metrics/classification.py:1143: UndefinedMetricWarning: F-score is ill-defined and being set to 0.0 in labels with no predicted samples.\n",
      "  'precision', 'predicted', average, warn_for)\n"
     ]
    },
    {
     "name": "stdout",
     "output_type": "stream",
     "text": [
      "\t \t \t  Vectorize-5, PCA-1000, UMAP-5\n",
      "\t \t \t  Vectorize-5, PCA\n",
      "\t \t dim:  8\n",
      "\t \t \t  Spektral 100 epochs + umap\n",
      "16\n",
      "\t \t \t  Spektral 100 epochs + pca\n",
      "14\n",
      "\t \t \t  Vectorize-5, PCA-1000, UMAP\n",
      "\t \t \t  Vectorize-5, PCA-1000, UMAP-3\n"
     ]
    },
    {
     "name": "stderr",
     "output_type": "stream",
     "text": [
      "/home/antonio/anaconda3/envs/tesi/lib/python3.6/site-packages/umap/spectral.py:229: UserWarning: Embedding a total of 3 separate connected components using meta-embedding (experimental)\n",
      "  n_components\n"
     ]
    },
    {
     "name": "stdout",
     "output_type": "stream",
     "text": [
      "\t \t \t  Vectorize-5, PCA-1000, UMAP-5\n",
      "\t \t \t  Vectorize-5, PCA\n",
      "MUTAG\n",
      "[0.39 0.61]\n",
      "\t iteration n: 1\n",
      "\t \t dim:  2\n",
      "\t \t \t  Spektral 100 epochs + umap\n",
      "11\n"
     ]
    },
    {
     "name": "stderr",
     "output_type": "stream",
     "text": [
      "/home/antonio/anaconda3/envs/tesi/lib/python3.6/site-packages/umap/spectral.py:229: UserWarning: Embedding a total of 4 separate connected components using meta-embedding (experimental)\n",
      "  n_components\n"
     ]
    },
    {
     "name": "stdout",
     "output_type": "stream",
     "text": [
      "\t \t \t  Spektral 100 epochs + pca\n",
      "14\n"
     ]
    },
    {
     "name": "stderr",
     "output_type": "stream",
     "text": [
      "/home/antonio/anaconda3/envs/tesi/lib/python3.6/site-packages/sklearn/metrics/classification.py:1143: UndefinedMetricWarning: Precision is ill-defined and being set to 0.0 in labels with no predicted samples.\n",
      "  'precision', 'predicted', average, warn_for)\n",
      "/home/antonio/anaconda3/envs/tesi/lib/python3.6/site-packages/sklearn/metrics/classification.py:1143: UndefinedMetricWarning: Precision is ill-defined and being set to 0.0 in labels with no predicted samples.\n",
      "  'precision', 'predicted', average, warn_for)\n",
      "/home/antonio/anaconda3/envs/tesi/lib/python3.6/site-packages/sklearn/metrics/classification.py:1143: UndefinedMetricWarning: F-score is ill-defined and being set to 0.0 in labels with no predicted samples.\n",
      "  'precision', 'predicted', average, warn_for)\n",
      "/home/antonio/anaconda3/envs/tesi/lib/python3.6/site-packages/sklearn/metrics/classification.py:1143: UndefinedMetricWarning: F-score is ill-defined and being set to 0.0 in labels with no predicted samples.\n",
      "  'precision', 'predicted', average, warn_for)\n"
     ]
    },
    {
     "name": "stdout",
     "output_type": "stream",
     "text": [
      "\t \t \t  Vectorize-5, PCA-1000, UMAP\n"
     ]
    },
    {
     "name": "stderr",
     "output_type": "stream",
     "text": [
      "/home/antonio/anaconda3/envs/tesi/lib/python3.6/site-packages/sklearn/metrics/classification.py:1143: UndefinedMetricWarning: Precision is ill-defined and being set to 0.0 in labels with no predicted samples.\n",
      "  'precision', 'predicted', average, warn_for)\n",
      "/home/antonio/anaconda3/envs/tesi/lib/python3.6/site-packages/sklearn/metrics/classification.py:1143: UndefinedMetricWarning: Precision is ill-defined and being set to 0.0 in labels with no predicted samples.\n",
      "  'precision', 'predicted', average, warn_for)\n",
      "/home/antonio/anaconda3/envs/tesi/lib/python3.6/site-packages/sklearn/metrics/classification.py:1143: UndefinedMetricWarning: F-score is ill-defined and being set to 0.0 in labels with no predicted samples.\n",
      "  'precision', 'predicted', average, warn_for)\n",
      "/home/antonio/anaconda3/envs/tesi/lib/python3.6/site-packages/sklearn/metrics/classification.py:1143: UndefinedMetricWarning: F-score is ill-defined and being set to 0.0 in labels with no predicted samples.\n",
      "  'precision', 'predicted', average, warn_for)\n"
     ]
    },
    {
     "name": "stdout",
     "output_type": "stream",
     "text": [
      "\t \t \t  Vectorize-5, PCA-1000, UMAP-3\n"
     ]
    },
    {
     "name": "stderr",
     "output_type": "stream",
     "text": [
      "/home/antonio/anaconda3/envs/tesi/lib/python3.6/site-packages/umap/spectral.py:229: UserWarning: Embedding a total of 3 separate connected components using meta-embedding (experimental)\n",
      "  n_components\n",
      "/home/antonio/anaconda3/envs/tesi/lib/python3.6/site-packages/sklearn/metrics/classification.py:1143: UndefinedMetricWarning: Precision is ill-defined and being set to 0.0 in labels with no predicted samples.\n",
      "  'precision', 'predicted', average, warn_for)\n",
      "/home/antonio/anaconda3/envs/tesi/lib/python3.6/site-packages/sklearn/metrics/classification.py:1143: UndefinedMetricWarning: Precision is ill-defined and being set to 0.0 in labels with no predicted samples.\n",
      "  'precision', 'predicted', average, warn_for)\n",
      "/home/antonio/anaconda3/envs/tesi/lib/python3.6/site-packages/sklearn/metrics/classification.py:1143: UndefinedMetricWarning: Precision is ill-defined and being set to 0.0 in labels with no predicted samples.\n",
      "  'precision', 'predicted', average, warn_for)\n",
      "/home/antonio/anaconda3/envs/tesi/lib/python3.6/site-packages/sklearn/metrics/classification.py:1143: UndefinedMetricWarning: F-score is ill-defined and being set to 0.0 in labels with no predicted samples.\n",
      "  'precision', 'predicted', average, warn_for)\n",
      "/home/antonio/anaconda3/envs/tesi/lib/python3.6/site-packages/sklearn/metrics/classification.py:1143: UndefinedMetricWarning: F-score is ill-defined and being set to 0.0 in labels with no predicted samples.\n",
      "  'precision', 'predicted', average, warn_for)\n",
      "/home/antonio/anaconda3/envs/tesi/lib/python3.6/site-packages/sklearn/metrics/classification.py:1143: UndefinedMetricWarning: F-score is ill-defined and being set to 0.0 in labels with no predicted samples.\n",
      "  'precision', 'predicted', average, warn_for)\n"
     ]
    },
    {
     "name": "stdout",
     "output_type": "stream",
     "text": [
      "\t \t \t  Vectorize-5, PCA-1000, UMAP-5\n"
     ]
    },
    {
     "name": "stderr",
     "output_type": "stream",
     "text": [
      "/home/antonio/anaconda3/envs/tesi/lib/python3.6/site-packages/umap/spectral.py:229: UserWarning: Embedding a total of 2 separate connected components using meta-embedding (experimental)\n",
      "  n_components\n",
      "/home/antonio/anaconda3/envs/tesi/lib/python3.6/site-packages/sklearn/metrics/classification.py:1143: UndefinedMetricWarning: Precision is ill-defined and being set to 0.0 in labels with no predicted samples.\n",
      "  'precision', 'predicted', average, warn_for)\n",
      "/home/antonio/anaconda3/envs/tesi/lib/python3.6/site-packages/sklearn/metrics/classification.py:1143: UndefinedMetricWarning: Precision is ill-defined and being set to 0.0 in labels with no predicted samples.\n",
      "  'precision', 'predicted', average, warn_for)\n",
      "/home/antonio/anaconda3/envs/tesi/lib/python3.6/site-packages/sklearn/metrics/classification.py:1143: UndefinedMetricWarning: F-score is ill-defined and being set to 0.0 in labels with no predicted samples.\n",
      "  'precision', 'predicted', average, warn_for)\n",
      "/home/antonio/anaconda3/envs/tesi/lib/python3.6/site-packages/sklearn/metrics/classification.py:1143: UndefinedMetricWarning: F-score is ill-defined and being set to 0.0 in labels with no predicted samples.\n",
      "  'precision', 'predicted', average, warn_for)\n"
     ]
    },
    {
     "name": "stdout",
     "output_type": "stream",
     "text": [
      "\t \t \t  Vectorize-5, PCA\n",
      "\t \t dim:  4\n",
      "\t \t \t  Spektral 100 epochs + umap\n",
      "10\n"
     ]
    },
    {
     "name": "stderr",
     "output_type": "stream",
     "text": [
      "/home/antonio/anaconda3/envs/tesi/lib/python3.6/site-packages/umap/spectral.py:229: UserWarning: Embedding a total of 3 separate connected components using meta-embedding (experimental)\n",
      "  n_components\n",
      "/home/antonio/anaconda3/envs/tesi/lib/python3.6/site-packages/sklearn/metrics/classification.py:1143: UndefinedMetricWarning: Precision is ill-defined and being set to 0.0 in labels with no predicted samples.\n",
      "  'precision', 'predicted', average, warn_for)\n",
      "/home/antonio/anaconda3/envs/tesi/lib/python3.6/site-packages/sklearn/metrics/classification.py:1143: UndefinedMetricWarning: F-score is ill-defined and being set to 0.0 in labels with no predicted samples.\n",
      "  'precision', 'predicted', average, warn_for)\n"
     ]
    },
    {
     "name": "stdout",
     "output_type": "stream",
     "text": [
      "\t \t \t  Spektral 100 epochs + pca\n",
      "10\n",
      "\t \t \t  Vectorize-5, PCA-1000, UMAP\n"
     ]
    },
    {
     "name": "stderr",
     "output_type": "stream",
     "text": [
      "/home/antonio/anaconda3/envs/tesi/lib/python3.6/site-packages/sklearn/metrics/classification.py:1143: UndefinedMetricWarning: Precision is ill-defined and being set to 0.0 in labels with no predicted samples.\n",
      "  'precision', 'predicted', average, warn_for)\n",
      "/home/antonio/anaconda3/envs/tesi/lib/python3.6/site-packages/sklearn/metrics/classification.py:1143: UndefinedMetricWarning: Precision is ill-defined and being set to 0.0 in labels with no predicted samples.\n",
      "  'precision', 'predicted', average, warn_for)\n",
      "/home/antonio/anaconda3/envs/tesi/lib/python3.6/site-packages/sklearn/metrics/classification.py:1143: UndefinedMetricWarning: Precision is ill-defined and being set to 0.0 in labels with no predicted samples.\n",
      "  'precision', 'predicted', average, warn_for)\n",
      "/home/antonio/anaconda3/envs/tesi/lib/python3.6/site-packages/sklearn/metrics/classification.py:1143: UndefinedMetricWarning: F-score is ill-defined and being set to 0.0 in labels with no predicted samples.\n",
      "  'precision', 'predicted', average, warn_for)\n",
      "/home/antonio/anaconda3/envs/tesi/lib/python3.6/site-packages/sklearn/metrics/classification.py:1143: UndefinedMetricWarning: F-score is ill-defined and being set to 0.0 in labels with no predicted samples.\n",
      "  'precision', 'predicted', average, warn_for)\n",
      "/home/antonio/anaconda3/envs/tesi/lib/python3.6/site-packages/sklearn/metrics/classification.py:1143: UndefinedMetricWarning: F-score is ill-defined and being set to 0.0 in labels with no predicted samples.\n",
      "  'precision', 'predicted', average, warn_for)\n"
     ]
    },
    {
     "name": "stdout",
     "output_type": "stream",
     "text": [
      "\t \t \t  Vectorize-5, PCA-1000, UMAP-3\n"
     ]
    },
    {
     "name": "stderr",
     "output_type": "stream",
     "text": [
      "/home/antonio/anaconda3/envs/tesi/lib/python3.6/site-packages/umap/spectral.py:229: UserWarning: Embedding a total of 3 separate connected components using meta-embedding (experimental)\n",
      "  n_components\n",
      "/home/antonio/anaconda3/envs/tesi/lib/python3.6/site-packages/sklearn/metrics/classification.py:1143: UndefinedMetricWarning: Precision is ill-defined and being set to 0.0 in labels with no predicted samples.\n",
      "  'precision', 'predicted', average, warn_for)\n",
      "/home/antonio/anaconda3/envs/tesi/lib/python3.6/site-packages/sklearn/metrics/classification.py:1143: UndefinedMetricWarning: F-score is ill-defined and being set to 0.0 in labels with no predicted samples.\n",
      "  'precision', 'predicted', average, warn_for)\n"
     ]
    },
    {
     "name": "stdout",
     "output_type": "stream",
     "text": [
      "\t \t \t  Vectorize-5, PCA-1000, UMAP-5\n"
     ]
    },
    {
     "name": "stderr",
     "output_type": "stream",
     "text": [
      "/home/antonio/anaconda3/envs/tesi/lib/python3.6/site-packages/umap/spectral.py:229: UserWarning: Embedding a total of 2 separate connected components using meta-embedding (experimental)\n",
      "  n_components\n"
     ]
    },
    {
     "name": "stdout",
     "output_type": "stream",
     "text": [
      "\t \t \t  Vectorize-5, PCA\n"
     ]
    },
    {
     "name": "stderr",
     "output_type": "stream",
     "text": [
      "/home/antonio/anaconda3/envs/tesi/lib/python3.6/site-packages/sklearn/metrics/classification.py:1143: UndefinedMetricWarning: Precision is ill-defined and being set to 0.0 in labels with no predicted samples.\n",
      "  'precision', 'predicted', average, warn_for)\n",
      "/home/antonio/anaconda3/envs/tesi/lib/python3.6/site-packages/sklearn/metrics/classification.py:1143: UndefinedMetricWarning: Precision is ill-defined and being set to 0.0 in labels with no predicted samples.\n",
      "  'precision', 'predicted', average, warn_for)\n",
      "/home/antonio/anaconda3/envs/tesi/lib/python3.6/site-packages/sklearn/metrics/classification.py:1143: UndefinedMetricWarning: F-score is ill-defined and being set to 0.0 in labels with no predicted samples.\n",
      "  'precision', 'predicted', average, warn_for)\n",
      "/home/antonio/anaconda3/envs/tesi/lib/python3.6/site-packages/sklearn/metrics/classification.py:1143: UndefinedMetricWarning: F-score is ill-defined and being set to 0.0 in labels with no predicted samples.\n",
      "  'precision', 'predicted', average, warn_for)\n"
     ]
    },
    {
     "name": "stdout",
     "output_type": "stream",
     "text": [
      "\t \t dim:  8\n",
      "\t \t \t  Spektral 100 epochs + umap\n",
      "17\n"
     ]
    },
    {
     "name": "stderr",
     "output_type": "stream",
     "text": [
      "/home/antonio/anaconda3/envs/tesi/lib/python3.6/site-packages/umap/spectral.py:229: UserWarning: Embedding a total of 4 separate connected components using meta-embedding (experimental)\n",
      "  n_components\n",
      "/home/antonio/anaconda3/envs/tesi/lib/python3.6/site-packages/sklearn/metrics/classification.py:1143: UndefinedMetricWarning: Precision is ill-defined and being set to 0.0 in labels with no predicted samples.\n",
      "  'precision', 'predicted', average, warn_for)\n",
      "/home/antonio/anaconda3/envs/tesi/lib/python3.6/site-packages/sklearn/metrics/classification.py:1143: UndefinedMetricWarning: F-score is ill-defined and being set to 0.0 in labels with no predicted samples.\n",
      "  'precision', 'predicted', average, warn_for)\n"
     ]
    },
    {
     "name": "stdout",
     "output_type": "stream",
     "text": [
      "\t \t \t  Spektral 100 epochs + pca\n",
      "10\n"
     ]
    },
    {
     "name": "stderr",
     "output_type": "stream",
     "text": [
      "/home/antonio/anaconda3/envs/tesi/lib/python3.6/site-packages/sklearn/metrics/classification.py:1143: UndefinedMetricWarning: Precision is ill-defined and being set to 0.0 in labels with no predicted samples.\n",
      "  'precision', 'predicted', average, warn_for)\n",
      "/home/antonio/anaconda3/envs/tesi/lib/python3.6/site-packages/sklearn/metrics/classification.py:1143: UndefinedMetricWarning: F-score is ill-defined and being set to 0.0 in labels with no predicted samples.\n",
      "  'precision', 'predicted', average, warn_for)\n"
     ]
    },
    {
     "name": "stdout",
     "output_type": "stream",
     "text": [
      "\t \t \t  Vectorize-5, PCA-1000, UMAP\n"
     ]
    },
    {
     "name": "stderr",
     "output_type": "stream",
     "text": [
      "/home/antonio/anaconda3/envs/tesi/lib/python3.6/site-packages/sklearn/metrics/classification.py:1143: UndefinedMetricWarning: Precision is ill-defined and being set to 0.0 in labels with no predicted samples.\n",
      "  'precision', 'predicted', average, warn_for)\n",
      "/home/antonio/anaconda3/envs/tesi/lib/python3.6/site-packages/sklearn/metrics/classification.py:1143: UndefinedMetricWarning: F-score is ill-defined and being set to 0.0 in labels with no predicted samples.\n",
      "  'precision', 'predicted', average, warn_for)\n"
     ]
    },
    {
     "name": "stdout",
     "output_type": "stream",
     "text": [
      "\t \t \t  Vectorize-5, PCA-1000, UMAP-3\n"
     ]
    },
    {
     "name": "stderr",
     "output_type": "stream",
     "text": [
      "/home/antonio/anaconda3/envs/tesi/lib/python3.6/site-packages/umap/spectral.py:229: UserWarning: Embedding a total of 3 separate connected components using meta-embedding (experimental)\n",
      "  n_components\n",
      "/home/antonio/anaconda3/envs/tesi/lib/python3.6/site-packages/sklearn/metrics/classification.py:1143: UndefinedMetricWarning: Precision is ill-defined and being set to 0.0 in labels with no predicted samples.\n",
      "  'precision', 'predicted', average, warn_for)\n",
      "/home/antonio/anaconda3/envs/tesi/lib/python3.6/site-packages/sklearn/metrics/classification.py:1143: UndefinedMetricWarning: Precision is ill-defined and being set to 0.0 in labels with no predicted samples.\n",
      "  'precision', 'predicted', average, warn_for)\n",
      "/home/antonio/anaconda3/envs/tesi/lib/python3.6/site-packages/sklearn/metrics/classification.py:1143: UndefinedMetricWarning: F-score is ill-defined and being set to 0.0 in labels with no predicted samples.\n",
      "  'precision', 'predicted', average, warn_for)\n",
      "/home/antonio/anaconda3/envs/tesi/lib/python3.6/site-packages/sklearn/metrics/classification.py:1143: UndefinedMetricWarning: F-score is ill-defined and being set to 0.0 in labels with no predicted samples.\n",
      "  'precision', 'predicted', average, warn_for)\n"
     ]
    },
    {
     "name": "stdout",
     "output_type": "stream",
     "text": [
      "\t \t \t  Vectorize-5, PCA-1000, UMAP-5\n"
     ]
    },
    {
     "name": "stderr",
     "output_type": "stream",
     "text": [
      "/home/antonio/anaconda3/envs/tesi/lib/python3.6/site-packages/umap/spectral.py:229: UserWarning: Embedding a total of 2 separate connected components using meta-embedding (experimental)\n",
      "  n_components\n",
      "/home/antonio/anaconda3/envs/tesi/lib/python3.6/site-packages/sklearn/metrics/classification.py:1143: UndefinedMetricWarning: Precision is ill-defined and being set to 0.0 in labels with no predicted samples.\n",
      "  'precision', 'predicted', average, warn_for)\n",
      "/home/antonio/anaconda3/envs/tesi/lib/python3.6/site-packages/sklearn/metrics/classification.py:1143: UndefinedMetricWarning: F-score is ill-defined and being set to 0.0 in labels with no predicted samples.\n",
      "  'precision', 'predicted', average, warn_for)\n"
     ]
    },
    {
     "name": "stdout",
     "output_type": "stream",
     "text": [
      "\t \t \t  Vectorize-5, PCA\n"
     ]
    },
    {
     "name": "stderr",
     "output_type": "stream",
     "text": [
      "/home/antonio/anaconda3/envs/tesi/lib/python3.6/site-packages/sklearn/metrics/classification.py:1143: UndefinedMetricWarning: Precision is ill-defined and being set to 0.0 in labels with no predicted samples.\n",
      "  'precision', 'predicted', average, warn_for)\n",
      "/home/antonio/anaconda3/envs/tesi/lib/python3.6/site-packages/sklearn/metrics/classification.py:1143: UndefinedMetricWarning: F-score is ill-defined and being set to 0.0 in labels with no predicted samples.\n",
      "  'precision', 'predicted', average, warn_for)\n"
     ]
    }
   ],
   "source": [
    "datasets=[\"PROTEINS\",\"AIDS\",\"MUTAG\"]     \n",
    "res_datasets = try_datasets(datasets,1,[2,4,8],ldp=False,graphs_for_class=100)"
   ]
  },
  {
   "cell_type": "code",
   "execution_count": 10,
   "metadata": {},
   "outputs": [
    {
     "name": "stdout",
     "output_type": "stream",
     "text": [
      "PROTEINS\n",
      "                                   2      4      8    mean\n",
      "-----------------------------  -----  -----  -----  ------\n",
      "Spektral 100 epochs + umap     0.609  0.685  0.649   0.648\n",
      "Spektral 100 epochs + pca      0.609  0.625  0.625   0.62\n",
      "Vectorize-5, PCA-1000, UMAP    0.648  0.405  0.553   0.535\n",
      "Vectorize-5, PCA-1000, UMAP-3  0.672  0.623  0.704   0.666\n",
      "Vectorize-5, PCA-1000, UMAP-5  0.464  0.495  0.485   0.481\n",
      "Vectorize-5, PCA               0.534  0.567  0.636   0.579\n",
      "AIDS\n",
      "                                   2      4      8    mean\n",
      "-----------------------------  -----  -----  -----  ------\n",
      "Spektral 100 epochs + umap     0.936  0.933  0.963   0.944\n",
      "Spektral 100 epochs + pca      0.952  0.967  0.967   0.962\n",
      "Vectorize-5, PCA-1000, UMAP    0.675  0.754  0.686   0.705\n",
      "Vectorize-5, PCA-1000, UMAP-3  0.736  0.716  0.736   0.729\n",
      "Vectorize-5, PCA-1000, UMAP-5  0.66   0.673  0.686   0.673\n",
      "Vectorize-5, PCA               0.967  0.801  0.905   0.891\n",
      "MUTAG\n",
      "                                   2      4      8    mean\n",
      "-----------------------------  -----  -----  -----  ------\n",
      "Spektral 100 epochs + umap     0.692  0.595  0.593   0.627\n",
      "Spektral 100 epochs + pca      0.655  0.72   0.768   0.714\n",
      "Vectorize-5, PCA-1000, UMAP    0.742  0.623  0.8     0.722\n",
      "Vectorize-5, PCA-1000, UMAP-3  0.728  0.757  0.793   0.759\n",
      "Vectorize-5, PCA-1000, UMAP-5  0.712  0.803  0.725   0.747\n",
      "Vectorize-5, PCA               0.818  0.775  0.8     0.798\n",
      "GLOBAL WLT\n",
      "                                                         sum\n",
      "-----------------------------  --  --  --  --  --  --  -----\n",
      "Spektral 100 epochs + umap      0   3   5   4   6   5     23\n",
      "Spektral 100 epochs + pca       5   0   6   4   7   4     26\n",
      "Vectorize-5, PCA-1000, UMAP     4   3   0   3   6   1     17\n",
      "Vectorize-5, PCA-1000, UMAP-3   5   5   6   0   8   3     27\n",
      "Vectorize-5, PCA-1000, UMAP-5   3   2   2   1   0   1      9\n",
      "Vectorize-5, PCA                4   5   7   6   8   0     30\n",
      "GLOBAL RANK\n",
      "                                  2    4     8      mean\n",
      "-----------------------------  ----  ---  ----  --------\n",
      "Spektral 100 epochs + umap     11.5    9  10    10.1667\n",
      "Spektral 100 epochs + pca      11.5    7   9     9.16667\n",
      "Vectorize-5, PCA-1000, UMAP     9     15  12    12\n",
      "Vectorize-5, PCA-1000, UMAP-3   8     11   8     9\n",
      "Vectorize-5, PCA-1000, UMAP-5  16     12  16.5  14.8333\n",
      "Vectorize-5, PCA                7      9   7.5   7.83333\n"
     ]
    }
   ],
   "source": [
    "print(\"PROTEINS\")\n",
    "res_datasets[\"PROTEINS\"].summary(std=False)\n",
    "print(\"AIDS\")\n",
    "res_datasets[\"AIDS\"].summary(std=False)\n",
    "print(\"MUTAG\")\n",
    "res_datasets[\"MUTAG\"].summary(std=False)\n",
    "\n",
    "\n",
    "\n",
    "print(\"GLOBAL WLT\")\n",
    "utilities.global_wlt(res_datasets)\n",
    "print(\"GLOBAL RANK\")\n",
    "utilities.global_rank(res_datasets)"
   ]
  },
  {
   "cell_type": "markdown",
   "metadata": {},
   "source": [
    "# MUTAG - AIDS - PROTEINS\n",
    "# ldp"
   ]
  },
  {
   "cell_type": "code",
   "execution_count": 12,
   "metadata": {},
   "outputs": [
    {
     "name": "stdout",
     "output_type": "stream",
     "text": [
      "PROTEINS\n",
      "[0.5 0.5]\n",
      "\t iteration n: 1\n",
      "\t \t dim:  2\n",
      "\t \t \t  Spektral 100 epochs + umap\n",
      "10\n"
     ]
    },
    {
     "name": "stderr",
     "output_type": "stream",
     "text": [
      "/home/antonio/anaconda3/envs/tesi/lib/python3.6/site-packages/sklearn/metrics/classification.py:1143: UndefinedMetricWarning: Precision is ill-defined and being set to 0.0 in labels with no predicted samples.\n",
      "  'precision', 'predicted', average, warn_for)\n",
      "/home/antonio/anaconda3/envs/tesi/lib/python3.6/site-packages/sklearn/metrics/classification.py:1143: UndefinedMetricWarning: F-score is ill-defined and being set to 0.0 in labels with no predicted samples.\n",
      "  'precision', 'predicted', average, warn_for)\n"
     ]
    },
    {
     "name": "stdout",
     "output_type": "stream",
     "text": [
      "\t \t \t  Spektral 100 epochs + pca\n",
      "10\n"
     ]
    },
    {
     "name": "stderr",
     "output_type": "stream",
     "text": [
      "/home/antonio/anaconda3/envs/tesi/lib/python3.6/site-packages/sklearn/metrics/classification.py:1143: UndefinedMetricWarning: Precision is ill-defined and being set to 0.0 in labels with no predicted samples.\n",
      "  'precision', 'predicted', average, warn_for)\n",
      "/home/antonio/anaconda3/envs/tesi/lib/python3.6/site-packages/sklearn/metrics/classification.py:1143: UndefinedMetricWarning: F-score is ill-defined and being set to 0.0 in labels with no predicted samples.\n",
      "  'precision', 'predicted', average, warn_for)\n"
     ]
    },
    {
     "name": "stdout",
     "output_type": "stream",
     "text": [
      "\t \t \t  Vectorize-5, PCA-1000, UMAP\n",
      "\t \t \t  Vectorize-5, PCA-1000, UMAP-3\n",
      "\t \t \t  Vectorize-5, PCA-1000, UMAP-5\n"
     ]
    },
    {
     "name": "stderr",
     "output_type": "stream",
     "text": [
      "/home/antonio/anaconda3/envs/tesi/lib/python3.6/site-packages/sklearn/metrics/classification.py:1143: UndefinedMetricWarning: Precision is ill-defined and being set to 0.0 in labels with no predicted samples.\n",
      "  'precision', 'predicted', average, warn_for)\n",
      "/home/antonio/anaconda3/envs/tesi/lib/python3.6/site-packages/sklearn/metrics/classification.py:1143: UndefinedMetricWarning: F-score is ill-defined and being set to 0.0 in labels with no predicted samples.\n",
      "  'precision', 'predicted', average, warn_for)\n"
     ]
    },
    {
     "name": "stdout",
     "output_type": "stream",
     "text": [
      "\t \t \t  Vectorize-5, PCA\n"
     ]
    },
    {
     "name": "stderr",
     "output_type": "stream",
     "text": [
      "/home/antonio/anaconda3/envs/tesi/lib/python3.6/site-packages/sklearn/metrics/classification.py:1143: UndefinedMetricWarning: Precision is ill-defined and being set to 0.0 in labels with no predicted samples.\n",
      "  'precision', 'predicted', average, warn_for)\n",
      "/home/antonio/anaconda3/envs/tesi/lib/python3.6/site-packages/sklearn/metrics/classification.py:1143: UndefinedMetricWarning: F-score is ill-defined and being set to 0.0 in labels with no predicted samples.\n",
      "  'precision', 'predicted', average, warn_for)\n"
     ]
    },
    {
     "name": "stdout",
     "output_type": "stream",
     "text": [
      "\t \t dim:  4\n",
      "\t \t \t  Spektral 100 epochs + umap\n",
      "15\n"
     ]
    },
    {
     "name": "stderr",
     "output_type": "stream",
     "text": [
      "/home/antonio/anaconda3/envs/tesi/lib/python3.6/site-packages/sklearn/metrics/classification.py:1143: UndefinedMetricWarning: Precision is ill-defined and being set to 0.0 in labels with no predicted samples.\n",
      "  'precision', 'predicted', average, warn_for)\n",
      "/home/antonio/anaconda3/envs/tesi/lib/python3.6/site-packages/sklearn/metrics/classification.py:1143: UndefinedMetricWarning: Precision is ill-defined and being set to 0.0 in labels with no predicted samples.\n",
      "  'precision', 'predicted', average, warn_for)\n",
      "/home/antonio/anaconda3/envs/tesi/lib/python3.6/site-packages/sklearn/metrics/classification.py:1143: UndefinedMetricWarning: F-score is ill-defined and being set to 0.0 in labels with no predicted samples.\n",
      "  'precision', 'predicted', average, warn_for)\n",
      "/home/antonio/anaconda3/envs/tesi/lib/python3.6/site-packages/sklearn/metrics/classification.py:1143: UndefinedMetricWarning: F-score is ill-defined and being set to 0.0 in labels with no predicted samples.\n",
      "  'precision', 'predicted', average, warn_for)\n"
     ]
    },
    {
     "name": "stdout",
     "output_type": "stream",
     "text": [
      "\t \t \t  Spektral 100 epochs + pca\n",
      "13\n",
      "\t \t \t  Vectorize-5, PCA-1000, UMAP\n"
     ]
    },
    {
     "name": "stderr",
     "output_type": "stream",
     "text": [
      "/home/antonio/anaconda3/envs/tesi/lib/python3.6/site-packages/sklearn/metrics/classification.py:1143: UndefinedMetricWarning: Precision is ill-defined and being set to 0.0 in labels with no predicted samples.\n",
      "  'precision', 'predicted', average, warn_for)\n",
      "/home/antonio/anaconda3/envs/tesi/lib/python3.6/site-packages/sklearn/metrics/classification.py:1143: UndefinedMetricWarning: F-score is ill-defined and being set to 0.0 in labels with no predicted samples.\n",
      "  'precision', 'predicted', average, warn_for)\n"
     ]
    },
    {
     "name": "stdout",
     "output_type": "stream",
     "text": [
      "\t \t \t  Vectorize-5, PCA-1000, UMAP-3\n",
      "\t \t \t  Vectorize-5, PCA-1000, UMAP-5\n",
      "\t \t \t  Vectorize-5, PCA\n"
     ]
    },
    {
     "name": "stderr",
     "output_type": "stream",
     "text": [
      "/home/antonio/anaconda3/envs/tesi/lib/python3.6/site-packages/sklearn/metrics/classification.py:1143: UndefinedMetricWarning: Precision is ill-defined and being set to 0.0 in labels with no predicted samples.\n",
      "  'precision', 'predicted', average, warn_for)\n",
      "/home/antonio/anaconda3/envs/tesi/lib/python3.6/site-packages/sklearn/metrics/classification.py:1143: UndefinedMetricWarning: Precision is ill-defined and being set to 0.0 in labels with no predicted samples.\n",
      "  'precision', 'predicted', average, warn_for)\n",
      "/home/antonio/anaconda3/envs/tesi/lib/python3.6/site-packages/sklearn/metrics/classification.py:1143: UndefinedMetricWarning: F-score is ill-defined and being set to 0.0 in labels with no predicted samples.\n",
      "  'precision', 'predicted', average, warn_for)\n",
      "/home/antonio/anaconda3/envs/tesi/lib/python3.6/site-packages/sklearn/metrics/classification.py:1143: UndefinedMetricWarning: F-score is ill-defined and being set to 0.0 in labels with no predicted samples.\n",
      "  'precision', 'predicted', average, warn_for)\n"
     ]
    },
    {
     "name": "stdout",
     "output_type": "stream",
     "text": [
      "\t \t dim:  8\n",
      "\t \t \t  Spektral 100 epochs + umap\n",
      "13\n"
     ]
    },
    {
     "name": "stderr",
     "output_type": "stream",
     "text": [
      "/home/antonio/anaconda3/envs/tesi/lib/python3.6/site-packages/sklearn/metrics/classification.py:1143: UndefinedMetricWarning: Precision is ill-defined and being set to 0.0 in labels with no predicted samples.\n",
      "  'precision', 'predicted', average, warn_for)\n",
      "/home/antonio/anaconda3/envs/tesi/lib/python3.6/site-packages/sklearn/metrics/classification.py:1143: UndefinedMetricWarning: Precision is ill-defined and being set to 0.0 in labels with no predicted samples.\n",
      "  'precision', 'predicted', average, warn_for)\n",
      "/home/antonio/anaconda3/envs/tesi/lib/python3.6/site-packages/sklearn/metrics/classification.py:1143: UndefinedMetricWarning: F-score is ill-defined and being set to 0.0 in labels with no predicted samples.\n",
      "  'precision', 'predicted', average, warn_for)\n",
      "/home/antonio/anaconda3/envs/tesi/lib/python3.6/site-packages/sklearn/metrics/classification.py:1143: UndefinedMetricWarning: F-score is ill-defined and being set to 0.0 in labels with no predicted samples.\n",
      "  'precision', 'predicted', average, warn_for)\n"
     ]
    },
    {
     "name": "stdout",
     "output_type": "stream",
     "text": [
      "\t \t \t  Spektral 100 epochs + pca\n",
      "12\n",
      "\t \t \t  Vectorize-5, PCA-1000, UMAP\n",
      "\t \t \t  Vectorize-5, PCA-1000, UMAP-3\n",
      "\t \t \t  Vectorize-5, PCA-1000, UMAP-5\n"
     ]
    },
    {
     "name": "stderr",
     "output_type": "stream",
     "text": [
      "/home/antonio/anaconda3/envs/tesi/lib/python3.6/site-packages/sklearn/metrics/classification.py:1143: UndefinedMetricWarning: Precision is ill-defined and being set to 0.0 in labels with no predicted samples.\n",
      "  'precision', 'predicted', average, warn_for)\n",
      "/home/antonio/anaconda3/envs/tesi/lib/python3.6/site-packages/sklearn/metrics/classification.py:1143: UndefinedMetricWarning: F-score is ill-defined and being set to 0.0 in labels with no predicted samples.\n",
      "  'precision', 'predicted', average, warn_for)\n"
     ]
    },
    {
     "name": "stdout",
     "output_type": "stream",
     "text": [
      "\t \t \t  Vectorize-5, PCA\n"
     ]
    },
    {
     "name": "stderr",
     "output_type": "stream",
     "text": [
      "/home/antonio/anaconda3/envs/tesi/lib/python3.6/site-packages/sklearn/metrics/classification.py:1143: UndefinedMetricWarning: Precision is ill-defined and being set to 0.0 in labels with no predicted samples.\n",
      "  'precision', 'predicted', average, warn_for)\n",
      "/home/antonio/anaconda3/envs/tesi/lib/python3.6/site-packages/sklearn/metrics/classification.py:1143: UndefinedMetricWarning: F-score is ill-defined and being set to 0.0 in labels with no predicted samples.\n",
      "  'precision', 'predicted', average, warn_for)\n"
     ]
    },
    {
     "name": "stdout",
     "output_type": "stream",
     "text": [
      "AIDS\n",
      "[0.5 0.5]\n",
      "\t iteration n: 1\n",
      "\t \t dim:  2\n",
      "\t \t \t  Spektral 100 epochs + umap\n",
      "19\n",
      "\t \t \t  Spektral 100 epochs + pca\n",
      "15\n",
      "\t \t \t  Vectorize-5, PCA-1000, UMAP\n",
      "\t \t \t  Vectorize-5, PCA-1000, UMAP-3\n"
     ]
    },
    {
     "name": "stderr",
     "output_type": "stream",
     "text": [
      "/home/antonio/anaconda3/envs/tesi/lib/python3.6/site-packages/umap/spectral.py:229: UserWarning: Embedding a total of 3 separate connected components using meta-embedding (experimental)\n",
      "  n_components\n"
     ]
    },
    {
     "name": "stdout",
     "output_type": "stream",
     "text": [
      "\t \t \t  Vectorize-5, PCA-1000, UMAP-5\n",
      "\t \t \t  Vectorize-5, PCA\n",
      "\t \t dim:  4\n",
      "\t \t \t  Spektral 100 epochs + umap\n",
      "20\n",
      "\t \t \t  Spektral 100 epochs + pca\n",
      "14\n",
      "\t \t \t  Vectorize-5, PCA-1000, UMAP\n",
      "\t \t \t  Vectorize-5, PCA-1000, UMAP-3\n"
     ]
    },
    {
     "name": "stderr",
     "output_type": "stream",
     "text": [
      "/home/antonio/anaconda3/envs/tesi/lib/python3.6/site-packages/umap/spectral.py:229: UserWarning: Embedding a total of 3 separate connected components using meta-embedding (experimental)\n",
      "  n_components\n"
     ]
    },
    {
     "name": "stdout",
     "output_type": "stream",
     "text": [
      "\t \t \t  Vectorize-5, PCA-1000, UMAP-5\n",
      "\t \t \t  Vectorize-5, PCA\n",
      "\t \t dim:  8\n",
      "\t \t \t  Spektral 100 epochs + umap\n",
      "14\n",
      "\t \t \t  Spektral 100 epochs + pca\n",
      "14\n",
      "\t \t \t  Vectorize-5, PCA-1000, UMAP\n",
      "\t \t \t  Vectorize-5, PCA-1000, UMAP-3\n"
     ]
    },
    {
     "name": "stderr",
     "output_type": "stream",
     "text": [
      "/home/antonio/anaconda3/envs/tesi/lib/python3.6/site-packages/umap/spectral.py:229: UserWarning: Embedding a total of 3 separate connected components using meta-embedding (experimental)\n",
      "  n_components\n"
     ]
    },
    {
     "name": "stdout",
     "output_type": "stream",
     "text": [
      "\t \t \t  Vectorize-5, PCA-1000, UMAP-5\n",
      "\t \t \t  Vectorize-5, PCA\n",
      "MUTAG\n",
      "[0.39 0.61]\n",
      "\t iteration n: 1\n",
      "\t \t dim:  2\n",
      "\t \t \t  Spektral 100 epochs + umap\n",
      "13\n"
     ]
    },
    {
     "name": "stderr",
     "output_type": "stream",
     "text": [
      "/home/antonio/anaconda3/envs/tesi/lib/python3.6/site-packages/sklearn/metrics/classification.py:1143: UndefinedMetricWarning: Precision is ill-defined and being set to 0.0 in labels with no predicted samples.\n",
      "  'precision', 'predicted', average, warn_for)\n",
      "/home/antonio/anaconda3/envs/tesi/lib/python3.6/site-packages/sklearn/metrics/classification.py:1143: UndefinedMetricWarning: F-score is ill-defined and being set to 0.0 in labels with no predicted samples.\n",
      "  'precision', 'predicted', average, warn_for)\n"
     ]
    },
    {
     "name": "stdout",
     "output_type": "stream",
     "text": [
      "\t \t \t  Spektral 100 epochs + pca\n",
      "16\n",
      "\t \t \t  Vectorize-5, PCA-1000, UMAP\n",
      "\t \t \t  Vectorize-5, PCA-1000, UMAP-3\n"
     ]
    },
    {
     "name": "stderr",
     "output_type": "stream",
     "text": [
      "/home/antonio/anaconda3/envs/tesi/lib/python3.6/site-packages/umap/spectral.py:229: UserWarning: Embedding a total of 6 separate connected components using meta-embedding (experimental)\n",
      "  n_components\n"
     ]
    },
    {
     "name": "stdout",
     "output_type": "stream",
     "text": [
      "\t \t \t  Vectorize-5, PCA-1000, UMAP-5\n",
      "\t \t \t  Vectorize-5, PCA\n",
      "\t \t dim:  4\n",
      "\t \t \t  Spektral 100 epochs + umap\n",
      "19\n",
      "\t \t \t  Spektral 100 epochs + pca\n",
      "21\n",
      "\t \t \t  Vectorize-5, PCA-1000, UMAP\n",
      "\t \t \t  Vectorize-5, PCA-1000, UMAP-3\n"
     ]
    },
    {
     "name": "stderr",
     "output_type": "stream",
     "text": [
      "/home/antonio/anaconda3/envs/tesi/lib/python3.6/site-packages/umap/spectral.py:229: UserWarning: Embedding a total of 6 separate connected components using meta-embedding (experimental)\n",
      "  n_components\n"
     ]
    },
    {
     "name": "stdout",
     "output_type": "stream",
     "text": [
      "\t \t \t  Vectorize-5, PCA-1000, UMAP-5\n",
      "\t \t \t  Vectorize-5, PCA\n"
     ]
    },
    {
     "name": "stderr",
     "output_type": "stream",
     "text": [
      "/home/antonio/anaconda3/envs/tesi/lib/python3.6/site-packages/sklearn/metrics/classification.py:1143: UndefinedMetricWarning: Precision is ill-defined and being set to 0.0 in labels with no predicted samples.\n",
      "  'precision', 'predicted', average, warn_for)\n",
      "/home/antonio/anaconda3/envs/tesi/lib/python3.6/site-packages/sklearn/metrics/classification.py:1143: UndefinedMetricWarning: Precision is ill-defined and being set to 0.0 in labels with no predicted samples.\n",
      "  'precision', 'predicted', average, warn_for)\n",
      "/home/antonio/anaconda3/envs/tesi/lib/python3.6/site-packages/sklearn/metrics/classification.py:1143: UndefinedMetricWarning: F-score is ill-defined and being set to 0.0 in labels with no predicted samples.\n",
      "  'precision', 'predicted', average, warn_for)\n",
      "/home/antonio/anaconda3/envs/tesi/lib/python3.6/site-packages/sklearn/metrics/classification.py:1143: UndefinedMetricWarning: F-score is ill-defined and being set to 0.0 in labels with no predicted samples.\n",
      "  'precision', 'predicted', average, warn_for)\n"
     ]
    },
    {
     "name": "stdout",
     "output_type": "stream",
     "text": [
      "\t \t dim:  8\n",
      "\t \t \t  Spektral 100 epochs + umap\n",
      "20\n"
     ]
    },
    {
     "name": "stderr",
     "output_type": "stream",
     "text": [
      "/home/antonio/anaconda3/envs/tesi/lib/python3.6/site-packages/sklearn/metrics/classification.py:1143: UndefinedMetricWarning: Precision is ill-defined and being set to 0.0 in labels with no predicted samples.\n",
      "  'precision', 'predicted', average, warn_for)\n",
      "/home/antonio/anaconda3/envs/tesi/lib/python3.6/site-packages/sklearn/metrics/classification.py:1143: UndefinedMetricWarning: F-score is ill-defined and being set to 0.0 in labels with no predicted samples.\n",
      "  'precision', 'predicted', average, warn_for)\n"
     ]
    },
    {
     "name": "stdout",
     "output_type": "stream",
     "text": [
      "\t \t \t  Spektral 100 epochs + pca\n",
      "22\n",
      "\t \t \t  Vectorize-5, PCA-1000, UMAP\n"
     ]
    },
    {
     "name": "stderr",
     "output_type": "stream",
     "text": [
      "/home/antonio/anaconda3/envs/tesi/lib/python3.6/site-packages/sklearn/metrics/classification.py:1143: UndefinedMetricWarning: Precision is ill-defined and being set to 0.0 in labels with no predicted samples.\n",
      "  'precision', 'predicted', average, warn_for)\n",
      "/home/antonio/anaconda3/envs/tesi/lib/python3.6/site-packages/sklearn/metrics/classification.py:1143: UndefinedMetricWarning: F-score is ill-defined and being set to 0.0 in labels with no predicted samples.\n",
      "  'precision', 'predicted', average, warn_for)\n"
     ]
    },
    {
     "name": "stdout",
     "output_type": "stream",
     "text": [
      "\t \t \t  Vectorize-5, PCA-1000, UMAP-3\n"
     ]
    },
    {
     "name": "stderr",
     "output_type": "stream",
     "text": [
      "/home/antonio/anaconda3/envs/tesi/lib/python3.6/site-packages/umap/spectral.py:229: UserWarning: Embedding a total of 6 separate connected components using meta-embedding (experimental)\n",
      "  n_components\n"
     ]
    },
    {
     "name": "stdout",
     "output_type": "stream",
     "text": [
      "\t \t \t  Vectorize-5, PCA-1000, UMAP-5\n",
      "\t \t \t  Vectorize-5, PCA\n"
     ]
    },
    {
     "name": "stderr",
     "output_type": "stream",
     "text": [
      "/home/antonio/anaconda3/envs/tesi/lib/python3.6/site-packages/sklearn/metrics/classification.py:1143: UndefinedMetricWarning: Precision is ill-defined and being set to 0.0 in labels with no predicted samples.\n",
      "  'precision', 'predicted', average, warn_for)\n",
      "/home/antonio/anaconda3/envs/tesi/lib/python3.6/site-packages/sklearn/metrics/classification.py:1143: UndefinedMetricWarning: F-score is ill-defined and being set to 0.0 in labels with no predicted samples.\n",
      "  'precision', 'predicted', average, warn_for)\n"
     ]
    }
   ],
   "source": [
    "datasets=[\"PROTEINS\",\"AIDS\",\"MUTAG\"]       \n",
    "res_datasets_ldp = try_datasets(datasets,1,[2,4,8],ldp=True,graphs_for_class=100)"
   ]
  },
  {
   "cell_type": "code",
   "execution_count": 14,
   "metadata": {},
   "outputs": [
    {
     "name": "stdout",
     "output_type": "stream",
     "text": [
      "PROTEINS\n",
      "                                   2      4      8    mean\n",
      "-----------------------------  -----  -----  -----  ------\n",
      "Spektral 100 epochs + umap     0.617  0.572  0.667   0.619\n",
      "Spektral 100 epochs + pca      0.448  0.467  0.465   0.46\n",
      "Vectorize-5, PCA-1000, UMAP    0.703  0.649  0.579   0.644\n",
      "Vectorize-5, PCA-1000, UMAP-3  0.59   0.51   0.601   0.567\n",
      "Vectorize-5, PCA-1000, UMAP-5  0.545  0.476  0.414   0.478\n",
      "Vectorize-5, PCA               0.53   0.619  0.621   0.59\n",
      "AIDS\n",
      "                                   2      4      8    mean\n",
      "-----------------------------  -----  -----  -----  ------\n",
      "Spektral 100 epochs + umap     0.904  0.957  0.957   0.939\n",
      "Spektral 100 epochs + pca      0.92   0.949  0.949   0.939\n",
      "Vectorize-5, PCA-1000, UMAP    0.636  0.726  0.783   0.715\n",
      "Vectorize-5, PCA-1000, UMAP-3  0.777  0.813  0.83    0.807\n",
      "Vectorize-5, PCA-1000, UMAP-5  0.663  0.709  0.655   0.676\n",
      "Vectorize-5, PCA               0.91   0.875  0.87    0.885\n",
      "MUTAG\n",
      "                                   2      4      8    mean\n",
      "-----------------------------  -----  -----  -----  ------\n",
      "Spektral 100 epochs + umap     0.793  0.805  0.845   0.814\n",
      "Spektral 100 epochs + pca      0.885  0.902  0.885   0.891\n",
      "Vectorize-5, PCA-1000, UMAP    0.84   0.895  0.778   0.838\n",
      "Vectorize-5, PCA-1000, UMAP-3  0.878  0.903  0.878   0.886\n",
      "Vectorize-5, PCA-1000, UMAP-5  0.778  0.773  0.88    0.81\n",
      "Vectorize-5, PCA               0.745  0.713  0.79    0.749\n",
      "GLOBAL WLT\n",
      "                                                         sum\n",
      "-----------------------------  --  --  --  --  --  --  -----\n",
      "Spektral 100 epochs + umap      0   3   5   4   6   5     23\n",
      "Spektral 100 epochs + pca       5   0   6   4   7   4     26\n",
      "Vectorize-5, PCA-1000, UMAP     4   3   0   3   6   1     17\n",
      "Vectorize-5, PCA-1000, UMAP-3   5   5   6   0   8   3     27\n",
      "Vectorize-5, PCA-1000, UMAP-5   3   2   2   1   0   1      9\n",
      "Vectorize-5, PCA                4   5   7   6   8   0     30\n",
      "GLOBAL RANK\n",
      "                                  2    4     8      mean\n",
      "-----------------------------  ----  ---  ----  --------\n",
      "Spektral 100 epochs + umap     11.5    9  10    10.1667\n",
      "Spektral 100 epochs + pca      11.5    7   9     9.16667\n",
      "Vectorize-5, PCA-1000, UMAP     9     15  12    12\n",
      "Vectorize-5, PCA-1000, UMAP-3   8     11   8     9\n",
      "Vectorize-5, PCA-1000, UMAP-5  16     12  16.5  14.8333\n",
      "Vectorize-5, PCA                7      9   7.5   7.83333\n"
     ]
    }
   ],
   "source": [
    "print(\"PROTEINS\")\n",
    "res_datasets_ldp[\"PROTEINS\"].summary(std=False)\n",
    "print(\"AIDS\")\n",
    "res_datasets_ldp[\"AIDS\"].summary(std=False)\n",
    "print(\"MUTAG\")\n",
    "res_datasets_ldp[\"MUTAG\"].summary(std=False)\n",
    "\n",
    "\n",
    "\n",
    "print(\"GLOBAL WLT\")\n",
    "utilities.global_wlt(res_datasets)\n",
    "print(\"GLOBAL RANK\")\n",
    "utilities.global_rank(res_datasets)"
   ]
  },
  {
   "cell_type": "code",
   "execution_count": 15,
   "metadata": {},
   "outputs": [],
   "source": [
    "import dill\n",
    "dill.dump_session('notebook_env.db')"
   ]
  },
  {
   "cell_type": "code",
   "execution_count": null,
   "metadata": {},
   "outputs": [],
   "source": []
  },
  {
   "cell_type": "code",
   "execution_count": null,
   "metadata": {},
   "outputs": [],
   "source": []
  },
  {
   "cell_type": "code",
   "execution_count": null,
   "metadata": {},
   "outputs": [],
   "source": []
  },
  {
   "cell_type": "code",
   "execution_count": null,
   "metadata": {},
   "outputs": [],
   "source": []
  },
  {
   "cell_type": "code",
   "execution_count": null,
   "metadata": {},
   "outputs": [],
   "source": []
  },
  {
   "cell_type": "code",
   "execution_count": null,
   "metadata": {},
   "outputs": [],
   "source": []
  },
  {
   "cell_type": "code",
   "execution_count": null,
   "metadata": {},
   "outputs": [],
   "source": []
  },
  {
   "cell_type": "code",
   "execution_count": null,
   "metadata": {},
   "outputs": [],
   "source": []
  },
  {
   "cell_type": "code",
   "execution_count": null,
   "metadata": {},
   "outputs": [],
   "source": []
  },
  {
   "cell_type": "code",
   "execution_count": null,
   "metadata": {},
   "outputs": [],
   "source": []
  },
  {
   "cell_type": "code",
   "execution_count": null,
   "metadata": {},
   "outputs": [],
   "source": []
  },
  {
   "cell_type": "code",
   "execution_count": null,
   "metadata": {},
   "outputs": [],
   "source": []
  },
  {
   "cell_type": "code",
   "execution_count": null,
   "metadata": {},
   "outputs": [],
   "source": []
  },
  {
   "cell_type": "code",
   "execution_count": null,
   "metadata": {},
   "outputs": [],
   "source": []
  },
  {
   "cell_type": "code",
   "execution_count": null,
   "metadata": {},
   "outputs": [],
   "source": []
  },
  {
   "cell_type": "code",
   "execution_count": null,
   "metadata": {},
   "outputs": [],
   "source": []
  },
  {
   "cell_type": "code",
   "execution_count": null,
   "metadata": {},
   "outputs": [],
   "source": []
  },
  {
   "cell_type": "code",
   "execution_count": null,
   "metadata": {},
   "outputs": [],
   "source": []
  },
  {
   "cell_type": "code",
   "execution_count": null,
   "metadata": {},
   "outputs": [],
   "source": []
  },
  {
   "cell_type": "code",
   "execution_count": null,
   "metadata": {},
   "outputs": [],
   "source": []
  },
  {
   "cell_type": "code",
   "execution_count": null,
   "metadata": {},
   "outputs": [],
   "source": []
  },
  {
   "cell_type": "code",
   "execution_count": null,
   "metadata": {},
   "outputs": [],
   "source": []
  },
  {
   "cell_type": "code",
   "execution_count": null,
   "metadata": {},
   "outputs": [],
   "source": []
  },
  {
   "cell_type": "code",
   "execution_count": 21,
   "metadata": {},
   "outputs": [
    {
     "data": {
      "text/plain": [
       "NodeView((11, 16, 3, 15, 5, 6, 2, 8, 19, 12, 7, 10, 18, 0, 17, 4, 13, 9, 14, 1))"
      ]
     },
     "execution_count": 21,
     "metadata": {},
     "output_type": "execute_result"
    }
   ],
   "source": []
  },
  {
   "cell_type": "code",
   "execution_count": 27,
   "metadata": {},
   "outputs": [],
   "source": []
  },
  {
   "cell_type": "code",
   "execution_count": null,
   "metadata": {},
   "outputs": [],
   "source": []
  },
  {
   "cell_type": "code",
   "execution_count": null,
   "metadata": {},
   "outputs": [],
   "source": []
  },
  {
   "cell_type": "code",
   "execution_count": null,
   "metadata": {},
   "outputs": [],
   "source": []
  },
  {
   "cell_type": "code",
   "execution_count": 1,
   "metadata": {},
   "outputs": [],
   "source": [
    "#dataset = [[name, graphs,labels],name, graphs,labels]]\n",
    "def try_artificial_graphs(datasets,times,dim):\n",
    "\n",
    "    results = {}\n",
    "    for dataset in datasets:\n",
    "        print(dataset[0])\n",
    "        \n",
    "        \n",
    "        graphs = dataset[1]\n",
    "        labels = dataset[2]\n",
    "        \n",
    "        \n",
    "        for g in graphs:\n",
    "            c=0\n",
    "            for n in g.nodes():\n",
    "                a = g.nodes[n]['vec']        \n",
    "                g.nodes[n]['label'] = str(a[0])\n",
    "                c=c+1\n",
    "\n",
    "        for g in graphs:\n",
    "            c=0\n",
    "            for n in g.edges():\n",
    "                a = g.edges[n]['vec']        \n",
    "                g.edges[n]['label'] = str(a[0])\n",
    "                c=c+1\n",
    "\n",
    "\n",
    "\n",
    "        max_n_nodes, n_attributes = utilities.find_shapes(graphs)\n",
    "        n_classes = len(np.unique(labels))\n",
    "\n",
    "        \n",
    "        ##### GNN 1\n",
    "        my_GNN_1 = generate_GNN(max_n_nodes,n_attributes,n_classes,\n",
    "                               batch_size=32,\n",
    "                               validation_split=0.1,\n",
    "                               epochs=100)\n",
    "\n",
    "\n",
    "        m_1 = Transformer(my_GNN_1)\n",
    "        m_2 = Transformer(umap.UMAP())\n",
    "        emb_1 = Embedder([m_1,m_2], name=\"Spektral 100 epochs + umap\")\n",
    "\n",
    "\n",
    "        ##### GNN 2\n",
    "        my_GNN_2 = generate_GNN(max_n_nodes,n_attributes,n_classes,\n",
    "                               batch_size=32,\n",
    "                               validation_split=0.1,\n",
    "                               epochs=100)\n",
    "\n",
    "\n",
    "        m_3 = Transformer(my_GNN_2)\n",
    "        m_4 = Transformer(TruncatedSVD())\n",
    "        emb_2 = Embedder([m_3,m_4], name=\"Spektral 100 epochs + pca\")\n",
    "        \n",
    "        \n",
    "        \n",
    "        #### vec pca 1000 and uma\n",
    "        vetcoriz = graph.Vectorizer(complexity = 5)\n",
    "        m_5 = Transformer(vetcoriz, has_fit = False)\n",
    "        pca = TruncatedSVD(n_components=1000)\n",
    "        m_6 = Transformer(pca)\n",
    "        uma = umap.UMAP()\n",
    "        m_7 = Transformer(uma)\n",
    "\n",
    "        emb_3 = Embedder([m_5,m_6,m_7], name=\"Vectorize-5, PCA-1000, UMAP\")\n",
    "\n",
    "        \n",
    "        #### vec pca 1000 and uma 10\n",
    "        vetcoriz = graph.Vectorizer(complexity = 5)\n",
    "        m_1_2 = Transformer(vetcoriz, has_fit = False)\n",
    "        pca = TruncatedSVD(n_components=1000)\n",
    "        m_2_2 = Transformer(pca)\n",
    "        uma = umap.UMAP(n_neighbors=3)\n",
    "        m_3_2 = Transformer(uma)\n",
    "\n",
    "        emb_3_1 = Embedder([m_1_2,m_2_2,m_3_2], name=\"Vectorize-5, PCA-1000, UMAP-3\")\n",
    "        \n",
    "        \n",
    "        \n",
    "        #### vec pca 1000 and uma 100\n",
    "        vetcoriz = graph.Vectorizer(complexity = 5)\n",
    "        m_1_3 = Transformer(vetcoriz, has_fit = False)\n",
    "        pca = TruncatedSVD(n_components=1000)\n",
    "        m_2_3 = Transformer(pca)\n",
    "        uma = umap.UMAP(n_neighbors=5)\n",
    "        m_3_3 = Transformer(uma)\n",
    "\n",
    "        emb_3_3 = Embedder([m_1_3,m_2_3,m_3_3], name=\"Vectorize-5, PCA-1000, UMAP-5\")\n",
    "        \n",
    "        \n",
    "        \n",
    "        \n",
    "\n",
    "\n",
    "\n",
    "        #### vec and pca\n",
    "        vetcoriz = graph.Vectorizer(complexity = 5)\n",
    "        m_8 = Transformer(vetcoriz, has_fit = False)\n",
    "        pca_2 = TruncatedSVD()\n",
    "        m_9 = Transformer(pca_2)\n",
    "\n",
    "        \n",
    "        emb_4 = Embedder([m_8,m_9], name=\"Vectorize-5, PCA\")\n",
    "\n",
    "\n",
    "\n",
    "        emb = [emb_1,emb_2,emb_3,emb_3_1,emb_3_3,emb_4]\n",
    "\n",
    "        vis = utilities.repeat_n_times(graphs,labels,emb,dim,times,test_size=0.3)\n",
    "        results[dataset[0]]=vis\n",
    "\n",
    "    return(results)"
   ]
  },
  {
   "cell_type": "code",
   "execution_count": 8,
   "metadata": {},
   "outputs": [],
   "source": [
    "def try_datasets(datasets,times,dim,graphs_for_class,ldp=True):\n",
    "\n",
    "    results = {}\n",
    "    for dataset in datasets:\n",
    "        print(dataset)\n",
    "\n",
    "\n",
    "        graphs, labels = ld.load_data(dataset)\n",
    "        \n",
    "        graphs, labels = utilities.sub_sampling(graphs,labels,graphs_for_class)\n",
    "        \n",
    "        if (ldp == True):\n",
    "            functions = [utilities.degree,utilities.clust_coefficient,utilities.local_degree_profile]\n",
    "            graphs = utilities.add_info_to_nodes(graphs,functions)\n",
    "\n",
    "            \n",
    "\n",
    "        max_n_nodes, n_attributes = utilities.find_shapes(graphs)\n",
    "        n_classes = len(np.unique(labels))\n",
    "\n",
    "        \n",
    "        ##### GNN 1\n",
    "        my_GNN_1 = generate_GNN(max_n_nodes,n_attributes,n_classes,\n",
    "                               batch_size=32,\n",
    "                               validation_split=0.1,\n",
    "                               epochs=100)\n",
    "\n",
    "\n",
    "        m_1 = Transformer(my_GNN_1)\n",
    "        m_2 = Transformer(umap.UMAP())\n",
    "        emb_1 = Embedder([m_1,m_2], name=\"Spektral 100 epochs + umap\")\n",
    "\n",
    "\n",
    "        ##### GNN 2\n",
    "        my_GNN_2 = generate_GNN(max_n_nodes,n_attributes,n_classes,\n",
    "                               batch_size=32,\n",
    "                               validation_split=0.1,\n",
    "                               epochs=100)\n",
    "\n",
    "\n",
    "        m_3 = Transformer(my_GNN_2)\n",
    "        m_4 = Transformer(TruncatedSVD())\n",
    "        emb_2 = Embedder([m_3,m_4], name=\"Spektral 100 epochs + pca\")\n",
    "        \n",
    "        \n",
    "        \n",
    "        #### vec pca 1000 and uma\n",
    "        vetcoriz = graph.Vectorizer(complexity = 5)\n",
    "        m_5 = Transformer(vetcoriz, has_fit = False)\n",
    "        pca = TruncatedSVD(n_components=1000)\n",
    "        m_6 = Transformer(pca)\n",
    "        uma = umap.UMAP()\n",
    "        m_7 = Transformer(uma)\n",
    "\n",
    "        emb_3 = Embedder([m_5,m_6,m_7], name=\"Vectorize-5, PCA-1000, UMAP\")\n",
    "\n",
    "        \n",
    "        #### vec pca 1000 and uma 10\n",
    "        vetcoriz = graph.Vectorizer(complexity = 5)\n",
    "        m_1_2 = Transformer(vetcoriz, has_fit = False)\n",
    "        pca = TruncatedSVD(n_components=1000)\n",
    "        m_2_2 = Transformer(pca)\n",
    "        uma = umap.UMAP(n_neighbors=3)\n",
    "        m_3_2 = Transformer(uma)\n",
    "\n",
    "        emb_3_1 = Embedder([m_1_2,m_2_2,m_3_2], name=\"Vectorize-5, PCA-1000, UMAP-3\")\n",
    "        \n",
    "        \n",
    "        \n",
    "        #### vec pca 1000 and uma 100\n",
    "        vetcoriz = graph.Vectorizer(complexity = 5)\n",
    "        m_1_3 = Transformer(vetcoriz, has_fit = False)\n",
    "        pca = TruncatedSVD(n_components=1000)\n",
    "        m_2_3 = Transformer(pca)\n",
    "        uma = umap.UMAP(n_neighbors=5)\n",
    "        m_3_3 = Transformer(uma)\n",
    "\n",
    "        emb_3_3 = Embedder([m_1_3,m_2_3,m_3_3], name=\"Vectorize-5, PCA-1000, UMAP-5\")\n",
    "        \n",
    "        \n",
    "        \n",
    "        \n",
    "\n",
    "\n",
    "\n",
    "        #### vec and pca\n",
    "        vetcoriz = graph.Vectorizer(complexity = 5)\n",
    "        m_8 = Transformer(vetcoriz, has_fit = False)\n",
    "        pca_2 = TruncatedSVD()\n",
    "        m_9 = Transformer(pca_2)\n",
    "\n",
    "        \n",
    "        emb_4 = Embedder([m_8,m_9], name=\"Vectorize-5, PCA\")\n",
    "\n",
    "\n",
    "\n",
    "        emb = [emb_1,emb_2,emb_3,emb_3_1,emb_3_3,emb_4]\n",
    "\n",
    "        vis = utilities.repeat_n_times(graphs,labels,emb,dim,times,test_size=0.3)\n",
    "        results[dataset]=vis\n",
    "\n",
    "    return(results)"
   ]
  },
  {
   "cell_type": "code",
   "execution_count": 6,
   "metadata": {},
   "outputs": [],
   "source": [
    "def generate_GNN(max_n_nodes,n_attributes,n_classes,batch_size = 32,validation_split = 0.1,epochs = 100):\n",
    "    \n",
    "\n",
    "    learning_rate = 0.001\n",
    "\n",
    "    ##### DEFINISCI MODELLO ORIGINALE\n",
    "    X_in_1_1 = Input(shape=(max_n_nodes, n_attributes))\n",
    "    filter_in_1_1 = Input((max_n_nodes, max_n_nodes))\n",
    "    gc1_1_1 = GraphAttention(32, activation='relu')([X_in_1_1, filter_in_1_1])\n",
    "    pool_1_1 = GlobalAttentionPool(128)(gc1_1_1)\n",
    "    ### last layer\n",
    "    output_1_1 = Dense(n_classes, activation='softmax')(pool_1_1)\n",
    "    model_1_1 = Model(inputs=[X_in_1_1, filter_in_1_1], outputs=output_1_1)\n",
    "    optimizer = Adam(lr=learning_rate)\n",
    "    model_1_1.compile(optimizer=optimizer, loss='categorical_crossentropy', metrics=['acc'])\n",
    "\n",
    "\n",
    "    ##### CREA IL SECONDO MODELLO\n",
    "    X_in_1_2 = Input(shape=(max_n_nodes, n_attributes))\n",
    "    filter_in_1_2 = Input((max_n_nodes, max_n_nodes))\n",
    "    gc1_1_2 = GraphAttention(32, activation='relu')([X_in_1_2, filter_in_1_2])\n",
    "    pool_1_2 = GlobalAttentionPool(128)(gc1_1_2)\n",
    "    model_1_2 = Model(inputs=[X_in_1_2, filter_in_1_2], outputs=pool_1_2)\n",
    "    model_1_2.compile(optimizer=Adam(lr=learning_rate), loss='categorical_crossentropy', metrics=['acc'])\n",
    "\n",
    "\n",
    "    my_GNN_1 = Transformer_GNN(original_model = model_1_1,\n",
    "                                      new_model = model_1_2,\n",
    "                                      batch_size = batch_size,\n",
    "                                      validation_split = validation_split,\n",
    "                                      epochs = epochs)\n",
    "    \n",
    "    \n",
    "    return(my_GNN_1)\n"
   ]
  },
  {
   "cell_type": "code",
   "execution_count": null,
   "metadata": {},
   "outputs": [],
   "source": []
  },
  {
   "cell_type": "code",
   "execution_count": null,
   "metadata": {},
   "outputs": [],
   "source": []
  }
 ],
 "metadata": {
  "kernelspec": {
   "display_name": "Python 3",
   "language": "python",
   "name": "python3"
  },
  "language_info": {
   "codemirror_mode": {
    "name": "ipython",
    "version": 3
   },
   "file_extension": ".py",
   "mimetype": "text/x-python",
   "name": "python",
   "nbconvert_exporter": "python",
   "pygments_lexer": "ipython3",
   "version": "3.6.8"
  }
 },
 "nbformat": 4,
 "nbformat_minor": 2
}
