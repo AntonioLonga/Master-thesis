{
 "cells": [
  {
   "cell_type": "code",
   "execution_count": 1,
   "metadata": {},
   "outputs": [
    {
     "name": "stderr",
     "output_type": "stream",
     "text": [
      "Using TensorFlow backend.\n"
     ]
    }
   ],
   "source": [
    "from load_data import load_data\n",
    "import utilities\n"
   ]
  },
  {
   "cell_type": "code",
   "execution_count": 269,
   "metadata": {},
   "outputs": [],
   "source": [
    "from Graph_generator import Graph_Generator\n",
    "from embedder import Transformer\n",
    "from embedder import Transformer_GNN\n",
    "from embedder import Embedder\n",
    "from sklearn.model_selection import train_test_split\n",
    "import numpy as np\n",
    "\n",
    "from keras.utils import plot_model\n",
    "from keras import losses\n",
    "from keras.optimizers import RMSprop\n",
    "\n",
    "\n",
    "from spektral.layers import GraphAttention, GlobalAttentionPool\n",
    "from spektral.utils import localpooling_filter\n",
    "from keras.layers import Input, Dense, Reshape, Flatten\n",
    "from keras.models import Model\n",
    "from keras.optimizers import Adam\n",
    "from keras.regularizers import l2\n",
    "\n",
    "\n",
    "\n",
    "\n",
    "\n",
    "n_graphs = 1000\n",
    "\n",
    "# 20 permutations\n",
    "gg = Graph_Generator(n_graphs=n_graphs,\n",
    "                     degree = 5)\n",
    "g1, na1, ea1 = gg.generate(20,10,10,1)\n",
    "g2, na2, ea2 = gg.generate(20,10,10,10)\n",
    "\n",
    "graphs, labels = gg.generate_set(g1,g2,na1, ea1,na2, ea2,13,13,plot=False)\n",
    "\n",
    "\n",
    "\n",
    "functions = [utilities.degree,utilities.clust_coefficient,utilities.local_degree_profile]\n",
    "graphs = utilities.add_info_to_nodes(graphs,functions)\n",
    "\n",
    "\n",
    "max_n_nodes, n_attributes = utilities.find_shapes(graphs)\n",
    "n_classes = len(np.unique(labels))\n",
    "\n",
    "\n",
    "graphs_train, graphs_test, labels_train, labels_test = train_test_split(graphs,labels, test_size=0.3, random_state=42)\n"
   ]
  },
  {
   "cell_type": "code",
   "execution_count": 280,
   "metadata": {},
   "outputs": [
    {
     "name": "stdout",
     "output_type": "stream",
     "text": [
      "done\n"
     ]
    }
   ],
   "source": [
    "from sklearn.decomposition import TruncatedSVD\n",
    "\n",
    "times = 1\n",
    "dim = [2]\n",
    "\n",
    "##### GNN 2\n",
    "my_GNN_3 = generate_GNN(max_n_nodes,n_attributes,n_classes,\n",
    "                       batch_size=32,\n",
    "                       validation_split=0.2,\n",
    "                       epochs=500)\n",
    "\n",
    "\n",
    "m_3 = Transformer(my_GNN_3)\n",
    "m_4 = Transformer(TruncatedSVD())\n",
    "emb_3 = Embedder([m_3,m_4], name=\"Spektral 100 epochs + pca\")\n",
    "\n",
    "emb = [emb_3]\n",
    "print(\"done\")"
   ]
  },
  {
   "cell_type": "code",
   "execution_count": 281,
   "metadata": {},
   "outputs": [
    {
     "name": "stdout",
     "output_type": "stream",
     "text": [
      "\t iteration n: 1\n",
      "\t \t dim:  2\n",
      "\t \t \t  Spektral 100 epochs + pca\n",
      "72\n"
     ]
    }
   ],
   "source": [
    "vis = utilities.repeat_n_times(graphs_train, labels_train, emb, dim, 1,test_size=0.3,seed = 11)"
   ]
  },
  {
   "cell_type": "code",
   "execution_count": 282,
   "metadata": {},
   "outputs": [
    {
     "name": "stdout",
     "output_type": "stream",
     "text": [
      "                               2    STD    mean\n",
      "-------------------------  -----  -----  ------\n",
      "Spektral 100 epochs + pca  0.753  0.081   0.417\n"
     ]
    }
   ],
   "source": [
    "vis.summary()"
   ]
  },
  {
   "cell_type": "code",
   "execution_count": 283,
   "metadata": {},
   "outputs": [],
   "source": [
    "# transformo graph_train usando spektral\n",
    "encoded_128 = m_3.transform(graphs_train)\n"
   ]
  },
  {
   "cell_type": "code",
   "execution_count": 284,
   "metadata": {},
   "outputs": [],
   "source": [
    "####### scale between -1 and 1\n",
    "from sklearn.preprocessing import MinMaxScaler\n",
    "scaler = MinMaxScaler(copy=True, feature_range=(-0.5, 0.5))\n",
    "scaler.fit(encoded_128)\n",
    "encoded_128_norm = scaler.transform(encoded_128)\n"
   ]
  },
  {
   "cell_type": "code",
   "execution_count": 285,
   "metadata": {},
   "outputs": [
    {
     "name": "stdout",
     "output_type": "stream",
     "text": [
      "_________________________________________________________________\n",
      "Layer (type)                 Output Shape              Param #   \n",
      "=================================================================\n",
      "input_86 (InputLayer)        (None, 128)               0         \n",
      "_________________________________________________________________\n",
      "dense_326 (Dense)            (None, 64)                8256      \n",
      "_________________________________________________________________\n",
      "dense_327 (Dense)            (None, 16)                1040      \n",
      "_________________________________________________________________\n",
      "dense_328 (Dense)            (None, 4)                 68        \n",
      "_________________________________________________________________\n",
      "dense_329 (Dense)            (None, 2)                 10        \n",
      "_________________________________________________________________\n",
      "dense_330 (Dense)            (None, 4)                 12        \n",
      "_________________________________________________________________\n",
      "dense_331 (Dense)            (None, 16)                80        \n",
      "_________________________________________________________________\n",
      "dense_332 (Dense)            (None, 64)                1088      \n",
      "_________________________________________________________________\n",
      "dense_333 (Dense)            (None, 128)               8320      \n",
      "=================================================================\n",
      "Total params: 18,874\n",
      "Trainable params: 18,874\n",
      "Non-trainable params: 0\n",
      "_________________________________________________________________\n"
     ]
    }
   ],
   "source": [
    "from keras.utils import plot_model\n",
    "from keras import losses\n",
    "from keras.optimizers import RMSprop\n",
    "from keras.initializers import RandomNormal\n",
    "\n",
    "\n",
    "\n",
    "iniz = RandomNormal(mean=0.0, stddev=0.1)\n",
    "\n",
    "X_in = Input(shape=(128,))\n",
    "dense_64 = Dense(64, activation='relu',kernel_initializer=iniz)(X_in)\n",
    "dense_16 = Dense(16, activation='relu',kernel_initializer=iniz)(dense_64)\n",
    "dense_4 = Dense(4, activation='relu',kernel_initializer=iniz)(dense_16)\n",
    "\n",
    "dense_2 = Dense(2, activation='softmax',kernel_initializer=iniz)(dense_4)\n",
    "\n",
    "dense_4_2 = Dense(4, activation='relu',kernel_initializer=iniz)(dense_2)\n",
    "dense_16_2 = Dense(16, activation='relu',kernel_initializer=iniz)(dense_4_2)\n",
    "dense_64_2 = Dense(64, activation='relu',kernel_initializer=iniz)(dense_16_2)\n",
    "out = Dense(128,  activation='relu',kernel_initializer=iniz)(dense_64_2)\n",
    "\n",
    "model = Model(inputs=X_in, outputs=out)\n",
    "model.compile(optimizer=RMSprop(), loss=losses.mean_squared_error)\n",
    "\n",
    "model.summary()\n",
    "#plot_model(model, to_file='model_plot.png', show_shapes=True, show_layer_names=True)\n",
    "\n",
    "model_history = model.fit(encoded_128_norm,encoded_128_norm,\n",
    "                batch_size=32,\n",
    "                validation_split=0.2,\n",
    "                epochs=500,\n",
    "                verbose=False)"
   ]
  },
  {
   "cell_type": "code",
   "execution_count": 286,
   "metadata": {},
   "outputs": [
    {
     "data": {
      "image/png": "[encoded data removed]",
      "text/plain": [
       "<Figure size 432x288 with 1 Axes>"
      ]
     },
     "metadata": {
      "needs_background": "light"
     },
     "output_type": "display_data"
    },
    {
     "name": "stdout",
     "output_type": "stream",
     "text": [
      "0.03154402311359133\n",
      "0.02301698832639626\n"
     ]
    }
   ],
   "source": [
    "import matplotlib.pyplot as plt\n",
    "\n",
    "loss = model_history.history['loss']\n",
    "\n",
    "val_loss = model_history.history['val_loss']\n",
    "\n",
    "epochs = range(len(loss))\n",
    "plt.figure()\n",
    "plt.plot(epochs, loss, 'bo', label='Training loss')\n",
    "plt.plot(epochs, val_loss, 'b', label='Validation loss')\n",
    "plt.title('Training and validation loss')\n",
    "plt.legend()\n",
    "plt.show()\n",
    "\n",
    "print(np.max(loss))\n",
    "print(np.min(loss))\n",
    "\n",
    "\n",
    "#0.031558116951159065\n",
    "#0.025152399071625302"
   ]
  },
  {
   "cell_type": "code",
   "execution_count": 287,
   "metadata": {},
   "outputs": [],
   "source": [
    "encoded_128_test = m_3.transform(graphs_test)\n",
    "len(encoded_128_test)\n",
    "\n",
    "####### scale between -1 and 1\n",
    "encoded_128_test_norm = scaler.transform(encoded_128_test)\n"
   ]
  },
  {
   "cell_type": "code",
   "execution_count": 288,
   "metadata": {},
   "outputs": [
    {
     "name": "stdout",
     "output_type": "stream",
     "text": [
      "[[0.24114841 0.7588516 ]\n",
      " [0.31262392 0.6873761 ]\n",
      " [0.30888796 0.69111204]\n",
      " [0.29655164 0.7034484 ]\n",
      " [0.8591416  0.14085843]\n",
      " [0.05620674 0.94379324]\n",
      " [0.3229841  0.67701596]\n",
      " [0.3809553  0.6190447 ]\n",
      " [0.42666903 0.57333094]\n",
      " [0.76191163 0.23808841]]\n"
     ]
    },
    {
     "data": {
      "text/plain": [
       "(0.035666086, 0.9817386)"
      ]
     },
     "execution_count": 288,
     "metadata": {},
     "output_type": "execute_result"
    },
    {
     "data": {
      "image/png": "[encoded data removed]",
      "text/plain": [
       "<Figure size 432x288 with 1 Axes>"
      ]
     },
     "metadata": {
      "needs_background": "light"
     },
     "output_type": "display_data"
    }
   ],
   "source": [
    "X_in_dec = Input(shape=(128,))\n",
    "\n",
    "dense_64_dec = Dense(64, activation='relu')(X_in_dec)\n",
    "dense_16_dec = Dense(16, activation='relu')(dense_64_dec)\n",
    "dense_4_dec = Dense(4, activation='relu')(dense_16_dec)\n",
    "\n",
    "dense_2_dec = Dense(2, activation='softmax')(dense_4_dec)\n",
    "#dense_2_dec = Dense(2, activation='relu')(X_in_dec)\n",
    "\n",
    "\n",
    "model_dec = Model(inputs=[X_in_dec], outputs=dense_2_dec)\n",
    "model_dec.compile(optimizer=RMSprop(), loss=losses.mean_squared_error)\n",
    "\n",
    "model_dec.set_weights(model.get_weights())\n",
    "\n",
    "\n",
    "res = model_dec.predict(encoded_128_test_norm)\n",
    "print(res[0:10])\n",
    "\n",
    "plt.scatter(res[:,0],res[:,1])\n",
    "plt.xlim(np.min(res[:,0]),np.max(res[:,0]))\n",
    "plt.ylim(np.min(res[:,1]),np.max(res[:,1]))"
   ]
  },
  {
   "cell_type": "code",
   "execution_count": 290,
   "metadata": {},
   "outputs": [
    {
     "name": "stdout",
     "output_type": "stream",
     "text": [
      "                               2    STD    mean\n",
      "-------------------------  -----  -----  ------\n",
      "spektral 100 epoch + auto  0.793   0.07   0.432\n",
      "                               2    STD    mean\n",
      "-------------------------  -----  -----  ------\n",
      "Spektral 100 epochs + pca  0.753  0.081   0.417\n"
     ]
    }
   ],
   "source": [
    "from sklearn.neighbors import KNeighborsClassifier\n",
    "from evaluator import Evaluator\n",
    "from visualizator import Visualizator\n",
    "\n",
    "viss = Visualizator([2],1,[\"spektral 100 epoch + auto\"])\n",
    "\n",
    "\n",
    "evaluator = Evaluator(KNeighborsClassifier(n_neighbors = 1))\n",
    "acc, pre, rec, f = evaluator.performance_with_kfold(res,labels_test)\n",
    "\n",
    "\n",
    "viss.add_metrics(acc,pre,rec,f,0,0)\n",
    "\n",
    "viss.summary()\n",
    "vis.summary()"
   ]
  },
  {
   "cell_type": "code",
   "execution_count": 258,
   "metadata": {},
   "outputs": [
    {
     "name": "stdout",
     "output_type": "stream",
     "text": [
      "                              2    STD    mean\n",
      "-------------------------  ----  -----  ------\n",
      "spektral 100 epoch + auto  0.62  0.079    0.35\n",
      "                              2    STD    mean\n",
      "-------------------------  ----  -----  ------\n",
      "Spektral 100 epochs + pca  0.64  0.082   0.361\n"
     ]
    }
   ],
   "source": [
    "'''\n",
    "                             2    STD    mean\n",
    "-------------------------  ---  -----  ------\n",
    "spektral 100 epoch + auto  0.8  0.067   0.434\n",
    "                               2    STD    mean\n",
    "-------------------------  -----  -----  ------\n",
    "Spektral 100 epochs + pca  0.771  0.084   0.428\n",
    "'''\n",
    "\n",
    "\n",
    "\n",
    "\n",
    "from sklearn.neighbors import KNeighborsClassifier\n",
    "from evaluator import Evaluator\n",
    "from visualizator import Visualizator\n",
    "\n",
    "viss = Visualizator([2],1,[\"spektral 100 epoch + auto\"])\n",
    "\n",
    "\n",
    "evaluator = Evaluator(KNeighborsClassifier(n_neighbors = 1))\n",
    "acc, pre, rec, f = evaluator.performance_with_kfold(res,labels_test)\n",
    "\n",
    "\n",
    "viss.add_metrics(acc,pre,rec,f,0,0)\n",
    "\n",
    "viss.summary()\n",
    "vis.summary()"
   ]
  },
  {
   "cell_type": "code",
   "execution_count": null,
   "metadata": {},
   "outputs": [],
   "source": []
  },
  {
   "cell_type": "code",
   "execution_count": null,
   "metadata": {},
   "outputs": [],
   "source": []
  },
  {
   "cell_type": "code",
   "execution_count": null,
   "metadata": {},
   "outputs": [],
   "source": []
  },
  {
   "cell_type": "code",
   "execution_count": 5,
   "metadata": {},
   "outputs": [],
   "source": [
    "from embedder import Transformer_GNN\n",
    "def generate_GNN(max_n_nodes,n_attributes,n_classes,batch_size = 32,validation_split = 0.1,epochs = 100,verbose=0):\n",
    "    \n",
    "\n",
    "    learning_rate = 0.001\n",
    "    l2_reg = 5e-4  \n",
    "\n",
    "    ##### DEFINISCI MODELLO ORIGINALE\n",
    "    X_in_1_1 = Input(shape=(max_n_nodes, n_attributes))\n",
    "    filter_in_1_1 = Input((max_n_nodes, max_n_nodes))\n",
    "    gc1_1_1 = GraphAttention(32, activation='relu', kernel_regularizer=l2(l2_reg))([X_in_1_1, filter_in_1_1])\n",
    "    gc2_1_1 = GraphAttention(32, activation='relu', kernel_regularizer=l2(l2_reg))([gc1_1_1, filter_in_1_1])\n",
    "    pool_1_1 = GlobalAttentionPool(128)(gc2_1_1)\n",
    "    output_1_1 = Dense(n_classes, activation='softmax')(pool_1_1)\n",
    "    model_1_1 = Model(inputs=[X_in_1_1, filter_in_1_1], outputs=output_1_1)\n",
    "    optimizer = Adam(lr=learning_rate)\n",
    "    model_1_1.compile(optimizer=optimizer, loss='categorical_crossentropy', metrics=['acc'])\n",
    "\n",
    "\n",
    "    ##### CREA IL SECONDO MODELLO\n",
    "    X_in_1_2 = Input(shape=(max_n_nodes, n_attributes))\n",
    "    filter_in_1_2 = Input((max_n_nodes, max_n_nodes))\n",
    "    gc1_1_2 = GraphAttention(32, activation='relu', kernel_regularizer=l2(l2_reg))([X_in_1_2, filter_in_1_2])\n",
    "    gc2_1_2 = GraphAttention(32, activation='relu', kernel_regularizer=l2(l2_reg))([gc1_1_2, filter_in_1_2])\n",
    "    pool_1_2 = GlobalAttentionPool(128)(gc2_1_2)\n",
    "    model_1_2 = Model(inputs=[X_in_1_2, filter_in_1_2], outputs=pool_1_2)\n",
    "    model_1_2.compile(optimizer=Adam(lr=learning_rate), loss='categorical_crossentropy', metrics=['acc'])\n",
    "\n",
    "\n",
    "    my_GNN_1 = Transformer_GNN(original_model = model_1_1,\n",
    "                                      new_model = model_1_2,\n",
    "                                      batch_size = batch_size,\n",
    "                                      validation_split = validation_split,\n",
    "                                      epochs = epochs,\n",
    "                                      verbose=verbose)\n",
    "    \n",
    "    \n",
    "    return(my_GNN_1)\n",
    "\n"
   ]
  },
  {
   "cell_type": "code",
   "execution_count": null,
   "metadata": {},
   "outputs": [],
   "source": []
  },
  {
   "cell_type": "code",
   "execution_count": null,
   "metadata": {},
   "outputs": [],
   "source": []
  },
  {
   "cell_type": "code",
   "execution_count": null,
   "metadata": {},
   "outputs": [],
   "source": []
  }
 ],
 "metadata": {
  "kernelspec": {
   "display_name": "Python 3",
   "language": "python",
   "name": "python3"
  },
  "language_info": {
   "codemirror_mode": {
    "name": "ipython",
    "version": 3
   },
   "file_extension": ".py",
   "mimetype": "text/x-python",
   "name": "python",
   "nbconvert_exporter": "python",
   "pygments_lexer": "ipython3",
   "version": "3.6.8"
  }
 },
 "nbformat": 4,
 "nbformat_minor": 2
}
